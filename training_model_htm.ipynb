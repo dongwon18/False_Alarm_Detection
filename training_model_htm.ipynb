{
 "cells": [
  {
   "cell_type": "code",
   "execution_count": 1,
   "source": [
    "import pandas as pd\r\n",
    "import numpy as np\r\n",
    "from htm.bindings.sdr import SDR\r\n",
    "from htm.algorithms import SpatialPooler, Classifier\r\n",
    "from htm.algorithms import TemporalMemory as TM"
   ],
   "outputs": [],
   "metadata": {}
  },
  {
   "cell_type": "code",
   "execution_count": 2,
   "source": [
    "day2 = pd.read_csv('D:/2021\\하계코옵/업무폴더/16_Dataset/archive/PRONTO benchmark case study/Pre-processed data/Aligned and labelled alarm and process data/Testday2_merged.csv')\r\n",
    "day3 = pd.read_csv('D:/2021\\하계코옵/업무폴더/16_Dataset/archive/PRONTO benchmark case study/Pre-processed data/Aligned and labelled alarm and process data/Testday3_merged.csv')\r\n",
    "day4 = pd.read_csv('D:/2021\\하계코옵/업무폴더/16_Dataset/archive/PRONTO benchmark case study/Pre-processed data/Aligned and labelled alarm and process data./Testday4_merged.csv')\r\n",
    "data_arr = pd.concat([day2, day3, day4], axis = 0, ignore_index=True, join = 'inner')"
   ],
   "outputs": [],
   "metadata": {}
  },
  {
   "cell_type": "code",
   "execution_count": 3,
   "source": [
    "data_arr.shape"
   ],
   "outputs": [
    {
     "output_type": "execute_result",
     "data": {
      "text/plain": [
       "(45420, 29)"
      ]
     },
     "metadata": {},
     "execution_count": 3
    }
   ],
   "metadata": {}
  },
  {
   "cell_type": "code",
   "execution_count": 4,
   "source": [
    "data_arr.columns"
   ],
   "outputs": [
    {
     "output_type": "execute_result",
     "data": {
      "text/plain": [
       "Index(['FIC301', 'FIC302', 'LI405', 'PT312', 'VC303', 'VC401', 'VC403',\n",
       "       'VC404', 'VC405', 'VC406', 'VLV303', 'AirIn', 'Air.T', 'Air.P',\n",
       "       'WaterIn', 'Water.T', 'Water.Density', 'Mixture.zone.P',\n",
       "       'riser.outlet.P', 'P.topsep', 'FR.topsep.gas', 'FR.topsep.liquid',\n",
       "       'P_3phase', 'Air.Valve', 'Water.level', 'Water.coalescer',\n",
       "       'Water.level.valve', 'water.tank.level', 'Fault'],\n",
       "      dtype='object')"
      ]
     },
     "metadata": {},
     "execution_count": 4
    }
   ],
   "metadata": {}
  },
  {
   "cell_type": "markdown",
   "source": [
    "## failure"
   ],
   "metadata": {}
  },
  {
   "cell_type": "code",
   "execution_count": 5,
   "source": [
    "input_arr1 = data_arr.loc[:, 'FIC301':'water.tank.level']\r\n",
    "target_arr1 = data_arr.loc[:, 'Fault']"
   ],
   "outputs": [],
   "metadata": {}
  },
  {
   "cell_type": "code",
   "execution_count": 6,
   "source": [
    "input_arr1.shape"
   ],
   "outputs": [
    {
     "output_type": "execute_result",
     "data": {
      "text/plain": [
       "(45420, 17)"
      ]
     },
     "metadata": {},
     "execution_count": 6
    }
   ],
   "metadata": {}
  },
  {
   "cell_type": "code",
   "execution_count": 7,
   "source": [
    "target_arr1[target_arr1 == 'Normal'] = 0\r\n",
    "target_arr1[target_arr1 == 'Air blockage'] = 1\r\n",
    "target_arr1[target_arr1 == 'Air leakage'] = 2\r\n",
    "target_arr1[target_arr1 == 'Diverted flow'] = 3\r\n",
    "target_arr1[target_arr1 == 'Slugging'] = 4"
   ],
   "outputs": [
    {
     "output_type": "stream",
     "name": "stderr",
     "text": [
      "C:\\Users\\user\\anaconda3\\envs\\htm\\lib\\site-packages\\ipykernel_launcher.py:1: SettingWithCopyWarning: \n",
      "A value is trying to be set on a copy of a slice from a DataFrame\n",
      "\n",
      "See the caveats in the documentation: https://pandas.pydata.org/pandas-docs/stable/user_guide/indexing.html#returning-a-view-versus-a-copy\n",
      "  \"\"\"Entry point for launching an IPython kernel.\n",
      "C:\\Users\\user\\anaconda3\\envs\\htm\\lib\\site-packages\\ipykernel_launcher.py:2: SettingWithCopyWarning: \n",
      "A value is trying to be set on a copy of a slice from a DataFrame\n",
      "\n",
      "See the caveats in the documentation: https://pandas.pydata.org/pandas-docs/stable/user_guide/indexing.html#returning-a-view-versus-a-copy\n",
      "  \n",
      "C:\\Users\\user\\anaconda3\\envs\\htm\\lib\\site-packages\\ipykernel_launcher.py:3: SettingWithCopyWarning: \n",
      "A value is trying to be set on a copy of a slice from a DataFrame\n",
      "\n",
      "See the caveats in the documentation: https://pandas.pydata.org/pandas-docs/stable/user_guide/indexing.html#returning-a-view-versus-a-copy\n",
      "  This is separate from the ipykernel package so we can avoid doing imports until\n",
      "C:\\Users\\user\\anaconda3\\envs\\htm\\lib\\site-packages\\ipykernel_launcher.py:4: SettingWithCopyWarning: \n",
      "A value is trying to be set on a copy of a slice from a DataFrame\n",
      "\n",
      "See the caveats in the documentation: https://pandas.pydata.org/pandas-docs/stable/user_guide/indexing.html#returning-a-view-versus-a-copy\n",
      "  after removing the cwd from sys.path.\n",
      "C:\\Users\\user\\anaconda3\\envs\\htm\\lib\\site-packages\\ipykernel_launcher.py:5: SettingWithCopyWarning: \n",
      "A value is trying to be set on a copy of a slice from a DataFrame\n",
      "\n",
      "See the caveats in the documentation: https://pandas.pydata.org/pandas-docs/stable/user_guide/indexing.html#returning-a-view-versus-a-copy\n",
      "  \"\"\"\n"
     ]
    }
   ],
   "metadata": {}
  },
  {
   "cell_type": "code",
   "execution_count": 8,
   "source": [
    "input_data1 = input_arr1.to_numpy()\r\n",
    "target_data1 = target_arr1.to_numpy(dtype = np.int)"
   ],
   "outputs": [
    {
     "output_type": "stream",
     "name": "stderr",
     "text": [
      "C:\\Users\\user\\anaconda3\\envs\\htm\\lib\\site-packages\\ipykernel_launcher.py:2: DeprecationWarning: `np.int` is a deprecated alias for the builtin `int`. To silence this warning, use `int` by itself. Doing this will not modify any behavior and is safe. When replacing `np.int`, you may wish to use e.g. `np.int64` or `np.int32` to specify the precision. If you wish to review your current use, check the release note link for additional information.\n",
      "Deprecated in NumPy 1.20; for more details and guidance: https://numpy.org/devdocs/release/1.20.0-notes.html#deprecations\n",
      "  \n"
     ]
    }
   ],
   "metadata": {}
  },
  {
   "cell_type": "code",
   "execution_count": 9,
   "source": [
    "test_index = int(input_data1.shape[0] * 0.8)"
   ],
   "outputs": [],
   "metadata": {}
  },
  {
   "cell_type": "code",
   "execution_count": 10,
   "source": [
    "input_data1 = input_data1.reshape(-1, 28, 1)"
   ],
   "outputs": [],
   "metadata": {}
  },
  {
   "cell_type": "code",
   "execution_count": 11,
   "source": [
    "train_input1 = input_data1[:test_index, :]\r\n",
    "test_input1 = input_data1[test_index:,:] \r\n",
    "train_target1 = target_data1[:test_index]\r\n",
    "test_target1 = target_data1[test_index: ]\r\n",
    "\r\n",
    "print(train_input1.shape, test_input1.shape, train_target1.shape, test_target1.shape)"
   ],
   "outputs": [
    {
     "output_type": "stream",
     "name": "stdout",
     "text": [
      "(36336, 17, 1) (9084, 17, 1) (36336,) (9084,)\n"
     ]
    }
   ],
   "metadata": {}
  },
  {
   "cell_type": "code",
   "execution_count": 12,
   "source": [
    "parameters = {\r\n",
    "    'potentialRadius': 3,\r\n",
    "    'boostStrength': 7.0,\r\n",
    "    'columnDimensions': [50, 50],\r\n",
    "    'dutyCyclePeriod': 1402,\r\n",
    "    'localAreaDensity': 0.1,\r\n",
    "    'minPctOverlapDutyCycle': 0.2,\r\n",
    "    'potentialPct': 0.1,\r\n",
    "    'stimulusThreshold': 6,\r\n",
    "    'synPermActiveInc': 0.14,\r\n",
    "    'synPermConnected': 0.5,\r\n",
    "    'synPermInactiveDec': 0.02\r\n",
    "}"
   ],
   "outputs": [],
   "metadata": {}
  },
  {
   "cell_type": "code",
   "execution_count": 13,
   "source": [
    "def encode(data, out):\r\n",
    "    out.dense = data >= np.mean(data)\r\n"
   ],
   "outputs": [],
   "metadata": {}
  },
  {
   "cell_type": "code",
   "execution_count": 14,
   "source": [
    "enc = SDR([28, 1])\r\n",
    "sp = SpatialPooler(\r\n",
    "    inputDimensions            = enc.dimensions,\r\n",
    "    columnDimensions           = parameters['columnDimensions'],\r\n",
    "    potentialRadius            = parameters['potentialRadius'],\r\n",
    "    potentialPct               = parameters['potentialPct'],\r\n",
    "    globalInhibition           = True,\r\n",
    "    localAreaDensity           = parameters['localAreaDensity'],\r\n",
    "    stimulusThreshold          = int(round(parameters['stimulusThreshold'])),\r\n",
    "    synPermInactiveDec         = parameters['synPermInactiveDec'],\r\n",
    "    synPermActiveInc           = parameters['synPermActiveInc'],\r\n",
    "    synPermConnected           = parameters['synPermConnected'],\r\n",
    "    minPctOverlapDutyCycle     = parameters['minPctOverlapDutyCycle'],\r\n",
    "    dutyCyclePeriod            = int(round(parameters['dutyCyclePeriod'])),\r\n",
    "    boostStrength              = parameters['boostStrength'],\r\n",
    "    seed                       = 0, # this is important, 0=\"random\" seed which changes on each invocation\r\n",
    "    spVerbosity                = 99,\r\n",
    "    wrapAround                 = False\r\n",
    ")\r\n",
    "columns = SDR(sp.getColumnDimensions())\r\n",
    "sdrc = Classifier()"
   ],
   "outputs": [
    {
     "output_type": "stream",
     "name": "stdout",
     "text": [
      "------------CPP SpatialPooler Parameters ------------------\n",
      "iterationNum                = 0\n",
      "iterationLearnNum           = 0\n",
      "numInputs                   = 17\n",
      "numColumns                  = 2500\n",
      "numActiveColumnsPerInhArea  = 0\n",
      "potentialPct                = 0.1\n",
      "globalInhibition            = 1\n",
      "localAreaDensity            = 0.1\n",
      "stimulusThreshold           = 6\n",
      "synPermActiveInc            = 0.14\n",
      "synPermInactiveDec          = 0.02\n",
      "synPermConnected            = 0.5\n",
      "minPctOverlapDutyCycles     = 0.2\n",
      "dutyCyclePeriod             = 1402\n",
      "boostStrength               = 7\n",
      "spVerbosity                 = 99\n",
      "wrapAround                  = 0\n",
      "version                     = 2\n",
      "CPP SP seed                 = 0\n"
     ]
    }
   ],
   "metadata": {}
  },
  {
   "cell_type": "code",
   "execution_count": 15,
   "source": [
    "for i in range(len(train_input1)):\r\n",
    "    #enc.dense = train_input1[i]\r\n",
    "    encode(train_input1[i], enc)\r\n",
    "    sp.compute(enc, True, columns)\r\n",
    "    sdrc.learn(columns, train_target1[i])"
   ],
   "outputs": [],
   "metadata": {}
  },
  {
   "cell_type": "code",
   "execution_count": 16,
   "source": [
    "print(enc.dense, train_input1[0])"
   ],
   "outputs": [
    {
     "output_type": "stream",
     "name": "stdout",
     "text": [
      "[[1]\n",
      " [0]\n",
      " [0]\n",
      " [0]\n",
      " [0]\n",
      " [1]\n",
      " [0]\n",
      " [0]\n",
      " [0]\n",
      " [0]\n",
      " [0]\n",
      " [0]\n",
      " [0]\n",
      " [0]\n",
      " [1]\n",
      " [0]\n",
      " [0]] [[1.21053596e+02]\n",
      " [1.56816597e+01]\n",
      " [1.30110705e+00]\n",
      " [9.63085290e-02]\n",
      " [2.37480793e+01]\n",
      " [9.97596497e+02]\n",
      " [1.24009705e+00]\n",
      " [1.02590704e+00]\n",
      " [1.02717495e+00]\n",
      " [4.90892000e-04]\n",
      " [6.48449060e-02]\n",
      " [1.00591600e+00]\n",
      " [2.50923100e+01]\n",
      " [6.22431107e+01]\n",
      " [9.86426773e+01]\n",
      " [2.25735593e+00]\n",
      " [1.44312096e+00]]\n"
     ]
    }
   ],
   "metadata": {}
  },
  {
   "cell_type": "code",
   "execution_count": 17,
   "source": [
    "print(str(sp))"
   ],
   "outputs": [
    {
     "output_type": "stream",
     "name": "stdout",
     "text": [
      "Spatial Pooler Connections:\n",
      "    Inputs (17) ~> Outputs (2500) via Segments (2500)\n",
      "    Segments on Cell Min/Mean/Max 1 / 1 / 1\n",
      "    Potential Synapses on Segment Min/Mean/Max 0 / 0.88 / 1\n",
      "    Connected Synapses on Segment Min/Mean/Max 0 / 0.88 / 1\n",
      "    Synapses Dead (0%) Saturated (0.852727%)\n",
      "    Synapses pruned (0%) Segments pruned (0%)\n",
      "    Buffer for destroyed synapses: 0    Buffer for destroyed segments: 0\n",
      "\n"
     ]
    }
   ],
   "metadata": {}
  },
  {
   "cell_type": "code",
   "execution_count": 18,
   "source": [
    "score = 0\r\n",
    "for i in range(len(train_input1)):\r\n",
    "    encode(train_input1[i], enc)\r\n",
    "    sp.compute(enc, False, columns)\r\n",
    "    if(train_target1[i] == np.argmax(sdrc.infer(columns))):\r\n",
    "        score += 1\r\n",
    "score = score / len(train_input1)"
   ],
   "outputs": [],
   "metadata": {}
  },
  {
   "cell_type": "code",
   "execution_count": 19,
   "source": [
    "print(score)"
   ],
   "outputs": [
    {
     "output_type": "stream",
     "name": "stdout",
     "text": [
      "0.16785006605019814\n"
     ]
    }
   ],
   "metadata": {}
  },
  {
   "cell_type": "code",
   "execution_count": 20,
   "source": [
    "score = 0\r\n",
    "for i in range(len(test_input1)):\r\n",
    "    encode(train_input1[i], enc)\r\n",
    "    sp.compute(enc, False, columns)\r\n",
    "    if(test_target1[i] == np.argmax(sdrc.infer(columns))):\r\n",
    "        score += 1\r\n",
    "score = score / len(test_input1)"
   ],
   "outputs": [],
   "metadata": {}
  },
  {
   "cell_type": "code",
   "execution_count": 21,
   "source": [
    "print(score)"
   ],
   "outputs": [
    {
     "output_type": "stream",
     "name": "stdout",
     "text": [
      "0.6384852487890798\n"
     ]
    }
   ],
   "metadata": {}
  },
  {
   "cell_type": "code",
   "execution_count": 22,
   "source": [
    "enc = SDR(train_input1.shape[0] * train_input1.shape[1])"
   ],
   "outputs": [],
   "metadata": {}
  },
  {
   "cell_type": "code",
   "execution_count": 23,
   "source": [
    "for i in range(train_input1.shape[0]):\r\n",
    "    for j in range(train_input1.shape[1]):\r\n",
    "        enc.dense = train_input1[i, j]"
   ],
   "outputs": [
    {
     "output_type": "error",
     "ename": "RuntimeError",
     "evalue": "Exception: py_SDR.cpp(157) message: CHECK FAILED: \"(UInt) buf.shape[0] == self.size\" Bad input array size! expected 617712, got 1",
     "traceback": [
      "\u001b[1;31m---------------------------------------------------------------------------\u001b[0m",
      "\u001b[1;31mRuntimeError\u001b[0m                              Traceback (most recent call last)",
      "\u001b[1;32m<ipython-input-23-0af86bc4d9fd>\u001b[0m in \u001b[0;36m<module>\u001b[1;34m\u001b[0m\n\u001b[0;32m      1\u001b[0m \u001b[1;32mfor\u001b[0m \u001b[0mi\u001b[0m \u001b[1;32min\u001b[0m \u001b[0mrange\u001b[0m\u001b[1;33m(\u001b[0m\u001b[0mtrain_input1\u001b[0m\u001b[1;33m.\u001b[0m\u001b[0mshape\u001b[0m\u001b[1;33m[\u001b[0m\u001b[1;36m0\u001b[0m\u001b[1;33m]\u001b[0m\u001b[1;33m)\u001b[0m\u001b[1;33m:\u001b[0m\u001b[1;33m\u001b[0m\u001b[1;33m\u001b[0m\u001b[0m\n\u001b[0;32m      2\u001b[0m     \u001b[1;32mfor\u001b[0m \u001b[0mj\u001b[0m \u001b[1;32min\u001b[0m \u001b[0mrange\u001b[0m\u001b[1;33m(\u001b[0m\u001b[0mtrain_input1\u001b[0m\u001b[1;33m.\u001b[0m\u001b[0mshape\u001b[0m\u001b[1;33m[\u001b[0m\u001b[1;36m1\u001b[0m\u001b[1;33m]\u001b[0m\u001b[1;33m)\u001b[0m\u001b[1;33m:\u001b[0m\u001b[1;33m\u001b[0m\u001b[1;33m\u001b[0m\u001b[0m\n\u001b[1;32m----> 3\u001b[1;33m         \u001b[0menc\u001b[0m\u001b[1;33m.\u001b[0m\u001b[0mdense\u001b[0m \u001b[1;33m=\u001b[0m \u001b[0mtrain_input1\u001b[0m\u001b[1;33m[\u001b[0m\u001b[0mi\u001b[0m\u001b[1;33m,\u001b[0m \u001b[0mj\u001b[0m\u001b[1;33m]\u001b[0m\u001b[1;33m\u001b[0m\u001b[1;33m\u001b[0m\u001b[0m\n\u001b[0m",
      "\u001b[1;31mRuntimeError\u001b[0m: Exception: py_SDR.cpp(157) message: CHECK FAILED: \"(UInt) buf.shape[0] == self.size\" Bad input array size! expected 617712, got 1"
     ]
    }
   ],
   "metadata": {}
  },
  {
   "cell_type": "code",
   "execution_count": 25,
   "source": [
    "train_flatten = train_input1.reshape(-1)\r\n",
    "print(train_flatten.shape)"
   ],
   "outputs": [
    {
     "output_type": "stream",
     "name": "stdout",
     "text": [
      "(617712,)\n"
     ]
    }
   ],
   "metadata": {}
  },
  {
   "cell_type": "code",
   "execution_count": 26,
   "source": [
    "enc.dense = train_flatten"
   ],
   "outputs": [],
   "metadata": {}
  },
  {
   "cell_type": "code",
   "execution_count": 34,
   "source": [
    "enc = SDR([17, 1])"
   ],
   "outputs": [],
   "metadata": {}
  },
  {
   "cell_type": "code",
   "execution_count": 35,
   "source": [
    "tm = TM(columnDimensions = (enc.size,),\r\n",
    "        cellsPerColumn=5,       # default: 32\r\n",
    "        minThreshold= 1,         # default: 10\r\n",
    "        activationThreshold=1,  # default: 13\r\n",
    "        initialPermanence=0.5,  # default: 0.21\r\n",
    "        )"
   ],
   "outputs": [],
   "metadata": {}
  },
  {
   "cell_type": "code",
   "execution_count": 36,
   "source": [
    "train_input1.shape"
   ],
   "outputs": [
    {
     "output_type": "execute_result",
     "data": {
      "text/plain": [
       "(36336, 17, 1)"
      ]
     },
     "metadata": {},
     "execution_count": 36
    }
   ],
   "metadata": {}
  },
  {
   "cell_type": "code",
   "execution_count": 37,
   "source": [
    "for i in range(len(train_input1)):\r\n",
    "    enc.dense = train_input1[i]\r\n",
    "    tm.compute(enc, True)\r\n",
    "    "
   ],
   "outputs": [
    {
     "output_type": "error",
     "ename": "RuntimeError",
     "evalue": "Exception: Sdr.cpp(368) message: CHECK FAILED: \"inputs[i]->dimensions == dimensions\" ",
     "traceback": [
      "\u001b[1;31m---------------------------------------------------------------------------\u001b[0m",
      "\u001b[1;31mRuntimeError\u001b[0m                              Traceback (most recent call last)",
      "\u001b[1;32m<ipython-input-37-c8db041f694f>\u001b[0m in \u001b[0;36m<module>\u001b[1;34m\u001b[0m\n\u001b[0;32m      1\u001b[0m \u001b[1;32mfor\u001b[0m \u001b[0mi\u001b[0m \u001b[1;32min\u001b[0m \u001b[0mrange\u001b[0m\u001b[1;33m(\u001b[0m\u001b[0mlen\u001b[0m\u001b[1;33m(\u001b[0m\u001b[0mtrain_input1\u001b[0m\u001b[1;33m)\u001b[0m\u001b[1;33m)\u001b[0m\u001b[1;33m:\u001b[0m\u001b[1;33m\u001b[0m\u001b[1;33m\u001b[0m\u001b[0m\n\u001b[0;32m      2\u001b[0m     \u001b[0menc\u001b[0m\u001b[1;33m.\u001b[0m\u001b[0mdense\u001b[0m \u001b[1;33m=\u001b[0m \u001b[0mtrain_input1\u001b[0m\u001b[1;33m[\u001b[0m\u001b[0mi\u001b[0m\u001b[1;33m]\u001b[0m\u001b[1;33m\u001b[0m\u001b[1;33m\u001b[0m\u001b[0m\n\u001b[1;32m----> 3\u001b[1;33m     \u001b[0mtm\u001b[0m\u001b[1;33m.\u001b[0m\u001b[0mcompute\u001b[0m\u001b[1;33m(\u001b[0m\u001b[0menc\u001b[0m\u001b[1;33m,\u001b[0m \u001b[1;32mTrue\u001b[0m\u001b[1;33m)\u001b[0m\u001b[1;33m\u001b[0m\u001b[1;33m\u001b[0m\u001b[0m\n\u001b[0m\u001b[0;32m      4\u001b[0m \u001b[1;33m\u001b[0m\u001b[0m\n",
      "\u001b[1;31mRuntimeError\u001b[0m: Exception: Sdr.cpp(368) message: CHECK FAILED: \"inputs[i]->dimensions == dimensions\" "
     ]
    }
   ],
   "metadata": {}
  },
  {
   "cell_type": "code",
   "execution_count": null,
   "source": [
    "sdr = tm.getActiveCells()\r\n",
    "\r\n",
    "print(sdr.dense.flatten())\r\n",
    "print(np.sum(sdr.dense.flatten()))\r\n",
    "print(np.min(sdr.dense.flatten()))\r\n",
    "print(len(sdr.dense.flatten()))\r\n"
   ],
   "outputs": [
    {
     "output_type": "stream",
     "name": "stdout",
     "text": [
      "[1 1 1 ... 1 1 1]\n",
      "2438980\n",
      "0\n",
      "3088560\n"
     ]
    }
   ],
   "metadata": {}
  },
  {
   "cell_type": "code",
   "execution_count": null,
   "source": [
    "score = 0\r\n",
    "for i in range(100):\r\n",
    "    if(train_flatten[i] == sdr.dense.flatten()[i*5]):\r\n",
    "        score += 1\r\n",
    "score = score / len(train_flatten)\r\n",
    "print(score)"
   ],
   "outputs": [
    {
     "output_type": "stream",
     "name": "stdout",
     "text": [
      "0.0\n"
     ]
    }
   ],
   "metadata": {}
  },
  {
   "cell_type": "code",
   "execution_count": null,
   "source": [],
   "outputs": [],
   "metadata": {}
  },
  {
   "cell_type": "markdown",
   "source": [
    "## alarm"
   ],
   "metadata": {}
  },
  {
   "cell_type": "code",
   "execution_count": null,
   "source": [
    "target_arr2 = data_arr.loc[:,'FIC301':'VLV303']\r\n",
    "target_arr2 = target_arr2.to_numpy(dtype = np.int)\r\n",
    "target_int = []\r\n",
    "one_hot = 0\r\n",
    "for x in target_arr2:\r\n",
    "    for i in range(len(target_arr2[0])):\r\n",
    "        # failure situation\r\n",
    "        if(x[i] == 1):\r\n",
    "            target_int.append(i + 1)\r\n",
    "            one_hot = 1\r\n",
    "            break # priority encoder\r\n",
    "    # normal situation\r\n",
    "    if(one_hot == 0):\r\n",
    "        target_int.append(0)\r\n",
    "    one_hot = 0\r\n",
    "        \r\n",
    "target_int = np.array(target_int, dtype = np.int)"
   ],
   "outputs": [
    {
     "output_type": "stream",
     "name": "stderr",
     "text": [
      "C:\\Users\\user\\anaconda3\\envs\\htm\\lib\\site-packages\\ipykernel_launcher.py:2: DeprecationWarning: `np.int` is a deprecated alias for the builtin `int`. To silence this warning, use `int` by itself. Doing this will not modify any behavior and is safe. When replacing `np.int`, you may wish to use e.g. `np.int64` or `np.int32` to specify the precision. If you wish to review your current use, check the release note link for additional information.\n",
      "Deprecated in NumPy 1.20; for more details and guidance: https://numpy.org/devdocs/release/1.20.0-notes.html#deprecations\n",
      "  \n",
      "C:\\Users\\user\\anaconda3\\envs\\htm\\lib\\site-packages\\ipykernel_launcher.py:17: DeprecationWarning: `np.int` is a deprecated alias for the builtin `int`. To silence this warning, use `int` by itself. Doing this will not modify any behavior and is safe. When replacing `np.int`, you may wish to use e.g. `np.int64` or `np.int32` to specify the precision. If you wish to review your current use, check the release note link for additional information.\n",
      "Deprecated in NumPy 1.20; for more details and guidance: https://numpy.org/devdocs/release/1.20.0-notes.html#deprecations\n"
     ]
    }
   ],
   "metadata": {}
  },
  {
   "cell_type": "code",
   "execution_count": null,
   "source": [
    "input_arr2 = data_arr.loc[:, 'AirIn':'water.tank.level']\r\n",
    "input_arr2 = input_arr2.to_numpy(dtype = np.float32)"
   ],
   "outputs": [],
   "metadata": {}
  },
  {
   "cell_type": "code",
   "execution_count": null,
   "source": [
    "train_input2 = input_arr2[:test_index, :]\r\n",
    "test_input2 = input_arr2[test_index: , :]\r\n",
    "train_target2 = target_int[:test_index]\r\n",
    "test_target2 = target_int[test_index:]\r\n",
    "print(train_input2.shape, test_input2.shape, train_target2.shape, test_target2.shape)\r\n"
   ],
   "outputs": [
    {
     "output_type": "stream",
     "name": "stdout",
     "text": [
      "(36336, 17) (9084, 17) (36336,) (9084,)\n"
     ]
    }
   ],
   "metadata": {}
  },
  {
   "cell_type": "code",
   "execution_count": null,
   "source": [],
   "outputs": [],
   "metadata": {}
  },
  {
   "cell_type": "code",
   "execution_count": null,
   "source": [
    "enc = SDR([17, 1])"
   ],
   "outputs": [],
   "metadata": {}
  }
 ],
 "metadata": {
  "orig_nbformat": 4,
  "language_info": {
   "name": "python",
   "version": "3.7.10",
   "mimetype": "text/x-python",
   "codemirror_mode": {
    "name": "ipython",
    "version": 3
   },
   "pygments_lexer": "ipython3",
   "nbconvert_exporter": "python",
   "file_extension": ".py"
  },
  "kernelspec": {
   "name": "python3",
   "display_name": "Python 3.7.10 64-bit ('htm': conda)"
  },
  "interpreter": {
   "hash": "f5db9e907b370ab68c0fe2946764eb7eeeb2ad3528c97ae33e284be4e9b1b86c"
  }
 },
 "nbformat": 4,
 "nbformat_minor": 2
}