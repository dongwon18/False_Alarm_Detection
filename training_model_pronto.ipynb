{
  "nbformat": 4,
  "nbformat_minor": 0,
  "metadata": {
    "colab": {
      "name": "training_model_pronto.ipynb",
      "provenance": [],
      "collapsed_sections": [],
      "toc_visible": true,
      "authorship_tag": "ABX9TyPnQUyXxmFGHn4TyXzYOk/H"
    },
    "kernelspec": {
      "name": "python3",
      "display_name": "Python 3"
    },
    "language_info": {
      "name": "python"
    },
    "accelerator": "TPU"
  },
  "cells": [
    {
      "cell_type": "markdown",
      "metadata": {
        "id": "PNkfthvXmGtL"
      },
      "source": [
        "# Training models with PRONTO datasets\n",
        "- multiclass classification: failure\n",
        "    - feature: sensor datas, alarm\n",
        "    - class: failure\n",
        "- multiclass classification: alarm\n",
        "    - feature: sensor datas\n",
        "    - class: alarms\n",
        "- HTM, CNN, FNN, Random Forest, Support Vector machines, Logistic Regression, voted ensemble selection"
      ]
    },
    {
      "cell_type": "code",
      "metadata": {
        "id": "VCMq8SuNaFNW"
      },
      "source": [
        "from google.colab import drive\n",
        "import pandas as pd\n",
        "from tensorflow import keras\n",
        "import numpy as np\n",
        "from sklearn.model_selection import train_test_split\n",
        "from sklearn.ensemble import RandomForestClassifier\n",
        "from sklearn.linear_model import LogisticRegression\n",
        "from sklearn.model_selection import cross_validate, StratifiedKFold\n",
        "from sklearn import svm\n",
        "import matplotlib.pyplot as plt\n",
        "import statistics\n"
      ],
      "execution_count": null,
      "outputs": []
    },
    {
      "cell_type": "markdown",
      "metadata": {
        "id": "Zd2BULlzmziB"
      },
      "source": [
        "## Mount Google drive"
      ]
    },
    {
      "cell_type": "code",
      "metadata": {
        "colab": {
          "base_uri": "https://localhost:8080/"
        },
        "id": "JH1LusIRZp87",
        "outputId": "4b60f5f2-7b19-41bd-8c1a-5ddf8bb6238d"
      },
      "source": [
        "drive.mount('/content/drive')"
      ],
      "execution_count": null,
      "outputs": [
        {
          "output_type": "stream",
          "text": [
            "Drive already mounted at /content/drive; to attempt to forcibly remount, call drive.mount(\"/content/drive\", force_remount=True).\n"
          ],
          "name": "stdout"
        }
      ]
    },
    {
      "cell_type": "code",
      "metadata": {
        "colab": {
          "base_uri": "https://localhost:8080/"
        },
        "id": "H8AOAqgKZ5zt",
        "outputId": "70423cb3-86e5-48fa-89a6-63f4d276e64f"
      },
      "source": [
        "cd drive/My\\ Drive/Colab\\ Notebooks/summer_coop/pronto"
      ],
      "execution_count": null,
      "outputs": [
        {
          "output_type": "stream",
          "text": [
            "/content/drive/My Drive/Colab Notebooks/summer_coop/pronto\n"
          ],
          "name": "stdout"
        }
      ]
    },
    {
      "cell_type": "code",
      "metadata": {
        "colab": {
          "base_uri": "https://localhost:8080/"
        },
        "id": "2rCEpWHId12N",
        "outputId": "6cf1a2df-065f-4059-9073-d86e34b19f1f"
      },
      "source": [
        "ls"
      ],
      "execution_count": null,
      "outputs": [
        {
          "output_type": "stream",
          "text": [
            "archive.zip                            pronto_cnn_alarm_architecture.png\n",
            "best_ann_alarm_model.h5                pronto_cnn_failure_architecture.png\n",
            "best_ann_failure_model.h5              PRONTO_failure_result.png\n",
            "best_cnn_alarm_model.h5                PRONTO_get_data.ipynb\n",
            "best_cnn_failure_model.h5              PRONTO_result.tsv\n",
            "input_oh1.npy                          Testday2_merged.csv\n",
            "pronto_ann1_failure_architecture.png   Testday2_merged.png\n",
            "pronto_ann2_alarm_architecture.png     Testday3_merged.csv\n",
            "\u001b[0m\u001b[01;34mPRONTO_benchmark_case_study\u001b[0m/           Testday4_merged.csv\n",
            "pronto_cnn11_failure_architecture.png\n"
          ],
          "name": "stdout"
        }
      ]
    },
    {
      "cell_type": "markdown",
      "metadata": {
        "id": "PnOJ9uL0nCPn"
      },
      "source": [
        "## Data Preprocessing"
      ]
    },
    {
      "cell_type": "markdown",
      "metadata": {
        "id": "Tf4Mplp2nGu-"
      },
      "source": [
        "### Get data"
      ]
    },
    {
      "cell_type": "code",
      "metadata": {
        "id": "usCrD83zdv8A"
      },
      "source": [
        "day2 = pd.read_csv('./Testday2_merged.csv')\n",
        "day3 = pd.read_csv('./Testday3_merged.csv')\n",
        "day4 = pd.read_csv('./Testday4_merged.csv')"
      ],
      "execution_count": null,
      "outputs": []
    },
    {
      "cell_type": "code",
      "metadata": {
        "colab": {
          "base_uri": "https://localhost:8080/"
        },
        "id": "AjKaugDveWhS",
        "outputId": "374cccb2-7f57-4302-d626-02a0752e8dd6"
      },
      "source": [
        "print(day2.describe())\n",
        "print(day3.describe())\n",
        "print(day4.describe())"
      ],
      "execution_count": null,
      "outputs": [
        {
          "output_type": "stream",
          "text": [
            "             FIC301        FIC302  ...  Water.level.valve  water.tank.level\n",
            "count  12420.000000  12420.000000  ...       12420.000000      12420.000000\n",
            "mean       0.028824      0.053462  ...           5.625045          1.438565\n",
            "std        0.167320      0.224962  ...           3.704148          0.010241\n",
            "min        0.000000      0.000000  ...           0.000000          1.393454\n",
            "25%        0.000000      0.000000  ...           2.593196          1.439275\n",
            "50%        0.000000      0.000000  ...           7.064692          1.441777\n",
            "75%        0.000000      0.000000  ...           8.093972          1.444006\n",
            "max        1.000000      1.000000  ...          47.400379          1.448196\n",
            "\n",
            "[8 rows x 29 columns]\n",
            "             FIC301        FIC302  ...  Water.level.valve  water.tank.level\n",
            "count  21300.000000  21300.000000  ...       21300.000000      21300.000000\n",
            "mean       0.081502      0.073286  ...           4.427603          1.425289\n",
            "std        0.273611      0.260612  ...           4.459148          0.008470\n",
            "min        0.000000      0.000000  ...           0.000000          1.394408\n",
            "25%        0.000000      0.000000  ...           1.719472          1.421092\n",
            "50%        0.000000      0.000000  ...           3.023181          1.424306\n",
            "75%        0.000000      0.000000  ...           7.846154          1.429551\n",
            "max        1.000000      1.000000  ...          52.141491          1.447658\n",
            "\n",
            "[8 rows x 29 columns]\n",
            "             FIC301        FIC302  ...  Water.level.valve  water.tank.level\n",
            "count  11700.000000  11700.000000  ...       11700.000000      11700.000000\n",
            "mean       0.097350      0.051453  ...          21.975087          1.416001\n",
            "std        0.296447      0.220929  ...          15.795226          0.011728\n",
            "min        0.000000      0.000000  ...           0.000000          1.388638\n",
            "25%        0.000000      0.000000  ...           6.352736          1.408093\n",
            "50%        0.000000      0.000000  ...          31.313960          1.414834\n",
            "75%        0.000000      0.000000  ...          36.091722          1.424606\n",
            "max        1.000000      1.000000  ...          56.039059          1.444376\n",
            "\n",
            "[8 rows x 29 columns]\n"
          ],
          "name": "stdout"
        }
      ]
    },
    {
      "cell_type": "markdown",
      "metadata": {
        "id": "KBqBp8f6nIqv"
      },
      "source": [
        "### Check NaN value\n",
        "- no NaN value"
      ]
    },
    {
      "cell_type": "code",
      "metadata": {
        "colab": {
          "base_uri": "https://localhost:8080/"
        },
        "id": "Zc7EPgF5ezDX",
        "outputId": "dd0874ff-3d0c-4d97-cdb3-ee13e8bda02e"
      },
      "source": [
        "print(day2.isnull().values.any())\n",
        "print(day3.isnull().values.any())\n",
        "print(day4.isnull().values.any())"
      ],
      "execution_count": null,
      "outputs": [
        {
          "output_type": "stream",
          "text": [
            "False\n",
            "False\n",
            "False\n"
          ],
          "name": "stdout"
        }
      ]
    },
    {
      "cell_type": "markdown",
      "metadata": {
        "id": "pT6moxRZnMmF"
      },
      "source": [
        "### Merge the data\n",
        "- inner join to prevent NaN value\n",
        "- LI505: only in testday3\n",
        "- LI502: only in testday2 and testday4\n",
        "- → exclude LI502, LI505"
      ]
    },
    {
      "cell_type": "code",
      "metadata": {
        "id": "qcjoz7cKe4fZ"
      },
      "source": [
        "data_arr = pd.concat([day2, day3, day4], axis = 0, ignore_index=True, join = 'inner')"
      ],
      "execution_count": null,
      "outputs": []
    },
    {
      "cell_type": "code",
      "metadata": {
        "colab": {
          "base_uri": "https://localhost:8080/",
          "height": 221
        },
        "id": "mXcswYi3fYnd",
        "outputId": "96fe0619-17f2-48b8-d750-c4e8cc2afac1"
      },
      "source": [
        "data_arr.head()"
      ],
      "execution_count": null,
      "outputs": [
        {
          "output_type": "execute_result",
          "data": {
            "text/html": [
              "<div>\n",
              "<style scoped>\n",
              "    .dataframe tbody tr th:only-of-type {\n",
              "        vertical-align: middle;\n",
              "    }\n",
              "\n",
              "    .dataframe tbody tr th {\n",
              "        vertical-align: top;\n",
              "    }\n",
              "\n",
              "    .dataframe thead th {\n",
              "        text-align: right;\n",
              "    }\n",
              "</style>\n",
              "<table border=\"1\" class=\"dataframe\">\n",
              "  <thead>\n",
              "    <tr style=\"text-align: right;\">\n",
              "      <th></th>\n",
              "      <th>FIC301</th>\n",
              "      <th>FIC302</th>\n",
              "      <th>LI405</th>\n",
              "      <th>PT312</th>\n",
              "      <th>VC303</th>\n",
              "      <th>VC401</th>\n",
              "      <th>VC403</th>\n",
              "      <th>VC404</th>\n",
              "      <th>VC405</th>\n",
              "      <th>VC406</th>\n",
              "      <th>VLV303</th>\n",
              "      <th>AirIn</th>\n",
              "      <th>Air.T</th>\n",
              "      <th>Air.P</th>\n",
              "      <th>WaterIn</th>\n",
              "      <th>Water.T</th>\n",
              "      <th>Water.Density</th>\n",
              "      <th>Mixture.zone.P</th>\n",
              "      <th>riser.outlet.P</th>\n",
              "      <th>P.topsep</th>\n",
              "      <th>FR.topsep.gas</th>\n",
              "      <th>FR.topsep.liquid</th>\n",
              "      <th>P_3phase</th>\n",
              "      <th>Air.Valve</th>\n",
              "      <th>Water.level</th>\n",
              "      <th>Water.coalescer</th>\n",
              "      <th>Water.level.valve</th>\n",
              "      <th>water.tank.level</th>\n",
              "      <th>Fault</th>\n",
              "    </tr>\n",
              "  </thead>\n",
              "  <tbody>\n",
              "    <tr>\n",
              "      <th>0</th>\n",
              "      <td>0</td>\n",
              "      <td>0</td>\n",
              "      <td>1</td>\n",
              "      <td>0</td>\n",
              "      <td>0</td>\n",
              "      <td>0</td>\n",
              "      <td>0</td>\n",
              "      <td>0</td>\n",
              "      <td>0</td>\n",
              "      <td>0</td>\n",
              "      <td>0</td>\n",
              "      <td>121.053597</td>\n",
              "      <td>15.68166</td>\n",
              "      <td>1.301107</td>\n",
              "      <td>0.096309</td>\n",
              "      <td>23.748079</td>\n",
              "      <td>997.596497</td>\n",
              "      <td>1.240097</td>\n",
              "      <td>1.025907</td>\n",
              "      <td>1.027175</td>\n",
              "      <td>0.000491</td>\n",
              "      <td>0.064845</td>\n",
              "      <td>1.005916</td>\n",
              "      <td>25.092310</td>\n",
              "      <td>62.243111</td>\n",
              "      <td>98.642677</td>\n",
              "      <td>2.257356</td>\n",
              "      <td>1.443121</td>\n",
              "      <td>Normal</td>\n",
              "    </tr>\n",
              "    <tr>\n",
              "      <th>1</th>\n",
              "      <td>0</td>\n",
              "      <td>0</td>\n",
              "      <td>1</td>\n",
              "      <td>0</td>\n",
              "      <td>0</td>\n",
              "      <td>0</td>\n",
              "      <td>0</td>\n",
              "      <td>0</td>\n",
              "      <td>0</td>\n",
              "      <td>0</td>\n",
              "      <td>0</td>\n",
              "      <td>120.982101</td>\n",
              "      <td>15.68156</td>\n",
              "      <td>1.298735</td>\n",
              "      <td>0.096320</td>\n",
              "      <td>23.745350</td>\n",
              "      <td>997.596619</td>\n",
              "      <td>1.236252</td>\n",
              "      <td>1.027934</td>\n",
              "      <td>1.027277</td>\n",
              "      <td>0.000483</td>\n",
              "      <td>0.095639</td>\n",
              "      <td>1.006192</td>\n",
              "      <td>25.099390</td>\n",
              "      <td>62.235279</td>\n",
              "      <td>98.644371</td>\n",
              "      <td>2.278575</td>\n",
              "      <td>1.443152</td>\n",
              "      <td>Normal</td>\n",
              "    </tr>\n",
              "    <tr>\n",
              "      <th>2</th>\n",
              "      <td>0</td>\n",
              "      <td>0</td>\n",
              "      <td>1</td>\n",
              "      <td>0</td>\n",
              "      <td>0</td>\n",
              "      <td>0</td>\n",
              "      <td>0</td>\n",
              "      <td>0</td>\n",
              "      <td>0</td>\n",
              "      <td>0</td>\n",
              "      <td>0</td>\n",
              "      <td>120.864098</td>\n",
              "      <td>15.68147</td>\n",
              "      <td>1.296362</td>\n",
              "      <td>0.096331</td>\n",
              "      <td>23.742620</td>\n",
              "      <td>997.596619</td>\n",
              "      <td>1.240946</td>\n",
              "      <td>1.035563</td>\n",
              "      <td>1.028881</td>\n",
              "      <td>0.000476</td>\n",
              "      <td>0.095639</td>\n",
              "      <td>1.006467</td>\n",
              "      <td>25.106461</td>\n",
              "      <td>62.227440</td>\n",
              "      <td>98.646057</td>\n",
              "      <td>2.299793</td>\n",
              "      <td>1.443183</td>\n",
              "      <td>Normal</td>\n",
              "    </tr>\n",
              "    <tr>\n",
              "      <th>3</th>\n",
              "      <td>0</td>\n",
              "      <td>0</td>\n",
              "      <td>1</td>\n",
              "      <td>0</td>\n",
              "      <td>0</td>\n",
              "      <td>0</td>\n",
              "      <td>0</td>\n",
              "      <td>0</td>\n",
              "      <td>0</td>\n",
              "      <td>0</td>\n",
              "      <td>0</td>\n",
              "      <td>120.746002</td>\n",
              "      <td>15.68138</td>\n",
              "      <td>1.301659</td>\n",
              "      <td>0.096342</td>\n",
              "      <td>23.739889</td>\n",
              "      <td>997.596680</td>\n",
              "      <td>1.238252</td>\n",
              "      <td>1.030079</td>\n",
              "      <td>1.028640</td>\n",
              "      <td>0.000468</td>\n",
              "      <td>0.076789</td>\n",
              "      <td>1.006743</td>\n",
              "      <td>25.113529</td>\n",
              "      <td>62.219608</td>\n",
              "      <td>98.647758</td>\n",
              "      <td>2.321012</td>\n",
              "      <td>1.443214</td>\n",
              "      <td>Normal</td>\n",
              "    </tr>\n",
              "    <tr>\n",
              "      <th>4</th>\n",
              "      <td>0</td>\n",
              "      <td>0</td>\n",
              "      <td>1</td>\n",
              "      <td>0</td>\n",
              "      <td>0</td>\n",
              "      <td>0</td>\n",
              "      <td>0</td>\n",
              "      <td>0</td>\n",
              "      <td>0</td>\n",
              "      <td>0</td>\n",
              "      <td>0</td>\n",
              "      <td>120.627998</td>\n",
              "      <td>15.68129</td>\n",
              "      <td>1.299090</td>\n",
              "      <td>0.096354</td>\n",
              "      <td>23.737160</td>\n",
              "      <td>997.596680</td>\n",
              "      <td>1.231918</td>\n",
              "      <td>1.026742</td>\n",
              "      <td>1.028400</td>\n",
              "      <td>0.000461</td>\n",
              "      <td>0.076789</td>\n",
              "      <td>1.006743</td>\n",
              "      <td>25.120600</td>\n",
              "      <td>62.262520</td>\n",
              "      <td>98.649452</td>\n",
              "      <td>2.399387</td>\n",
              "      <td>1.443244</td>\n",
              "      <td>Normal</td>\n",
              "    </tr>\n",
              "  </tbody>\n",
              "</table>\n",
              "</div>"
            ],
            "text/plain": [
              "   FIC301  FIC302  LI405  ...  Water.level.valve  water.tank.level   Fault\n",
              "0       0       0      1  ...           2.257356          1.443121  Normal\n",
              "1       0       0      1  ...           2.278575          1.443152  Normal\n",
              "2       0       0      1  ...           2.299793          1.443183  Normal\n",
              "3       0       0      1  ...           2.321012          1.443214  Normal\n",
              "4       0       0      1  ...           2.399387          1.443244  Normal\n",
              "\n",
              "[5 rows x 29 columns]"
            ]
          },
          "metadata": {
            "tags": []
          },
          "execution_count": 9
        }
      ]
    },
    {
      "cell_type": "code",
      "metadata": {
        "colab": {
          "base_uri": "https://localhost:8080/"
        },
        "id": "HZ1Ur2k5fc9N",
        "outputId": "22f65787-5243-4fc3-8ab6-ad76406e3130"
      },
      "source": [
        "data_arr.isnull().values.any()"
      ],
      "execution_count": null,
      "outputs": [
        {
          "output_type": "execute_result",
          "data": {
            "text/plain": [
              "False"
            ]
          },
          "metadata": {
            "tags": []
          },
          "execution_count": 10
        }
      ]
    },
    {
      "cell_type": "code",
      "metadata": {
        "colab": {
          "base_uri": "https://localhost:8080/",
          "height": 312
        },
        "id": "Oo9cjO4IflF4",
        "outputId": "14651b60-9698-47af-b624-ad751b113205"
      },
      "source": [
        "data_arr.describe()"
      ],
      "execution_count": null,
      "outputs": [
        {
          "output_type": "execute_result",
          "data": {
            "text/html": [
              "<div>\n",
              "<style scoped>\n",
              "    .dataframe tbody tr th:only-of-type {\n",
              "        vertical-align: middle;\n",
              "    }\n",
              "\n",
              "    .dataframe tbody tr th {\n",
              "        vertical-align: top;\n",
              "    }\n",
              "\n",
              "    .dataframe thead th {\n",
              "        text-align: right;\n",
              "    }\n",
              "</style>\n",
              "<table border=\"1\" class=\"dataframe\">\n",
              "  <thead>\n",
              "    <tr style=\"text-align: right;\">\n",
              "      <th></th>\n",
              "      <th>FIC301</th>\n",
              "      <th>FIC302</th>\n",
              "      <th>LI405</th>\n",
              "      <th>PT312</th>\n",
              "      <th>VC303</th>\n",
              "      <th>VC401</th>\n",
              "      <th>VC403</th>\n",
              "      <th>VC404</th>\n",
              "      <th>VC405</th>\n",
              "      <th>VC406</th>\n",
              "      <th>VLV303</th>\n",
              "      <th>AirIn</th>\n",
              "      <th>Air.T</th>\n",
              "      <th>Air.P</th>\n",
              "      <th>WaterIn</th>\n",
              "      <th>Water.T</th>\n",
              "      <th>Water.Density</th>\n",
              "      <th>Mixture.zone.P</th>\n",
              "      <th>riser.outlet.P</th>\n",
              "      <th>P.topsep</th>\n",
              "      <th>FR.topsep.gas</th>\n",
              "      <th>FR.topsep.liquid</th>\n",
              "      <th>P_3phase</th>\n",
              "      <th>Air.Valve</th>\n",
              "      <th>Water.level</th>\n",
              "      <th>Water.coalescer</th>\n",
              "      <th>Water.level.valve</th>\n",
              "      <th>water.tank.level</th>\n",
              "    </tr>\n",
              "  </thead>\n",
              "  <tbody>\n",
              "    <tr>\n",
              "      <th>count</th>\n",
              "      <td>45420.000000</td>\n",
              "      <td>45420.000000</td>\n",
              "      <td>45420.000000</td>\n",
              "      <td>45420.000000</td>\n",
              "      <td>45420.000000</td>\n",
              "      <td>45420.0</td>\n",
              "      <td>45420.0</td>\n",
              "      <td>45420.0</td>\n",
              "      <td>45420.0</td>\n",
              "      <td>45420.0</td>\n",
              "      <td>45420.000000</td>\n",
              "      <td>45420.000000</td>\n",
              "      <td>45420.000000</td>\n",
              "      <td>45420.000000</td>\n",
              "      <td>45420.000000</td>\n",
              "      <td>45420.000000</td>\n",
              "      <td>45420.000000</td>\n",
              "      <td>45420.000000</td>\n",
              "      <td>45420.000000</td>\n",
              "      <td>45420.000000</td>\n",
              "      <td>45420.000000</td>\n",
              "      <td>45420.000000</td>\n",
              "      <td>45420.000000</td>\n",
              "      <td>45420.000000</td>\n",
              "      <td>45420.000000</td>\n",
              "      <td>45420.000000</td>\n",
              "      <td>45420.000000</td>\n",
              "      <td>45420.000000</td>\n",
              "    </tr>\n",
              "    <tr>\n",
              "      <th>mean</th>\n",
              "      <td>0.071180</td>\n",
              "      <td>0.062241</td>\n",
              "      <td>0.679018</td>\n",
              "      <td>0.163804</td>\n",
              "      <td>0.002576</td>\n",
              "      <td>0.0</td>\n",
              "      <td>0.0</td>\n",
              "      <td>0.0</td>\n",
              "      <td>0.0</td>\n",
              "      <td>0.0</td>\n",
              "      <td>0.000044</td>\n",
              "      <td>120.244962</td>\n",
              "      <td>17.579774</td>\n",
              "      <td>1.754868</td>\n",
              "      <td>0.545004</td>\n",
              "      <td>23.426888</td>\n",
              "      <td>996.696162</td>\n",
              "      <td>1.494589</td>\n",
              "      <td>1.109878</td>\n",
              "      <td>1.019045</td>\n",
              "      <td>3.358363</td>\n",
              "      <td>0.559113</td>\n",
              "      <td>0.997311</td>\n",
              "      <td>22.352009</td>\n",
              "      <td>61.782958</td>\n",
              "      <td>98.623634</td>\n",
              "      <td>9.275199</td>\n",
              "      <td>1.426527</td>\n",
              "    </tr>\n",
              "    <tr>\n",
              "      <th>std</th>\n",
              "      <td>0.257128</td>\n",
              "      <td>0.241596</td>\n",
              "      <td>0.466859</td>\n",
              "      <td>0.370102</td>\n",
              "      <td>0.050689</td>\n",
              "      <td>0.0</td>\n",
              "      <td>0.0</td>\n",
              "      <td>0.0</td>\n",
              "      <td>0.0</td>\n",
              "      <td>0.0</td>\n",
              "      <td>0.006636</td>\n",
              "      <td>42.618978</td>\n",
              "      <td>1.086663</td>\n",
              "      <td>0.947866</td>\n",
              "      <td>0.751641</td>\n",
              "      <td>1.960987</td>\n",
              "      <td>1.209464</td>\n",
              "      <td>0.333043</td>\n",
              "      <td>0.165797</td>\n",
              "      <td>0.030180</td>\n",
              "      <td>5.135456</td>\n",
              "      <td>0.567385</td>\n",
              "      <td>0.029712</td>\n",
              "      <td>7.369957</td>\n",
              "      <td>1.457677</td>\n",
              "      <td>0.173581</td>\n",
              "      <td>11.556427</td>\n",
              "      <td>0.012909</td>\n",
              "    </tr>\n",
              "    <tr>\n",
              "      <th>min</th>\n",
              "      <td>0.000000</td>\n",
              "      <td>0.000000</td>\n",
              "      <td>0.000000</td>\n",
              "      <td>0.000000</td>\n",
              "      <td>0.000000</td>\n",
              "      <td>0.0</td>\n",
              "      <td>0.0</td>\n",
              "      <td>0.0</td>\n",
              "      <td>0.0</td>\n",
              "      <td>0.0</td>\n",
              "      <td>0.000000</td>\n",
              "      <td>16.019110</td>\n",
              "      <td>15.107760</td>\n",
              "      <td>0.607549</td>\n",
              "      <td>-0.007640</td>\n",
              "      <td>18.197229</td>\n",
              "      <td>990.697327</td>\n",
              "      <td>0.997974</td>\n",
              "      <td>0.820029</td>\n",
              "      <td>0.845333</td>\n",
              "      <td>0.000000</td>\n",
              "      <td>-4.607517</td>\n",
              "      <td>0.822942</td>\n",
              "      <td>0.030689</td>\n",
              "      <td>49.623772</td>\n",
              "      <td>97.675377</td>\n",
              "      <td>0.000000</td>\n",
              "      <td>1.388638</td>\n",
              "    </tr>\n",
              "    <tr>\n",
              "      <th>25%</th>\n",
              "      <td>0.000000</td>\n",
              "      <td>0.000000</td>\n",
              "      <td>0.000000</td>\n",
              "      <td>0.000000</td>\n",
              "      <td>0.000000</td>\n",
              "      <td>0.0</td>\n",
              "      <td>0.0</td>\n",
              "      <td>0.0</td>\n",
              "      <td>0.0</td>\n",
              "      <td>0.0</td>\n",
              "      <td>0.000000</td>\n",
              "      <td>118.268898</td>\n",
              "      <td>16.704707</td>\n",
              "      <td>1.281357</td>\n",
              "      <td>0.098050</td>\n",
              "      <td>23.249670</td>\n",
              "      <td>996.235275</td>\n",
              "      <td>1.242075</td>\n",
              "      <td>1.014582</td>\n",
              "      <td>1.017692</td>\n",
              "      <td>0.000414</td>\n",
              "      <td>0.070511</td>\n",
              "      <td>0.996003</td>\n",
              "      <td>20.038310</td>\n",
              "      <td>61.755878</td>\n",
              "      <td>98.549589</td>\n",
              "      <td>2.283776</td>\n",
              "      <td>1.419087</td>\n",
              "    </tr>\n",
              "    <tr>\n",
              "      <th>50%</th>\n",
              "      <td>0.000000</td>\n",
              "      <td>0.000000</td>\n",
              "      <td>1.000000</td>\n",
              "      <td>0.000000</td>\n",
              "      <td>0.000000</td>\n",
              "      <td>0.0</td>\n",
              "      <td>0.0</td>\n",
              "      <td>0.0</td>\n",
              "      <td>0.0</td>\n",
              "      <td>0.0</td>\n",
              "      <td>0.000000</td>\n",
              "      <td>120.583950</td>\n",
              "      <td>17.850080</td>\n",
              "      <td>1.507924</td>\n",
              "      <td>0.495899</td>\n",
              "      <td>23.752180</td>\n",
              "      <td>996.706360</td>\n",
              "      <td>1.416394</td>\n",
              "      <td>1.037709</td>\n",
              "      <td>1.021233</td>\n",
              "      <td>0.043302</td>\n",
              "      <td>0.397561</td>\n",
              "      <td>0.999314</td>\n",
              "      <td>25.058850</td>\n",
              "      <td>61.981190</td>\n",
              "      <td>98.664036</td>\n",
              "      <td>6.556579</td>\n",
              "      <td>1.425808</td>\n",
              "    </tr>\n",
              "    <tr>\n",
              "      <th>75%</th>\n",
              "      <td>0.000000</td>\n",
              "      <td>0.000000</td>\n",
              "      <td>1.000000</td>\n",
              "      <td>0.000000</td>\n",
              "      <td>0.000000</td>\n",
              "      <td>0.0</td>\n",
              "      <td>0.0</td>\n",
              "      <td>0.0</td>\n",
              "      <td>0.0</td>\n",
              "      <td>0.0</td>\n",
              "      <td>0.000000</td>\n",
              "      <td>149.015793</td>\n",
              "      <td>18.249603</td>\n",
              "      <td>1.736749</td>\n",
              "      <td>0.500112</td>\n",
              "      <td>24.663151</td>\n",
              "      <td>997.657013</td>\n",
              "      <td>1.519924</td>\n",
              "      <td>1.153582</td>\n",
              "      <td>1.024938</td>\n",
              "      <td>6.983966</td>\n",
              "      <td>0.942655</td>\n",
              "      <td>1.002923</td>\n",
              "      <td>27.315350</td>\n",
              "      <td>62.153648</td>\n",
              "      <td>98.712509</td>\n",
              "      <td>8.254080</td>\n",
              "      <td>1.439326</td>\n",
              "    </tr>\n",
              "    <tr>\n",
              "      <th>max</th>\n",
              "      <td>1.000000</td>\n",
              "      <td>1.000000</td>\n",
              "      <td>1.000000</td>\n",
              "      <td>1.000000</td>\n",
              "      <td>1.000000</td>\n",
              "      <td>0.0</td>\n",
              "      <td>0.0</td>\n",
              "      <td>0.0</td>\n",
              "      <td>0.0</td>\n",
              "      <td>0.0</td>\n",
              "      <td>1.000000</td>\n",
              "      <td>210.018494</td>\n",
              "      <td>20.017281</td>\n",
              "      <td>7.269874</td>\n",
              "      <td>3.673232</td>\n",
              "      <td>26.674419</td>\n",
              "      <td>999.480774</td>\n",
              "      <td>3.923677</td>\n",
              "      <td>3.183747</td>\n",
              "      <td>1.328773</td>\n",
              "      <td>43.850960</td>\n",
              "      <td>2.840868</td>\n",
              "      <td>1.307652</td>\n",
              "      <td>34.459080</td>\n",
              "      <td>75.759613</td>\n",
              "      <td>99.930847</td>\n",
              "      <td>56.039059</td>\n",
              "      <td>1.448196</td>\n",
              "    </tr>\n",
              "  </tbody>\n",
              "</table>\n",
              "</div>"
            ],
            "text/plain": [
              "             FIC301        FIC302  ...  Water.level.valve  water.tank.level\n",
              "count  45420.000000  45420.000000  ...       45420.000000      45420.000000\n",
              "mean       0.071180      0.062241  ...           9.275199          1.426527\n",
              "std        0.257128      0.241596  ...          11.556427          0.012909\n",
              "min        0.000000      0.000000  ...           0.000000          1.388638\n",
              "25%        0.000000      0.000000  ...           2.283776          1.419087\n",
              "50%        0.000000      0.000000  ...           6.556579          1.425808\n",
              "75%        0.000000      0.000000  ...           8.254080          1.439326\n",
              "max        1.000000      1.000000  ...          56.039059          1.448196\n",
              "\n",
              "[8 rows x 28 columns]"
            ]
          },
          "metadata": {
            "tags": []
          },
          "execution_count": 11
        }
      ]
    },
    {
      "cell_type": "code",
      "metadata": {
        "colab": {
          "base_uri": "https://localhost:8080/"
        },
        "id": "4sDhqVqtoQDx",
        "outputId": "15e165c4-da35-4b32-9b46-db8d836ddc69"
      },
      "source": [
        "data_arr.columns"
      ],
      "execution_count": null,
      "outputs": [
        {
          "output_type": "execute_result",
          "data": {
            "text/plain": [
              "Index(['FIC301', 'FIC302', 'LI405', 'PT312', 'VC303', 'VC401', 'VC403',\n",
              "       'VC404', 'VC405', 'VC406', 'VLV303', 'AirIn', 'Air.T', 'Air.P',\n",
              "       'WaterIn', 'Water.T', 'Water.Density', 'Mixture.zone.P',\n",
              "       'riser.outlet.P', 'P.topsep', 'FR.topsep.gas', 'FR.topsep.liquid',\n",
              "       'P_3phase', 'Air.Valve', 'Water.level', 'Water.coalescer',\n",
              "       'Water.level.valve', 'water.tank.level', 'Fault'],\n",
              "      dtype='object')"
            ]
          },
          "metadata": {
            "tags": []
          },
          "execution_count": 12
        }
      ]
    },
    {
      "cell_type": "markdown",
      "metadata": {
        "id": "Gmb54jKWraFf"
      },
      "source": [
        "## Multiclass Classification: failure\n",
        "- feature: FIC301 ~ water.tank.level (alarm, sensor values)\n",
        "- Class(total 5 classes)\n",
        "    - 0: normal\n",
        "    - 1: Air blockage\n",
        "    - 2: Air leakage\n",
        "    - 3: Diverted flow\n",
        "    - 4: Slugging"
      ]
    },
    {
      "cell_type": "code",
      "metadata": {
        "id": "T4fpmo1aoy4w"
      },
      "source": [
        "input_arr1 = data_arr.loc[:, 'FIC301':'water.tank.level']\n",
        "target_arr1 = data_arr.loc[:, 'Fault']"
      ],
      "execution_count": null,
      "outputs": []
    },
    {
      "cell_type": "code",
      "metadata": {
        "colab": {
          "base_uri": "https://localhost:8080/"
        },
        "id": "VJ0h1Z1RpJmD",
        "outputId": "f4099ade-7573-4edd-fdf4-dc87e84f95f4"
      },
      "source": [
        "data_arr['Fault'].unique()"
      ],
      "execution_count": null,
      "outputs": [
        {
          "output_type": "execute_result",
          "data": {
            "text/plain": [
              "array(['Normal', 'Air blockage', 'Air leakage', 'Diverted flow',\n",
              "       'Slugging'], dtype=object)"
            ]
          },
          "metadata": {
            "tags": []
          },
          "execution_count": 14
        }
      ]
    },
    {
      "cell_type": "code",
      "metadata": {
        "colab": {
          "base_uri": "https://localhost:8080/"
        },
        "id": "8Nf_zF6eqbkw",
        "outputId": "25ff67ab-f688-4ec9-8d41-811e9bed74b7"
      },
      "source": [
        "target_arr1.unique()"
      ],
      "execution_count": null,
      "outputs": [
        {
          "output_type": "execute_result",
          "data": {
            "text/plain": [
              "array(['Normal', 'Air blockage', 'Air leakage', 'Diverted flow',\n",
              "       'Slugging'], dtype=object)"
            ]
          },
          "metadata": {
            "tags": []
          },
          "execution_count": 15
        }
      ]
    },
    {
      "cell_type": "markdown",
      "metadata": {
        "id": "Mwo3Aw5Qspop"
      },
      "source": [
        "change Fault values to int"
      ]
    },
    {
      "cell_type": "code",
      "metadata": {
        "colab": {
          "base_uri": "https://localhost:8080/"
        },
        "id": "jYfYPjCvlRFH",
        "outputId": "491d5d93-2975-4f4e-cb6d-2cd522bab707"
      },
      "source": [
        "target_arr1[target_arr1 == 'Normal'] = 0\n",
        "target_arr1[target_arr1 == 'Air blockage'] = 1\n",
        "target_arr1[target_arr1 == 'Air leakage'] = 2\n",
        "target_arr1[target_arr1 == 'Diverted flow'] = 3\n",
        "target_arr1[target_arr1 == 'Slugging'] = 4\n"
      ],
      "execution_count": null,
      "outputs": [
        {
          "output_type": "stream",
          "text": [
            "/usr/local/lib/python3.7/dist-packages/ipykernel_launcher.py:1: SettingWithCopyWarning: \n",
            "A value is trying to be set on a copy of a slice from a DataFrame\n",
            "\n",
            "See the caveats in the documentation: https://pandas.pydata.org/pandas-docs/stable/user_guide/indexing.html#returning-a-view-versus-a-copy\n",
            "  \"\"\"Entry point for launching an IPython kernel.\n",
            "/usr/local/lib/python3.7/dist-packages/ipykernel_launcher.py:2: SettingWithCopyWarning: \n",
            "A value is trying to be set on a copy of a slice from a DataFrame\n",
            "\n",
            "See the caveats in the documentation: https://pandas.pydata.org/pandas-docs/stable/user_guide/indexing.html#returning-a-view-versus-a-copy\n",
            "  \n",
            "/usr/local/lib/python3.7/dist-packages/ipykernel_launcher.py:3: SettingWithCopyWarning: \n",
            "A value is trying to be set on a copy of a slice from a DataFrame\n",
            "\n",
            "See the caveats in the documentation: https://pandas.pydata.org/pandas-docs/stable/user_guide/indexing.html#returning-a-view-versus-a-copy\n",
            "  This is separate from the ipykernel package so we can avoid doing imports until\n",
            "/usr/local/lib/python3.7/dist-packages/ipykernel_launcher.py:4: SettingWithCopyWarning: \n",
            "A value is trying to be set on a copy of a slice from a DataFrame\n",
            "\n",
            "See the caveats in the documentation: https://pandas.pydata.org/pandas-docs/stable/user_guide/indexing.html#returning-a-view-versus-a-copy\n",
            "  after removing the cwd from sys.path.\n",
            "/usr/local/lib/python3.7/dist-packages/ipykernel_launcher.py:5: SettingWithCopyWarning: \n",
            "A value is trying to be set on a copy of a slice from a DataFrame\n",
            "\n",
            "See the caveats in the documentation: https://pandas.pydata.org/pandas-docs/stable/user_guide/indexing.html#returning-a-view-versus-a-copy\n",
            "  \"\"\"\n"
          ],
          "name": "stderr"
        }
      ]
    },
    {
      "cell_type": "code",
      "metadata": {
        "colab": {
          "base_uri": "https://localhost:8080/"
        },
        "id": "Vx5uVqgirJ0E",
        "outputId": "2febe8aa-e25f-4cdb-c2ed-0ecb3fba5182"
      },
      "source": [
        "target_arr1.unique()"
      ],
      "execution_count": null,
      "outputs": [
        {
          "output_type": "execute_result",
          "data": {
            "text/plain": [
              "array([0, 1, 2, 3, 4], dtype=object)"
            ]
          },
          "metadata": {
            "tags": []
          },
          "execution_count": 17
        }
      ]
    },
    {
      "cell_type": "code",
      "metadata": {
        "colab": {
          "base_uri": "https://localhost:8080/"
        },
        "id": "V32UkY09qYCh",
        "outputId": "69ed6064-2d78-4258-8da1-ecc5253396e9"
      },
      "source": [
        "!ls"
      ],
      "execution_count": null,
      "outputs": [
        {
          "output_type": "stream",
          "text": [
            "archive.zip\t\t\t      pronto_cnn11_failure_architecture.png\n",
            "best_ann_alarm_model.h5\t\t      pronto_cnn_alarm_architecture.png\n",
            "best_ann_failure_model.h5\t      pronto_cnn_failure_architecture.png\n",
            "best_cnn_alarm_model.h5\t\t      PRONTO_failure_result.png\n",
            "best_cnn_failure_model.h5\t      PRONTO_get_data.ipynb\n",
            "input_oh1.npy\t\t\t      PRONTO_result.tsv\n",
            "input_oh1_numpynpy.npy\t\t      Testday2_merged.csv\n",
            "pronto_ann1_failure_architecture.png  Testday2_merged.png\n",
            "pronto_ann2_alarm_architecture.png    Testday3_merged.csv\n",
            "PRONTO_benchmark_case_study\t      Testday4_merged.csv\n"
          ],
          "name": "stdout"
        }
      ]
    },
    {
      "cell_type": "code",
      "metadata": {
        "id": "SxbyPW3gs3F3"
      },
      "source": [
        "input_data1 = input_arr1.to_numpy()\n",
        "target_data1 = target_arr1.to_numpy(dtype = np.int)"
      ],
      "execution_count": null,
      "outputs": []
    },
    {
      "cell_type": "code",
      "metadata": {
        "colab": {
          "base_uri": "https://localhost:8080/"
        },
        "id": "hSRqULkz96Ud",
        "outputId": "6110c214-29c7-4196-8d14-e36401df4320"
      },
      "source": [
        "input_data1 = input_data1.reshape(-1, 28, 1)\n",
        "print(input_data1.shape)"
      ],
      "execution_count": null,
      "outputs": [
        {
          "output_type": "stream",
          "text": [
            "(45420, 28, 1)\n"
          ],
          "name": "stdout"
        }
      ]
    },
    {
      "cell_type": "markdown",
      "metadata": {
        "id": "w8EH2mVhsyWQ"
      },
      "source": [
        "### Split train data and test data"
      ]
    },
    {
      "cell_type": "code",
      "metadata": {
        "colab": {
          "base_uri": "https://localhost:8080/"
        },
        "id": "oFMHhx9Jsw1x",
        "outputId": "7614fd6b-ef30-4577-d8c4-2abdcf41c796"
      },
      "source": [
        "train_input1, test_input1, train_target1, test_target1 = train_test_split(input_data1, target_data1, test_size = 0.2)\n",
        "print(train_input1.shape, test_input1.shape, train_target1.shape, test_target1.shape)"
      ],
      "execution_count": null,
      "outputs": [
        {
          "output_type": "stream",
          "text": [
            "(36336, 28, 1) (9084, 28, 1) (36336,) (9084,)\n"
          ],
          "name": "stdout"
        }
      ]
    },
    {
      "cell_type": "markdown",
      "metadata": {
        "id": "PDR58_GdIomu"
      },
      "source": [
        "### Normalize the data"
      ]
    },
    {
      "cell_type": "code",
      "metadata": {
        "id": "mX3nSJIBIXKZ"
      },
      "source": [
        "mean = train_input1.mean()\n",
        "std = train_input1.std()\n",
        "\n",
        "train_scaled1 = (train_input1 - mean) / std\n",
        "test_scaled1 = (test_input1 - mean) / std"
      ],
      "execution_count": null,
      "outputs": []
    },
    {
      "cell_type": "markdown",
      "metadata": {
        "id": "Jk6H2qnA7uwg"
      },
      "source": [
        "### Split train data and validation data"
      ]
    },
    {
      "cell_type": "code",
      "metadata": {
        "colab": {
          "base_uri": "https://localhost:8080/"
        },
        "id": "eWQaniC29M8c",
        "outputId": "5915b8ae-6de4-4937-d46e-a299cd6448d6"
      },
      "source": [
        "train_scaled1, val_scaled1, train_target1, val_target1 = train_test_split(train_scaled1, train_target1, test_size = 0.2)\n",
        "print(train_scaled1.shape, val_scaled1.shape, train_target1.shape, val_target1.shape)"
      ],
      "execution_count": null,
      "outputs": [
        {
          "output_type": "stream",
          "text": [
            "(29068, 28, 1) (7268, 28, 1) (29068,) (7268,)\n"
          ],
          "name": "stdout"
        }
      ]
    },
    {
      "cell_type": "code",
      "metadata": {
        "colab": {
          "base_uri": "https://localhost:8080/"
        },
        "id": "0bj_zcIFEkQ6",
        "outputId": "cc8b95ec-5fee-4681-87d3-4a2f10a28ad2"
      },
      "source": [
        "print(train_input1[:, :100, 0])"
      ],
      "execution_count": null,
      "outputs": [
        {
          "output_type": "stream",
          "text": [
            "[[ 0.          0.          1.         ... 98.33541107 40.85972977\n",
            "   1.39510405]\n",
            " [ 0.          0.          0.         ... 98.62212372  8.19772625\n",
            "   1.44240797]\n",
            " [ 0.          0.          0.         ... 98.46906281 32.48007965\n",
            "   1.40956199]\n",
            " ...\n",
            " [ 0.          0.          1.         ... 98.49568939  8.36553287\n",
            "   1.42387199]\n",
            " [ 0.          0.          0.         ... 98.65579224  7.89612913\n",
            "   1.44022906]\n",
            " [ 0.          0.          0.         ... 98.80213165  4.03325605\n",
            "   1.43020201]]\n"
          ],
          "name": "stdout"
        }
      ]
    },
    {
      "cell_type": "markdown",
      "metadata": {
        "id": "n0_dimRV-V5K"
      },
      "source": [
        "### Train Model\n",
        "- HTM, CNN, ANN, Random Forest, Support Vector machines, Logistic Regression, voted ensemble selection"
      ]
    },
    {
      "cell_type": "markdown",
      "metadata": {
        "id": "KmnlhQGf-pP7"
      },
      "source": [
        "#### CNN"
      ]
    },
    {
      "cell_type": "code",
      "metadata": {
        "colab": {
          "base_uri": "https://localhost:8080/",
          "height": 976
        },
        "id": "9joaRdKqAw4X",
        "outputId": "700d145b-cc16-47f3-c478-e77ff919294f"
      },
      "source": [
        "cnn1 = keras.Sequential()\n",
        "cnn1.add(keras.layers.Conv1D(32, kernel_size = 2, padding = 'same', activation = 'relu', input_shape = (28, 1)))\n",
        "cnn1.add(keras.layers.MaxPooling1D(2))\n",
        "cnn1.add(keras.layers.Conv1D(64, kernel_size = 2, padding = 'same', activation = 'relu'))\n",
        "cnn1.add(keras.layers.MaxPooling1D(2))\n",
        "cnn1.add(keras.layers.Flatten())\n",
        "cnn1.add(keras.layers.Dense(200, activation = 'relu'))\n",
        "cnn1.add(keras.layers.Dropout(0.4))\n",
        "cnn1.add(keras.layers.Dense(5, activation = 'softmax'))\n",
        "keras.utils.plot_model(cnn1, to_file = './pronto_cnn_failure_architecture.png', show_shapes = True)"
      ],
      "execution_count": null,
      "outputs": [
        {
          "output_type": "execute_result",
          "data": {
            "image/png": "[encoded data removed]",
            "text/plain": [
              "<IPython.core.display.Image object>"
            ]
          },
          "metadata": {
            "tags": []
          },
          "execution_count": 25
        }
      ]
    },
    {
      "cell_type": "code",
      "metadata": {
        "colab": {
          "base_uri": "https://localhost:8080/"
        },
        "id": "eDaB-7wEDPvy",
        "outputId": "a34d02b8-5bb0-4615-95fd-3a7f1d61c824"
      },
      "source": [
        "cnn1.compile(optimizer = 'adam', loss = 'sparse_categorical_crossentropy', metrics = 'accuracy')\n",
        "checkpoint_cb = keras.callbacks.ModelCheckpoint('./best_cnn_failure_model.h5')\n",
        "earlystopping_cb = keras.callbacks.EarlyStopping(patience = 10, restore_best_weights= True)\n",
        "cnn1_history = cnn1.fit(train_scaled1, train_target1, epochs = 100, validation_data = (val_scaled1, val_target1), callbacks = [checkpoint_cb, earlystopping_cb])"
      ],
      "execution_count": null,
      "outputs": [
        {
          "output_type": "stream",
          "text": [
            "Epoch 1/100\n",
            "909/909 [==============================] - 6s 5ms/step - loss: 1.0685 - accuracy: 0.5100 - val_loss: 0.8235 - val_accuracy: 0.6308\n",
            "Epoch 2/100\n",
            "909/909 [==============================] - 4s 5ms/step - loss: 0.7985 - accuracy: 0.6405 - val_loss: 0.7309 - val_accuracy: 0.8121\n",
            "Epoch 3/100\n",
            "909/909 [==============================] - 5s 5ms/step - loss: 0.6668 - accuracy: 0.7350 - val_loss: 0.5404 - val_accuracy: 0.8492\n",
            "Epoch 4/100\n",
            "909/909 [==============================] - 5s 5ms/step - loss: 0.5050 - accuracy: 0.8317 - val_loss: 0.3966 - val_accuracy: 0.8653\n",
            "Epoch 5/100\n",
            "909/909 [==============================] - 4s 5ms/step - loss: 0.4177 - accuracy: 0.8618 - val_loss: 0.3700 - val_accuracy: 0.8675\n",
            "Epoch 6/100\n",
            "909/909 [==============================] - 5s 5ms/step - loss: 0.3901 - accuracy: 0.8718 - val_loss: 0.3982 - val_accuracy: 0.8514\n",
            "Epoch 7/100\n",
            "909/909 [==============================] - 5s 5ms/step - loss: 0.3729 - accuracy: 0.8761 - val_loss: 0.3799 - val_accuracy: 0.8632\n",
            "Epoch 8/100\n",
            "909/909 [==============================] - 5s 6ms/step - loss: 0.3568 - accuracy: 0.8817 - val_loss: 0.3607 - val_accuracy: 0.8892\n",
            "Epoch 9/100\n",
            "909/909 [==============================] - 4s 5ms/step - loss: 0.3443 - accuracy: 0.8845 - val_loss: 0.3070 - val_accuracy: 0.8942\n",
            "Epoch 10/100\n",
            "909/909 [==============================] - 4s 5ms/step - loss: 0.3331 - accuracy: 0.8879 - val_loss: 0.3592 - val_accuracy: 0.8594\n",
            "Epoch 11/100\n",
            "909/909 [==============================] - 5s 5ms/step - loss: 0.3264 - accuracy: 0.8899 - val_loss: 0.3001 - val_accuracy: 0.8919\n",
            "Epoch 12/100\n",
            "909/909 [==============================] - 5s 5ms/step - loss: 0.3156 - accuracy: 0.8934 - val_loss: 0.2871 - val_accuracy: 0.8983\n",
            "Epoch 13/100\n",
            "909/909 [==============================] - 5s 5ms/step - loss: 0.3077 - accuracy: 0.8952 - val_loss: 0.2972 - val_accuracy: 0.8906\n",
            "Epoch 14/100\n",
            "909/909 [==============================] - 5s 5ms/step - loss: 0.3019 - accuracy: 0.8951 - val_loss: 0.2918 - val_accuracy: 0.8928\n",
            "Epoch 15/100\n",
            "909/909 [==============================] - 5s 5ms/step - loss: 0.3014 - accuracy: 0.8965 - val_loss: 0.2642 - val_accuracy: 0.9095\n",
            "Epoch 16/100\n",
            "909/909 [==============================] - 5s 5ms/step - loss: 0.2884 - accuracy: 0.9004 - val_loss: 0.3386 - val_accuracy: 0.8835\n",
            "Epoch 17/100\n",
            "909/909 [==============================] - 5s 5ms/step - loss: 0.2847 - accuracy: 0.9011 - val_loss: 0.2433 - val_accuracy: 0.9118\n",
            "Epoch 18/100\n",
            "909/909 [==============================] - 5s 5ms/step - loss: 0.2763 - accuracy: 0.9019 - val_loss: 0.2392 - val_accuracy: 0.9150\n",
            "Epoch 19/100\n",
            "909/909 [==============================] - 5s 5ms/step - loss: 0.2739 - accuracy: 0.9041 - val_loss: 0.2458 - val_accuracy: 0.9150\n",
            "Epoch 20/100\n",
            "909/909 [==============================] - 5s 5ms/step - loss: 0.2684 - accuracy: 0.9055 - val_loss: 0.2456 - val_accuracy: 0.9122\n",
            "Epoch 21/100\n",
            "909/909 [==============================] - 5s 5ms/step - loss: 0.2568 - accuracy: 0.9078 - val_loss: 0.2168 - val_accuracy: 0.9152\n",
            "Epoch 22/100\n",
            "909/909 [==============================] - 5s 5ms/step - loss: 0.2558 - accuracy: 0.9093 - val_loss: 0.2247 - val_accuracy: 0.9163\n",
            "Epoch 23/100\n",
            "909/909 [==============================] - 5s 5ms/step - loss: 0.2399 - accuracy: 0.9141 - val_loss: 0.2314 - val_accuracy: 0.9081\n",
            "Epoch 24/100\n",
            "909/909 [==============================] - 5s 6ms/step - loss: 0.2489 - accuracy: 0.9117 - val_loss: 0.2627 - val_accuracy: 0.9001\n",
            "Epoch 25/100\n",
            "909/909 [==============================] - 5s 5ms/step - loss: 0.2411 - accuracy: 0.9124 - val_loss: 0.2587 - val_accuracy: 0.8873\n",
            "Epoch 26/100\n",
            "909/909 [==============================] - 4s 5ms/step - loss: 0.2413 - accuracy: 0.9132 - val_loss: 0.2051 - val_accuracy: 0.9169\n",
            "Epoch 27/100\n",
            "909/909 [==============================] - 5s 6ms/step - loss: 0.2274 - accuracy: 0.9171 - val_loss: 0.2066 - val_accuracy: 0.9174\n",
            "Epoch 28/100\n",
            "909/909 [==============================] - 5s 5ms/step - loss: 0.2339 - accuracy: 0.9156 - val_loss: 0.2491 - val_accuracy: 0.9147\n",
            "Epoch 29/100\n",
            "909/909 [==============================] - 5s 5ms/step - loss: 0.2283 - accuracy: 0.9180 - val_loss: 0.2212 - val_accuracy: 0.9179\n",
            "Epoch 30/100\n",
            "909/909 [==============================] - 5s 5ms/step - loss: 0.2227 - accuracy: 0.9195 - val_loss: 0.2184 - val_accuracy: 0.9166\n",
            "Epoch 31/100\n",
            "909/909 [==============================] - 5s 6ms/step - loss: 0.2166 - accuracy: 0.9212 - val_loss: 0.1839 - val_accuracy: 0.9257\n",
            "Epoch 32/100\n",
            "909/909 [==============================] - 5s 6ms/step - loss: 0.2176 - accuracy: 0.9201 - val_loss: 0.1891 - val_accuracy: 0.9217\n",
            "Epoch 33/100\n",
            "909/909 [==============================] - 5s 5ms/step - loss: 0.2183 - accuracy: 0.9221 - val_loss: 0.2019 - val_accuracy: 0.9323\n",
            "Epoch 34/100\n",
            "909/909 [==============================] - 5s 6ms/step - loss: 0.2153 - accuracy: 0.9205 - val_loss: 0.2060 - val_accuracy: 0.9152\n",
            "Epoch 35/100\n",
            "909/909 [==============================] - 5s 5ms/step - loss: 0.2076 - accuracy: 0.9246 - val_loss: 0.1668 - val_accuracy: 0.9349\n",
            "Epoch 36/100\n",
            "909/909 [==============================] - 5s 5ms/step - loss: 0.2183 - accuracy: 0.9212 - val_loss: 0.1848 - val_accuracy: 0.9257\n",
            "Epoch 37/100\n",
            "909/909 [==============================] - 5s 6ms/step - loss: 0.2124 - accuracy: 0.9221 - val_loss: 0.2099 - val_accuracy: 0.9199\n",
            "Epoch 38/100\n",
            "909/909 [==============================] - 5s 5ms/step - loss: 0.2055 - accuracy: 0.9231 - val_loss: 0.1937 - val_accuracy: 0.9228\n",
            "Epoch 39/100\n",
            "909/909 [==============================] - 5s 5ms/step - loss: 0.2036 - accuracy: 0.9237 - val_loss: 0.2871 - val_accuracy: 0.8818\n",
            "Epoch 40/100\n",
            "909/909 [==============================] - 5s 5ms/step - loss: 0.2049 - accuracy: 0.9249 - val_loss: 0.1909 - val_accuracy: 0.9220\n",
            "Epoch 41/100\n",
            "909/909 [==============================] - 5s 5ms/step - loss: 0.2064 - accuracy: 0.9234 - val_loss: 0.2326 - val_accuracy: 0.9195\n",
            "Epoch 42/100\n",
            "909/909 [==============================] - 5s 5ms/step - loss: 0.1999 - accuracy: 0.9251 - val_loss: 0.1919 - val_accuracy: 0.9224\n",
            "Epoch 43/100\n",
            "909/909 [==============================] - 5s 5ms/step - loss: 0.1978 - accuracy: 0.9280 - val_loss: 0.1536 - val_accuracy: 0.9359\n",
            "Epoch 44/100\n",
            "909/909 [==============================] - 5s 5ms/step - loss: 0.1885 - accuracy: 0.9297 - val_loss: 0.2028 - val_accuracy: 0.9261\n",
            "Epoch 45/100\n",
            "909/909 [==============================] - 5s 5ms/step - loss: 0.1899 - accuracy: 0.9291 - val_loss: 0.1616 - val_accuracy: 0.9418\n",
            "Epoch 46/100\n",
            "909/909 [==============================] - 5s 5ms/step - loss: 0.1938 - accuracy: 0.9266 - val_loss: 0.2227 - val_accuracy: 0.9232\n",
            "Epoch 47/100\n",
            "909/909 [==============================] - 5s 5ms/step - loss: 0.1983 - accuracy: 0.9259 - val_loss: 0.2148 - val_accuracy: 0.9179\n",
            "Epoch 48/100\n",
            "909/909 [==============================] - 5s 5ms/step - loss: 0.1908 - accuracy: 0.9282 - val_loss: 0.1959 - val_accuracy: 0.9253\n",
            "Epoch 49/100\n",
            "909/909 [==============================] - 5s 5ms/step - loss: 0.1939 - accuracy: 0.9278 - val_loss: 0.1549 - val_accuracy: 0.9397\n",
            "Epoch 50/100\n",
            "909/909 [==============================] - 5s 5ms/step - loss: 0.1848 - accuracy: 0.9308 - val_loss: 0.1917 - val_accuracy: 0.9274\n",
            "Epoch 51/100\n",
            "909/909 [==============================] - 5s 5ms/step - loss: 0.1958 - accuracy: 0.9257 - val_loss: 0.1763 - val_accuracy: 0.9258\n",
            "Epoch 52/100\n",
            "909/909 [==============================] - 5s 5ms/step - loss: 0.1825 - accuracy: 0.9309 - val_loss: 0.1552 - val_accuracy: 0.9355\n",
            "Epoch 53/100\n",
            "909/909 [==============================] - 5s 5ms/step - loss: 0.1807 - accuracy: 0.9302 - val_loss: 0.2300 - val_accuracy: 0.9115\n"
          ],
          "name": "stdout"
        }
      ]
    },
    {
      "cell_type": "markdown",
      "metadata": {
        "id": "cWnHxm2i-q6r"
      },
      "source": [
        "#### ANN"
      ]
    },
    {
      "cell_type": "code",
      "metadata": {
        "colab": {
          "base_uri": "https://localhost:8080/",
          "height": 422
        },
        "id": "zHBfBzIGHxvJ",
        "outputId": "47fc2a46-fc4f-4ebb-aaad-b1fce0d6cfa1"
      },
      "source": [
        "ann1 = keras.Sequential()\n",
        "ann1.add(keras.layers.Flatten(input_shape = (28, 1)))\n",
        "ann1.add(keras.layers.Dense(100, activation = 'relu'))\n",
        "ann1.add(keras.layers.Dense(5, activation = 'softmax'))\n",
        "keras.utils.plot_model(ann1, to_file = './pronto_ann1_failure_architecture.png', show_shapes = True)\n"
      ],
      "execution_count": null,
      "outputs": [
        {
          "output_type": "execute_result",
          "data": {
            "image/png": "[encoded data removed]",
            "text/plain": [
              "<IPython.core.display.Image object>"
            ]
          },
          "metadata": {
            "tags": []
          },
          "execution_count": 28
        }
      ]
    },
    {
      "cell_type": "code",
      "metadata": {
        "colab": {
          "base_uri": "https://localhost:8080/"
        },
        "id": "KgX6Q40iK1fE",
        "outputId": "b01cac82-a474-4fad-b6b9-16895f53bdc2"
      },
      "source": [
        "ann1.compile(optimizer = 'adam', loss = 'sparse_categorical_crossentropy', metrics = 'accuracy')\n",
        "checkpoint_cb = keras.callbacks.ModelCheckpoint('./best_ann_failure_model.h5')\n",
        "earlystopping_cb = keras.callbacks.EarlyStopping(patience = 10, restore_best_weights= True)\n",
        "ann1_history = ann1.fit(train_scaled1, train_target1, epochs = 100, validation_data = (val_scaled1, val_target1), callbacks = [checkpoint_cb, earlystopping_cb])"
      ],
      "execution_count": null,
      "outputs": [
        {
          "output_type": "stream",
          "text": [
            "Epoch 1/100\n",
            "909/909 [==============================] - 2s 2ms/step - loss: 1.3641 - accuracy: 0.3958 - val_loss: 1.1922 - val_accuracy: 0.5338\n",
            "Epoch 2/100\n",
            "909/909 [==============================] - 2s 2ms/step - loss: 1.0986 - accuracy: 0.5444 - val_loss: 1.0047 - val_accuracy: 0.5809\n",
            "Epoch 3/100\n",
            "909/909 [==============================] - 1s 2ms/step - loss: 0.9664 - accuracy: 0.5785 - val_loss: 0.9240 - val_accuracy: 0.5903\n",
            "Epoch 4/100\n",
            "909/909 [==============================] - 2s 2ms/step - loss: 0.9115 - accuracy: 0.5916 - val_loss: 0.8944 - val_accuracy: 0.5929\n",
            "Epoch 5/100\n",
            "909/909 [==============================] - 2s 2ms/step - loss: 0.8803 - accuracy: 0.6046 - val_loss: 0.8696 - val_accuracy: 0.5871\n",
            "Epoch 6/100\n",
            "909/909 [==============================] - 2s 2ms/step - loss: 0.8571 - accuracy: 0.6138 - val_loss: 0.8444 - val_accuracy: 0.6128\n",
            "Epoch 7/100\n",
            "909/909 [==============================] - 1s 2ms/step - loss: 0.8403 - accuracy: 0.6202 - val_loss: 0.8393 - val_accuracy: 0.6037\n",
            "Epoch 8/100\n",
            "909/909 [==============================] - 1s 2ms/step - loss: 0.8252 - accuracy: 0.6279 - val_loss: 0.8208 - val_accuracy: 0.6413\n",
            "Epoch 9/100\n",
            "909/909 [==============================] - 2s 2ms/step - loss: 0.8093 - accuracy: 0.6400 - val_loss: 0.8087 - val_accuracy: 0.6637\n",
            "Epoch 10/100\n",
            "909/909 [==============================] - 1s 2ms/step - loss: 0.7975 - accuracy: 0.6491 - val_loss: 0.7853 - val_accuracy: 0.7073\n",
            "Epoch 11/100\n",
            "909/909 [==============================] - 2s 2ms/step - loss: 0.7837 - accuracy: 0.6633 - val_loss: 0.7742 - val_accuracy: 0.6899\n",
            "Epoch 12/100\n",
            "909/909 [==============================] - 1s 2ms/step - loss: 0.7701 - accuracy: 0.6704 - val_loss: 0.7589 - val_accuracy: 0.6545\n",
            "Epoch 13/100\n",
            "909/909 [==============================] - 1s 2ms/step - loss: 0.7576 - accuracy: 0.6781 - val_loss: 0.7478 - val_accuracy: 0.7207\n",
            "Epoch 14/100\n",
            "909/909 [==============================] - 1s 2ms/step - loss: 0.7445 - accuracy: 0.6879 - val_loss: 0.7381 - val_accuracy: 0.7062\n",
            "Epoch 15/100\n",
            "909/909 [==============================] - 2s 2ms/step - loss: 0.7313 - accuracy: 0.6960 - val_loss: 0.7240 - val_accuracy: 0.6635\n",
            "Epoch 16/100\n",
            "909/909 [==============================] - 2s 2ms/step - loss: 0.7183 - accuracy: 0.7119 - val_loss: 0.7185 - val_accuracy: 0.6878\n",
            "Epoch 17/100\n",
            "909/909 [==============================] - 2s 2ms/step - loss: 0.7088 - accuracy: 0.7220 - val_loss: 0.7115 - val_accuracy: 0.7589\n",
            "Epoch 18/100\n",
            "909/909 [==============================] - 2s 2ms/step - loss: 0.6936 - accuracy: 0.7392 - val_loss: 0.6966 - val_accuracy: 0.7379\n",
            "Epoch 19/100\n",
            "909/909 [==============================] - 2s 2ms/step - loss: 0.6806 - accuracy: 0.7460 - val_loss: 0.6867 - val_accuracy: 0.7463\n",
            "Epoch 20/100\n",
            "909/909 [==============================] - 2s 2ms/step - loss: 0.6705 - accuracy: 0.7578 - val_loss: 0.6686 - val_accuracy: 0.7331\n",
            "Epoch 21/100\n",
            "909/909 [==============================] - 2s 2ms/step - loss: 0.6573 - accuracy: 0.7675 - val_loss: 0.6613 - val_accuracy: 0.8065\n",
            "Epoch 22/100\n",
            "909/909 [==============================] - 2s 2ms/step - loss: 0.6449 - accuracy: 0.7757 - val_loss: 0.6401 - val_accuracy: 0.8021\n",
            "Epoch 23/100\n",
            "909/909 [==============================] - 1s 2ms/step - loss: 0.6340 - accuracy: 0.7862 - val_loss: 0.6372 - val_accuracy: 0.7686\n",
            "Epoch 24/100\n",
            "909/909 [==============================] - 2s 2ms/step - loss: 0.6219 - accuracy: 0.7927 - val_loss: 0.6185 - val_accuracy: 0.7878\n",
            "Epoch 25/100\n",
            "909/909 [==============================] - 2s 2ms/step - loss: 0.6100 - accuracy: 0.8002 - val_loss: 0.6197 - val_accuracy: 0.7755\n",
            "Epoch 26/100\n",
            "909/909 [==============================] - 1s 2ms/step - loss: 0.5988 - accuracy: 0.8091 - val_loss: 0.6287 - val_accuracy: 0.8070\n",
            "Epoch 27/100\n",
            "909/909 [==============================] - 2s 2ms/step - loss: 0.5875 - accuracy: 0.8172 - val_loss: 0.5766 - val_accuracy: 0.8414\n",
            "Epoch 28/100\n",
            "909/909 [==============================] - 2s 2ms/step - loss: 0.5767 - accuracy: 0.8228 - val_loss: 0.5802 - val_accuracy: 0.8193\n",
            "Epoch 29/100\n",
            "909/909 [==============================] - 2s 2ms/step - loss: 0.5682 - accuracy: 0.8250 - val_loss: 0.5547 - val_accuracy: 0.8546\n",
            "Epoch 30/100\n",
            "909/909 [==============================] - 2s 2ms/step - loss: 0.5514 - accuracy: 0.8399 - val_loss: 0.5405 - val_accuracy: 0.8393\n",
            "Epoch 31/100\n",
            "909/909 [==============================] - 2s 2ms/step - loss: 0.5439 - accuracy: 0.8414 - val_loss: 0.5572 - val_accuracy: 0.8357\n",
            "Epoch 32/100\n",
            "909/909 [==============================] - 1s 2ms/step - loss: 0.5353 - accuracy: 0.8430 - val_loss: 0.5395 - val_accuracy: 0.7939\n",
            "Epoch 33/100\n",
            "909/909 [==============================] - 2s 2ms/step - loss: 0.5233 - accuracy: 0.8504 - val_loss: 0.5510 - val_accuracy: 0.8444\n",
            "Epoch 34/100\n",
            "909/909 [==============================] - 2s 2ms/step - loss: 0.5129 - accuracy: 0.8563 - val_loss: 0.5201 - val_accuracy: 0.8639\n",
            "Epoch 35/100\n",
            "909/909 [==============================] - 2s 2ms/step - loss: 0.5042 - accuracy: 0.8615 - val_loss: 0.5102 - val_accuracy: 0.8268\n",
            "Epoch 36/100\n",
            "909/909 [==============================] - 2s 2ms/step - loss: 0.4969 - accuracy: 0.8596 - val_loss: 0.4913 - val_accuracy: 0.8621\n",
            "Epoch 37/100\n",
            "909/909 [==============================] - 2s 2ms/step - loss: 0.4893 - accuracy: 0.8617 - val_loss: 0.4961 - val_accuracy: 0.8634\n",
            "Epoch 38/100\n",
            "909/909 [==============================] - 2s 2ms/step - loss: 0.4786 - accuracy: 0.8656 - val_loss: 0.4821 - val_accuracy: 0.8646\n",
            "Epoch 39/100\n",
            "909/909 [==============================] - 2s 2ms/step - loss: 0.4752 - accuracy: 0.8670 - val_loss: 0.4774 - val_accuracy: 0.8535\n",
            "Epoch 40/100\n",
            "909/909 [==============================] - 1s 2ms/step - loss: 0.4652 - accuracy: 0.8690 - val_loss: 0.4869 - val_accuracy: 0.8491\n",
            "Epoch 41/100\n",
            "909/909 [==============================] - 1s 2ms/step - loss: 0.4600 - accuracy: 0.8704 - val_loss: 0.4895 - val_accuracy: 0.8625\n",
            "Epoch 42/100\n",
            "909/909 [==============================] - 2s 2ms/step - loss: 0.4547 - accuracy: 0.8717 - val_loss: 0.4643 - val_accuracy: 0.8583\n",
            "Epoch 43/100\n",
            "909/909 [==============================] - 2s 2ms/step - loss: 0.4519 - accuracy: 0.8688 - val_loss: 0.4661 - val_accuracy: 0.8558\n",
            "Epoch 44/100\n",
            "909/909 [==============================] - 1s 2ms/step - loss: 0.4409 - accuracy: 0.8764 - val_loss: 0.4462 - val_accuracy: 0.8635\n",
            "Epoch 45/100\n",
            "909/909 [==============================] - 1s 2ms/step - loss: 0.4371 - accuracy: 0.8738 - val_loss: 0.4572 - val_accuracy: 0.8686\n",
            "Epoch 46/100\n",
            "909/909 [==============================] - 2s 2ms/step - loss: 0.4336 - accuracy: 0.8755 - val_loss: 0.4403 - val_accuracy: 0.8821\n",
            "Epoch 47/100\n",
            "909/909 [==============================] - 2s 2ms/step - loss: 0.4285 - accuracy: 0.8767 - val_loss: 0.4542 - val_accuracy: 0.8570\n",
            "Epoch 48/100\n",
            "909/909 [==============================] - 2s 2ms/step - loss: 0.4237 - accuracy: 0.8775 - val_loss: 0.4349 - val_accuracy: 0.8839\n",
            "Epoch 49/100\n",
            "909/909 [==============================] - 2s 2ms/step - loss: 0.4187 - accuracy: 0.8795 - val_loss: 0.4500 - val_accuracy: 0.8675\n",
            "Epoch 50/100\n",
            "909/909 [==============================] - 2s 2ms/step - loss: 0.4169 - accuracy: 0.8787 - val_loss: 0.4357 - val_accuracy: 0.8668\n",
            "Epoch 51/100\n",
            "909/909 [==============================] - 2s 2ms/step - loss: 0.4130 - accuracy: 0.8790 - val_loss: 0.4173 - val_accuracy: 0.8818\n",
            "Epoch 52/100\n",
            "909/909 [==============================] - 2s 2ms/step - loss: 0.4099 - accuracy: 0.8772 - val_loss: 0.4042 - val_accuracy: 0.8775\n",
            "Epoch 53/100\n",
            "909/909 [==============================] - 2s 2ms/step - loss: 0.4072 - accuracy: 0.8795 - val_loss: 0.4248 - val_accuracy: 0.8653\n",
            "Epoch 54/100\n",
            "909/909 [==============================] - 2s 2ms/step - loss: 0.4024 - accuracy: 0.8785 - val_loss: 0.4123 - val_accuracy: 0.8708\n",
            "Epoch 55/100\n",
            "909/909 [==============================] - 2s 2ms/step - loss: 0.4006 - accuracy: 0.8805 - val_loss: 0.4179 - val_accuracy: 0.8814\n",
            "Epoch 56/100\n",
            "909/909 [==============================] - 2s 2ms/step - loss: 0.3936 - accuracy: 0.8841 - val_loss: 0.4243 - val_accuracy: 0.8692\n",
            "Epoch 57/100\n",
            "909/909 [==============================] - 2s 2ms/step - loss: 0.3921 - accuracy: 0.8835 - val_loss: 0.4210 - val_accuracy: 0.8701\n",
            "Epoch 58/100\n",
            "909/909 [==============================] - 2s 2ms/step - loss: 0.3896 - accuracy: 0.8839 - val_loss: 0.3924 - val_accuracy: 0.8741\n",
            "Epoch 59/100\n",
            "909/909 [==============================] - 2s 2ms/step - loss: 0.3893 - accuracy: 0.8838 - val_loss: 0.3962 - val_accuracy: 0.8696\n",
            "Epoch 60/100\n",
            "909/909 [==============================] - 1s 2ms/step - loss: 0.3889 - accuracy: 0.8828 - val_loss: 0.3995 - val_accuracy: 0.8733\n",
            "Epoch 61/100\n",
            "909/909 [==============================] - 2s 2ms/step - loss: 0.3833 - accuracy: 0.8846 - val_loss: 0.3888 - val_accuracy: 0.8777\n",
            "Epoch 62/100\n",
            "909/909 [==============================] - 2s 2ms/step - loss: 0.3822 - accuracy: 0.8853 - val_loss: 0.3896 - val_accuracy: 0.8797\n",
            "Epoch 63/100\n",
            "909/909 [==============================] - 2s 2ms/step - loss: 0.3806 - accuracy: 0.8837 - val_loss: 0.4106 - val_accuracy: 0.8862\n",
            "Epoch 64/100\n",
            "909/909 [==============================] - 2s 2ms/step - loss: 0.3776 - accuracy: 0.8845 - val_loss: 0.4302 - val_accuracy: 0.8748\n",
            "Epoch 65/100\n",
            "909/909 [==============================] - 2s 2ms/step - loss: 0.3776 - accuracy: 0.8848 - val_loss: 0.3869 - val_accuracy: 0.8913\n",
            "Epoch 66/100\n",
            "909/909 [==============================] - 2s 2ms/step - loss: 0.3758 - accuracy: 0.8863 - val_loss: 0.4040 - val_accuracy: 0.8659\n",
            "Epoch 67/100\n",
            "909/909 [==============================] - 2s 2ms/step - loss: 0.3709 - accuracy: 0.8866 - val_loss: 0.3695 - val_accuracy: 0.8814\n",
            "Epoch 68/100\n",
            "909/909 [==============================] - 2s 2ms/step - loss: 0.3708 - accuracy: 0.8865 - val_loss: 0.3749 - val_accuracy: 0.8914\n",
            "Epoch 69/100\n",
            "909/909 [==============================] - 2s 2ms/step - loss: 0.3696 - accuracy: 0.8875 - val_loss: 0.3896 - val_accuracy: 0.8774\n",
            "Epoch 70/100\n",
            "909/909 [==============================] - 2s 2ms/step - loss: 0.3673 - accuracy: 0.8853 - val_loss: 0.3861 - val_accuracy: 0.8748\n",
            "Epoch 71/100\n",
            "909/909 [==============================] - 2s 2ms/step - loss: 0.3640 - accuracy: 0.8882 - val_loss: 0.3691 - val_accuracy: 0.8778\n",
            "Epoch 72/100\n",
            "909/909 [==============================] - 2s 2ms/step - loss: 0.3666 - accuracy: 0.8864 - val_loss: 0.3662 - val_accuracy: 0.8872\n",
            "Epoch 73/100\n",
            "909/909 [==============================] - 2s 2ms/step - loss: 0.3643 - accuracy: 0.8884 - val_loss: 0.3826 - val_accuracy: 0.8709\n",
            "Epoch 74/100\n",
            "909/909 [==============================] - 2s 2ms/step - loss: 0.3639 - accuracy: 0.8875 - val_loss: 0.3809 - val_accuracy: 0.8909\n",
            "Epoch 75/100\n",
            "909/909 [==============================] - 2s 2ms/step - loss: 0.3579 - accuracy: 0.8872 - val_loss: 0.3865 - val_accuracy: 0.8858\n",
            "Epoch 76/100\n",
            "909/909 [==============================] - 2s 2ms/step - loss: 0.3579 - accuracy: 0.8892 - val_loss: 0.3803 - val_accuracy: 0.8744\n",
            "Epoch 77/100\n",
            "909/909 [==============================] - 2s 2ms/step - loss: 0.3566 - accuracy: 0.8875 - val_loss: 0.3830 - val_accuracy: 0.8972\n",
            "Epoch 78/100\n",
            "909/909 [==============================] - 2s 2ms/step - loss: 0.3550 - accuracy: 0.8882 - val_loss: 0.3937 - val_accuracy: 0.8901\n",
            "Epoch 79/100\n",
            "909/909 [==============================] - 2s 2ms/step - loss: 0.3533 - accuracy: 0.8873 - val_loss: 0.3772 - val_accuracy: 0.8836\n",
            "Epoch 80/100\n",
            "909/909 [==============================] - 2s 2ms/step - loss: 0.3541 - accuracy: 0.8872 - val_loss: 0.3993 - val_accuracy: 0.8670\n",
            "Epoch 81/100\n",
            "909/909 [==============================] - 2s 2ms/step - loss: 0.3499 - accuracy: 0.8885 - val_loss: 0.3679 - val_accuracy: 0.8830\n",
            "Epoch 82/100\n",
            "909/909 [==============================] - 2s 2ms/step - loss: 0.3513 - accuracy: 0.8888 - val_loss: 0.3713 - val_accuracy: 0.8734\n"
          ],
          "name": "stdout"
        }
      ]
    },
    {
      "cell_type": "markdown",
      "metadata": {
        "id": "1cBBAkVSiWFC"
      },
      "source": [
        "### Reshape the data for Machine Learning"
      ]
    },
    {
      "cell_type": "code",
      "metadata": {
        "colab": {
          "base_uri": "https://localhost:8080/"
        },
        "id": "owSAodhFNS7n",
        "outputId": "bcb1ff05-c645-472f-f20c-83be853b5ec4"
      },
      "source": [
        "train_scaled11 = train_scaled1.reshape(-1, 28)\n",
        "print(train_scaled11.shape)"
      ],
      "execution_count": null,
      "outputs": [
        {
          "output_type": "stream",
          "text": [
            "(29068, 28)\n"
          ],
          "name": "stdout"
        }
      ]
    },
    {
      "cell_type": "markdown",
      "metadata": {
        "id": "o-VbOksNAI56"
      },
      "source": [
        "#### Random Forest"
      ]
    },
    {
      "cell_type": "code",
      "metadata": {
        "colab": {
          "base_uri": "https://localhost:8080/"
        },
        "id": "Ird7uQLTMcSt",
        "outputId": "437414d2-ce06-4ecf-f882-1d427d55917b"
      },
      "source": [
        "rf1 = RandomForestClassifier(n_jobs=-1, oob_score=True)\n",
        "print(rf1)"
      ],
      "execution_count": null,
      "outputs": [
        {
          "output_type": "stream",
          "text": [
            "RandomForestClassifier(bootstrap=True, ccp_alpha=0.0, class_weight=None,\n",
            "                       criterion='gini', max_depth=None, max_features='auto',\n",
            "                       max_leaf_nodes=None, max_samples=None,\n",
            "                       min_impurity_decrease=0.0, min_impurity_split=None,\n",
            "                       min_samples_leaf=1, min_samples_split=2,\n",
            "                       min_weight_fraction_leaf=0.0, n_estimators=100,\n",
            "                       n_jobs=-1, oob_score=True, random_state=None, verbose=0,\n",
            "                       warm_start=False)\n"
          ],
          "name": "stdout"
        }
      ]
    },
    {
      "cell_type": "code",
      "metadata": {
        "colab": {
          "base_uri": "https://localhost:8080/"
        },
        "id": "FFUuBj16N6B7",
        "outputId": "33b980da-828f-4fd5-c141-a03498291324"
      },
      "source": [
        "rf1.fit(train_scaled11, train_target1)"
      ],
      "execution_count": null,
      "outputs": [
        {
          "output_type": "execute_result",
          "data": {
            "text/plain": [
              "RandomForestClassifier(bootstrap=True, ccp_alpha=0.0, class_weight=None,\n",
              "                       criterion='gini', max_depth=None, max_features='auto',\n",
              "                       max_leaf_nodes=None, max_samples=None,\n",
              "                       min_impurity_decrease=0.0, min_impurity_split=None,\n",
              "                       min_samples_leaf=1, min_samples_split=2,\n",
              "                       min_weight_fraction_leaf=0.0, n_estimators=100,\n",
              "                       n_jobs=-1, oob_score=True, random_state=None, verbose=0,\n",
              "                       warm_start=False)"
            ]
          },
          "metadata": {
            "tags": []
          },
          "execution_count": 47
        }
      ]
    },
    {
      "cell_type": "code",
      "metadata": {
        "id": "2lGiLKdFOUu3"
      },
      "source": [
        "rf1_train = rf1.score(train_scaled11, train_target1)"
      ],
      "execution_count": null,
      "outputs": []
    },
    {
      "cell_type": "code",
      "metadata": {
        "id": "nU-bhSlLOfF-"
      },
      "source": [
        "val_scaled11 = val_scaled1.reshape(-1, 28)"
      ],
      "execution_count": null,
      "outputs": []
    },
    {
      "cell_type": "code",
      "metadata": {
        "id": "5-l-y-U5OdyI"
      },
      "source": [
        "rf1_val = rf1.score(val_scaled11, val_target1)"
      ],
      "execution_count": null,
      "outputs": []
    },
    {
      "cell_type": "markdown",
      "metadata": {
        "id": "xVs-MhmwAMf6"
      },
      "source": [
        "#### Support Vector machine"
      ]
    },
    {
      "cell_type": "code",
      "metadata": {
        "colab": {
          "base_uri": "https://localhost:8080/"
        },
        "id": "jSdqt1CgS1fV",
        "outputId": "b317fdf2-763e-4bc0-a404-1e2fde74ccc5"
      },
      "source": [
        "svm1 = svm.LinearSVC(C = 1.0, max_iter = 10000)\n",
        "svm1.fit(train_scaled11, train_target1)"
      ],
      "execution_count": null,
      "outputs": [
        {
          "output_type": "execute_result",
          "data": {
            "text/plain": [
              "LinearSVC(C=1.0, class_weight=None, dual=True, fit_intercept=True,\n",
              "          intercept_scaling=1, loss='squared_hinge', max_iter=10000,\n",
              "          multi_class='ovr', penalty='l2', random_state=None, tol=0.0001,\n",
              "          verbose=0)"
            ]
          },
          "metadata": {
            "tags": []
          },
          "execution_count": 51
        }
      ]
    },
    {
      "cell_type": "code",
      "metadata": {
        "id": "KTDiefx3THqy"
      },
      "source": [
        "svm1_train = svm1.score(train_scaled11, train_target1)"
      ],
      "execution_count": null,
      "outputs": []
    },
    {
      "cell_type": "code",
      "metadata": {
        "id": "VS-6-CWfTRb0"
      },
      "source": [
        "svm1_val = svm1.score(val_scaled11, val_target1)"
      ],
      "execution_count": null,
      "outputs": []
    },
    {
      "cell_type": "code",
      "metadata": {
        "colab": {
          "base_uri": "https://localhost:8080/"
        },
        "id": "yT7eOsLBTXnD",
        "outputId": "60e926e0-92ab-4131-b055-b26e506cf8a1"
      },
      "source": [
        "svm12 = svm.SVC(kernel = 'rbf', gamma = 0.7, C = 1.0)\n",
        "svm12.fit(train_scaled11, train_target1)"
      ],
      "execution_count": null,
      "outputs": [
        {
          "output_type": "execute_result",
          "data": {
            "text/plain": [
              "SVC(C=1.0, break_ties=False, cache_size=200, class_weight=None, coef0=0.0,\n",
              "    decision_function_shape='ovr', degree=3, gamma=0.7, kernel='rbf',\n",
              "    max_iter=-1, probability=False, random_state=None, shrinking=True,\n",
              "    tol=0.001, verbose=False)"
            ]
          },
          "metadata": {
            "tags": []
          },
          "execution_count": 54
        }
      ]
    },
    {
      "cell_type": "code",
      "metadata": {
        "colab": {
          "base_uri": "https://localhost:8080/"
        },
        "id": "4WjX6MzeTlq_",
        "outputId": "0a7c0dcc-afae-4dc4-d632-b8ceb62fe6bc"
      },
      "source": [
        "svm12_train = svm12.score(train_scaled11, train_target1)\n",
        "svm12_val = svm12.score(val_scaled11, val_target1)\n",
        "print(svm12_train, svm12_val)"
      ],
      "execution_count": null,
      "outputs": [
        {
          "output_type": "stream",
          "text": [
            "0.6857024907114353 0.6810676940011007\n"
          ],
          "name": "stdout"
        }
      ]
    },
    {
      "cell_type": "code",
      "metadata": {
        "colab": {
          "base_uri": "https://localhost:8080/"
        },
        "id": "d0uOghULUfFC",
        "outputId": "60fa5ff8-74ac-44d5-991e-2481d2d0718b"
      },
      "source": [
        "svm13 = svm.SVC(kernel = 'poly', degree = 3, gamma = 'auto', C = 1.0)\n",
        "svm13.fit(train_scaled11, train_target1)"
      ],
      "execution_count": null,
      "outputs": [
        {
          "output_type": "execute_result",
          "data": {
            "text/plain": [
              "SVC(C=1.0, break_ties=False, cache_size=200, class_weight=None, coef0=0.0,\n",
              "    decision_function_shape='ovr', degree=3, gamma='auto', kernel='poly',\n",
              "    max_iter=-1, probability=False, random_state=None, shrinking=True,\n",
              "    tol=0.001, verbose=False)"
            ]
          },
          "metadata": {
            "tags": []
          },
          "execution_count": 56
        }
      ]
    },
    {
      "cell_type": "code",
      "metadata": {
        "colab": {
          "base_uri": "https://localhost:8080/"
        },
        "id": "d7YsYWvtUr7i",
        "outputId": "899c78a8-64ed-4bc0-bfcc-f60084968675"
      },
      "source": [
        "svm13_train = svm13.score(train_scaled11, train_target1)\n",
        "svm13_val = svm13.score(val_scaled11, val_target1)\n",
        "print(svm13_train, svm13_val)"
      ],
      "execution_count": null,
      "outputs": [
        {
          "output_type": "stream",
          "text": [
            "0.5354685564882344 0.5379746835443038\n"
          ],
          "name": "stdout"
        }
      ]
    },
    {
      "cell_type": "markdown",
      "metadata": {
        "id": "0yRqxDbcARCk"
      },
      "source": [
        "#### Logistic Regression\n",
        "- using cross_validate does not make any difference in accuracy"
      ]
    },
    {
      "cell_type": "code",
      "metadata": {
        "colab": {
          "base_uri": "https://localhost:8080/"
        },
        "id": "i9j1Ad-NO3dP",
        "outputId": "c487e26a-afc3-43fe-9946-e661c191445c"
      },
      "source": [
        "lr1 = LogisticRegression(max_iter = 1000)\n",
        "splitter = StratifiedKFold(n_splits= 5)\n",
        "lr1_score = cross_validate(lr1, train_scaled11, train_target1, cv = splitter, return_train_score = True, return_estimator= True)\n"
      ],
      "execution_count": null,
      "outputs": [
        {
          "output_type": "stream",
          "text": [
            "/usr/local/lib/python3.7/dist-packages/sklearn/linear_model/_logistic.py:940: ConvergenceWarning: lbfgs failed to converge (status=1):\n",
            "STOP: TOTAL NO. of ITERATIONS REACHED LIMIT.\n",
            "\n",
            "Increase the number of iterations (max_iter) or scale the data as shown in:\n",
            "    https://scikit-learn.org/stable/modules/preprocessing.html\n",
            "Please also refer to the documentation for alternative solver options:\n",
            "    https://scikit-learn.org/stable/modules/linear_model.html#logistic-regression\n",
            "  extra_warning_msg=_LOGISTIC_SOLVER_CONVERGENCE_MSG)\n",
            "/usr/local/lib/python3.7/dist-packages/sklearn/linear_model/_logistic.py:940: ConvergenceWarning: lbfgs failed to converge (status=1):\n",
            "STOP: TOTAL NO. of ITERATIONS REACHED LIMIT.\n",
            "\n",
            "Increase the number of iterations (max_iter) or scale the data as shown in:\n",
            "    https://scikit-learn.org/stable/modules/preprocessing.html\n",
            "Please also refer to the documentation for alternative solver options:\n",
            "    https://scikit-learn.org/stable/modules/linear_model.html#logistic-regression\n",
            "  extra_warning_msg=_LOGISTIC_SOLVER_CONVERGENCE_MSG)\n",
            "/usr/local/lib/python3.7/dist-packages/sklearn/linear_model/_logistic.py:940: ConvergenceWarning: lbfgs failed to converge (status=1):\n",
            "STOP: TOTAL NO. of ITERATIONS REACHED LIMIT.\n",
            "\n",
            "Increase the number of iterations (max_iter) or scale the data as shown in:\n",
            "    https://scikit-learn.org/stable/modules/preprocessing.html\n",
            "Please also refer to the documentation for alternative solver options:\n",
            "    https://scikit-learn.org/stable/modules/linear_model.html#logistic-regression\n",
            "  extra_warning_msg=_LOGISTIC_SOLVER_CONVERGENCE_MSG)\n",
            "/usr/local/lib/python3.7/dist-packages/sklearn/linear_model/_logistic.py:940: ConvergenceWarning: lbfgs failed to converge (status=1):\n",
            "STOP: TOTAL NO. of ITERATIONS REACHED LIMIT.\n",
            "\n",
            "Increase the number of iterations (max_iter) or scale the data as shown in:\n",
            "    https://scikit-learn.org/stable/modules/preprocessing.html\n",
            "Please also refer to the documentation for alternative solver options:\n",
            "    https://scikit-learn.org/stable/modules/linear_model.html#logistic-regression\n",
            "  extra_warning_msg=_LOGISTIC_SOLVER_CONVERGENCE_MSG)\n"
          ],
          "name": "stderr"
        }
      ]
    },
    {
      "cell_type": "code",
      "metadata": {
        "colab": {
          "base_uri": "https://localhost:8080/"
        },
        "id": "fcXenvCxPGXX",
        "outputId": "9b1a23cc-9b71-4ec4-8cc5-1d126df961c1"
      },
      "source": [
        "print(np.mean(lr1_score['train_score']), np.mean(lr1_score['test_score']))"
      ],
      "execution_count": null,
      "outputs": [
        {
          "output_type": "stream",
          "text": [
            "0.7141529817653017 0.7140498465208907\n"
          ],
          "name": "stdout"
        }
      ]
    },
    {
      "cell_type": "code",
      "metadata": {
        "colab": {
          "base_uri": "https://localhost:8080/"
        },
        "id": "zkH2_LLSghcE",
        "outputId": "f4f9285f-2bc6-40d1-ef2c-30ec4d386a1c"
      },
      "source": [
        "lr11 = LogisticRegression(max_iter = 1000)\n",
        "lr11.fit(train_scaled11, train_target1)\n",
        "lr11_train = lr11.score(train_scaled11, train_target1)\n",
        "lr11_val = lr11.score(val_scaled11, val_target1)"
      ],
      "execution_count": null,
      "outputs": [
        {
          "output_type": "stream",
          "text": [
            "/usr/local/lib/python3.7/dist-packages/sklearn/linear_model/_logistic.py:940: ConvergenceWarning: lbfgs failed to converge (status=1):\n",
            "STOP: TOTAL NO. of ITERATIONS REACHED LIMIT.\n",
            "\n",
            "Increase the number of iterations (max_iter) or scale the data as shown in:\n",
            "    https://scikit-learn.org/stable/modules/preprocessing.html\n",
            "Please also refer to the documentation for alternative solver options:\n",
            "    https://scikit-learn.org/stable/modules/linear_model.html#logistic-regression\n",
            "  extra_warning_msg=_LOGISTIC_SOLVER_CONVERGENCE_MSG)\n"
          ],
          "name": "stderr"
        }
      ]
    },
    {
      "cell_type": "code",
      "metadata": {
        "colab": {
          "base_uri": "https://localhost:8080/"
        },
        "id": "2Fv_use5hLwK",
        "outputId": "d0636b9e-4070-4224-eb2c-cc2112875ab7"
      },
      "source": [
        "print(lr11_train, lr11_val)"
      ],
      "execution_count": null,
      "outputs": [
        {
          "output_type": "stream",
          "text": [
            "0.7378560616485482 0.7301871216290589\n"
          ],
          "name": "stdout"
        }
      ]
    },
    {
      "cell_type": "markdown",
      "metadata": {
        "id": "0G5ITwzsAVDx"
      },
      "source": [
        "#### Voted ensemble selection"
      ]
    },
    {
      "cell_type": "markdown",
      "metadata": {
        "id": "dMfPAYiMmFrn"
      },
      "source": [
        "## Multiclass Classification: alarm\n",
        "- feature: AirIn ~ water.tank.level (sensor data)\n",
        "- class: FIC301 ~ VLV303 (alarm)\n",
        "- → total 12 classes"
      ]
    },
    {
      "cell_type": "code",
      "metadata": {
        "id": "NsdMaDJ-gO2S"
      },
      "source": [
        "target_arr2 = data_arr.loc[:,'FIC301':'VLV303']"
      ],
      "execution_count": null,
      "outputs": []
    },
    {
      "cell_type": "code",
      "metadata": {
        "colab": {
          "base_uri": "https://localhost:8080/",
          "height": 292
        },
        "id": "fv1FmNYZilLf",
        "outputId": "5fdf4fbc-b4b3-4f6b-bafa-bb6717a79441"
      },
      "source": [
        "target_arr2.describe()"
      ],
      "execution_count": null,
      "outputs": [
        {
          "output_type": "execute_result",
          "data": {
            "text/html": [
              "<div>\n",
              "<style scoped>\n",
              "    .dataframe tbody tr th:only-of-type {\n",
              "        vertical-align: middle;\n",
              "    }\n",
              "\n",
              "    .dataframe tbody tr th {\n",
              "        vertical-align: top;\n",
              "    }\n",
              "\n",
              "    .dataframe thead th {\n",
              "        text-align: right;\n",
              "    }\n",
              "</style>\n",
              "<table border=\"1\" class=\"dataframe\">\n",
              "  <thead>\n",
              "    <tr style=\"text-align: right;\">\n",
              "      <th></th>\n",
              "      <th>FIC301</th>\n",
              "      <th>FIC302</th>\n",
              "      <th>LI405</th>\n",
              "      <th>PT312</th>\n",
              "      <th>VC303</th>\n",
              "      <th>VC401</th>\n",
              "      <th>VC403</th>\n",
              "      <th>VC404</th>\n",
              "      <th>VC405</th>\n",
              "      <th>VC406</th>\n",
              "      <th>VLV303</th>\n",
              "    </tr>\n",
              "  </thead>\n",
              "  <tbody>\n",
              "    <tr>\n",
              "      <th>count</th>\n",
              "      <td>45420.000000</td>\n",
              "      <td>45420.000000</td>\n",
              "      <td>45420.000000</td>\n",
              "      <td>45420.000000</td>\n",
              "      <td>45420.000000</td>\n",
              "      <td>45420.0</td>\n",
              "      <td>45420.0</td>\n",
              "      <td>45420.0</td>\n",
              "      <td>45420.0</td>\n",
              "      <td>45420.0</td>\n",
              "      <td>45420.000000</td>\n",
              "    </tr>\n",
              "    <tr>\n",
              "      <th>mean</th>\n",
              "      <td>0.071180</td>\n",
              "      <td>0.062241</td>\n",
              "      <td>0.679018</td>\n",
              "      <td>0.163804</td>\n",
              "      <td>0.002576</td>\n",
              "      <td>0.0</td>\n",
              "      <td>0.0</td>\n",
              "      <td>0.0</td>\n",
              "      <td>0.0</td>\n",
              "      <td>0.0</td>\n",
              "      <td>0.000044</td>\n",
              "    </tr>\n",
              "    <tr>\n",
              "      <th>std</th>\n",
              "      <td>0.257128</td>\n",
              "      <td>0.241596</td>\n",
              "      <td>0.466859</td>\n",
              "      <td>0.370102</td>\n",
              "      <td>0.050689</td>\n",
              "      <td>0.0</td>\n",
              "      <td>0.0</td>\n",
              "      <td>0.0</td>\n",
              "      <td>0.0</td>\n",
              "      <td>0.0</td>\n",
              "      <td>0.006636</td>\n",
              "    </tr>\n",
              "    <tr>\n",
              "      <th>min</th>\n",
              "      <td>0.000000</td>\n",
              "      <td>0.000000</td>\n",
              "      <td>0.000000</td>\n",
              "      <td>0.000000</td>\n",
              "      <td>0.000000</td>\n",
              "      <td>0.0</td>\n",
              "      <td>0.0</td>\n",
              "      <td>0.0</td>\n",
              "      <td>0.0</td>\n",
              "      <td>0.0</td>\n",
              "      <td>0.000000</td>\n",
              "    </tr>\n",
              "    <tr>\n",
              "      <th>25%</th>\n",
              "      <td>0.000000</td>\n",
              "      <td>0.000000</td>\n",
              "      <td>0.000000</td>\n",
              "      <td>0.000000</td>\n",
              "      <td>0.000000</td>\n",
              "      <td>0.0</td>\n",
              "      <td>0.0</td>\n",
              "      <td>0.0</td>\n",
              "      <td>0.0</td>\n",
              "      <td>0.0</td>\n",
              "      <td>0.000000</td>\n",
              "    </tr>\n",
              "    <tr>\n",
              "      <th>50%</th>\n",
              "      <td>0.000000</td>\n",
              "      <td>0.000000</td>\n",
              "      <td>1.000000</td>\n",
              "      <td>0.000000</td>\n",
              "      <td>0.000000</td>\n",
              "      <td>0.0</td>\n",
              "      <td>0.0</td>\n",
              "      <td>0.0</td>\n",
              "      <td>0.0</td>\n",
              "      <td>0.0</td>\n",
              "      <td>0.000000</td>\n",
              "    </tr>\n",
              "    <tr>\n",
              "      <th>75%</th>\n",
              "      <td>0.000000</td>\n",
              "      <td>0.000000</td>\n",
              "      <td>1.000000</td>\n",
              "      <td>0.000000</td>\n",
              "      <td>0.000000</td>\n",
              "      <td>0.0</td>\n",
              "      <td>0.0</td>\n",
              "      <td>0.0</td>\n",
              "      <td>0.0</td>\n",
              "      <td>0.0</td>\n",
              "      <td>0.000000</td>\n",
              "    </tr>\n",
              "    <tr>\n",
              "      <th>max</th>\n",
              "      <td>1.000000</td>\n",
              "      <td>1.000000</td>\n",
              "      <td>1.000000</td>\n",
              "      <td>1.000000</td>\n",
              "      <td>1.000000</td>\n",
              "      <td>0.0</td>\n",
              "      <td>0.0</td>\n",
              "      <td>0.0</td>\n",
              "      <td>0.0</td>\n",
              "      <td>0.0</td>\n",
              "      <td>1.000000</td>\n",
              "    </tr>\n",
              "  </tbody>\n",
              "</table>\n",
              "</div>"
            ],
            "text/plain": [
              "             FIC301        FIC302         LI405  ...    VC405    VC406        VLV303\n",
              "count  45420.000000  45420.000000  45420.000000  ...  45420.0  45420.0  45420.000000\n",
              "mean       0.071180      0.062241      0.679018  ...      0.0      0.0      0.000044\n",
              "std        0.257128      0.241596      0.466859  ...      0.0      0.0      0.006636\n",
              "min        0.000000      0.000000      0.000000  ...      0.0      0.0      0.000000\n",
              "25%        0.000000      0.000000      0.000000  ...      0.0      0.0      0.000000\n",
              "50%        0.000000      0.000000      1.000000  ...      0.0      0.0      0.000000\n",
              "75%        0.000000      0.000000      1.000000  ...      0.0      0.0      0.000000\n",
              "max        1.000000      1.000000      1.000000  ...      0.0      0.0      1.000000\n",
              "\n",
              "[8 rows x 11 columns]"
            ]
          },
          "metadata": {
            "tags": []
          },
          "execution_count": 62
        }
      ]
    },
    {
      "cell_type": "code",
      "metadata": {
        "id": "wacnGPp2jXTg"
      },
      "source": [
        "target_arr2 = target_arr2.to_numpy(dtype = np.int)"
      ],
      "execution_count": null,
      "outputs": []
    },
    {
      "cell_type": "markdown",
      "metadata": {
        "id": "PDSuZqc-a-my"
      },
      "source": [
        "### Apply Priority Encoder to target values\n",
        "- 0: no alarm\n",
        "- 1: FIC301\n",
        "- 2: FIC302\n",
        "- 3: LI405\n",
        "- 4: PT312\n",
        "- 5: VC303\n",
        "- 6: VC401\n",
        "- 7: VC403\n",
        "- 8: VC404\n",
        "- 9: VC405\n",
        "- 10: VC406\n",
        "- 11: VLC303"
      ]
    },
    {
      "cell_type": "code",
      "metadata": {
        "id": "ZYM4I98rZ3AG"
      },
      "source": [
        "target_int = []\n",
        "one_hot = 0\n",
        "for x in target_arr2:\n",
        "    for i in range(len(target_arr2[0])):\n",
        "        # failure situation\n",
        "        if(x[i] == 1):\n",
        "            target_int.append(i + 1)\n",
        "            one_hot = 1\n",
        "            break # priority encoder\n",
        "    # normal situation\n",
        "    if(one_hot == 0):\n",
        "        target_int.append(0)\n",
        "    one_hot = 0\n",
        "        \n",
        "target_int = np.array(target_int, dtype = np.int)"
      ],
      "execution_count": null,
      "outputs": []
    },
    {
      "cell_type": "code",
      "metadata": {
        "colab": {
          "base_uri": "https://localhost:8080/"
        },
        "id": "0kJEeGtca2t7",
        "outputId": "2f967a7d-416d-493f-bc4c-ff579471cfc0"
      },
      "source": [
        "target_arr2[:10]"
      ],
      "execution_count": null,
      "outputs": [
        {
          "output_type": "execute_result",
          "data": {
            "text/plain": [
              "array([[0, 0, 1, 0, 0, 0, 0, 0, 0, 0, 0],\n",
              "       [0, 0, 1, 0, 0, 0, 0, 0, 0, 0, 0],\n",
              "       [0, 0, 1, 0, 0, 0, 0, 0, 0, 0, 0],\n",
              "       [0, 0, 1, 0, 0, 0, 0, 0, 0, 0, 0],\n",
              "       [0, 0, 1, 0, 0, 0, 0, 0, 0, 0, 0],\n",
              "       [0, 0, 1, 0, 0, 0, 0, 0, 0, 0, 0],\n",
              "       [0, 0, 1, 0, 0, 0, 0, 0, 0, 0, 0],\n",
              "       [0, 0, 1, 0, 0, 0, 0, 0, 0, 0, 0],\n",
              "       [0, 0, 1, 0, 0, 0, 0, 0, 0, 0, 0],\n",
              "       [0, 0, 1, 0, 0, 0, 0, 0, 0, 0, 0]])"
            ]
          },
          "metadata": {
            "tags": []
          },
          "execution_count": 65
        }
      ]
    },
    {
      "cell_type": "code",
      "metadata": {
        "colab": {
          "base_uri": "https://localhost:8080/"
        },
        "id": "lvoPLSRYax4h",
        "outputId": "6e71ced4-e9b7-40ae-f7ab-8a7c19af0a54"
      },
      "source": [
        "target_int[:10]"
      ],
      "execution_count": null,
      "outputs": [
        {
          "output_type": "execute_result",
          "data": {
            "text/plain": [
              "array([3, 3, 3, 3, 3, 3, 3, 3, 3, 3])"
            ]
          },
          "metadata": {
            "tags": []
          },
          "execution_count": 66
        }
      ]
    },
    {
      "cell_type": "code",
      "metadata": {
        "colab": {
          "base_uri": "https://localhost:8080/"
        },
        "id": "WLk_OfVcbdB-",
        "outputId": "7b13904a-039b-47af-bc60-0679c1810356"
      },
      "source": [
        "print(target_int.max(), target_int.min(), target_int.mean())"
      ],
      "execution_count": null,
      "outputs": [
        {
          "output_type": "stream",
          "text": [
            "11 0 2.901298987230295\n"
          ],
          "name": "stdout"
        }
      ]
    },
    {
      "cell_type": "code",
      "metadata": {
        "colab": {
          "base_uri": "https://localhost:8080/",
          "height": 279
        },
        "id": "CPu6KntTbsjg",
        "outputId": "5c73b2af-04e3-4e0f-fe97-43ae577b1cb2"
      },
      "source": [
        "plt.hist(target_int)\n",
        "plt.xlabel('alarm type')\n",
        "plt.ylabel('no. of alarm')\n",
        "plt.show()"
      ],
      "execution_count": null,
      "outputs": [
        {
          "output_type": "display_data",
          "data": {
            "image/png": "[encoded data removed]",
            "text/plain": [
              "<Figure size 432x288 with 1 Axes>"
            ]
          },
          "metadata": {
            "tags": [],
            "needs_background": "light"
          }
        }
      ]
    },
    {
      "cell_type": "markdown",
      "metadata": {
        "id": "GsHGA39XqTek"
      },
      "source": [
        "### Split feature"
      ]
    },
    {
      "cell_type": "code",
      "metadata": {
        "colab": {
          "base_uri": "https://localhost:8080/",
          "height": 312
        },
        "id": "Hgyx9ARejfBl",
        "outputId": "e61ad509-a52a-4f8b-f74a-5fd49af2635f"
      },
      "source": [
        "input_arr2 = data_arr.loc[:, 'AirIn':'water.tank.level']\n",
        "input_arr2.describe()"
      ],
      "execution_count": null,
      "outputs": [
        {
          "output_type": "execute_result",
          "data": {
            "text/html": [
              "<div>\n",
              "<style scoped>\n",
              "    .dataframe tbody tr th:only-of-type {\n",
              "        vertical-align: middle;\n",
              "    }\n",
              "\n",
              "    .dataframe tbody tr th {\n",
              "        vertical-align: top;\n",
              "    }\n",
              "\n",
              "    .dataframe thead th {\n",
              "        text-align: right;\n",
              "    }\n",
              "</style>\n",
              "<table border=\"1\" class=\"dataframe\">\n",
              "  <thead>\n",
              "    <tr style=\"text-align: right;\">\n",
              "      <th></th>\n",
              "      <th>AirIn</th>\n",
              "      <th>Air.T</th>\n",
              "      <th>Air.P</th>\n",
              "      <th>WaterIn</th>\n",
              "      <th>Water.T</th>\n",
              "      <th>Water.Density</th>\n",
              "      <th>Mixture.zone.P</th>\n",
              "      <th>riser.outlet.P</th>\n",
              "      <th>P.topsep</th>\n",
              "      <th>FR.topsep.gas</th>\n",
              "      <th>FR.topsep.liquid</th>\n",
              "      <th>P_3phase</th>\n",
              "      <th>Air.Valve</th>\n",
              "      <th>Water.level</th>\n",
              "      <th>Water.coalescer</th>\n",
              "      <th>Water.level.valve</th>\n",
              "      <th>water.tank.level</th>\n",
              "    </tr>\n",
              "  </thead>\n",
              "  <tbody>\n",
              "    <tr>\n",
              "      <th>count</th>\n",
              "      <td>45420.000000</td>\n",
              "      <td>45420.000000</td>\n",
              "      <td>45420.000000</td>\n",
              "      <td>45420.000000</td>\n",
              "      <td>45420.000000</td>\n",
              "      <td>45420.000000</td>\n",
              "      <td>45420.000000</td>\n",
              "      <td>45420.000000</td>\n",
              "      <td>45420.000000</td>\n",
              "      <td>45420.000000</td>\n",
              "      <td>45420.000000</td>\n",
              "      <td>45420.000000</td>\n",
              "      <td>45420.000000</td>\n",
              "      <td>45420.000000</td>\n",
              "      <td>45420.000000</td>\n",
              "      <td>45420.000000</td>\n",
              "      <td>45420.000000</td>\n",
              "    </tr>\n",
              "    <tr>\n",
              "      <th>mean</th>\n",
              "      <td>120.244962</td>\n",
              "      <td>17.579774</td>\n",
              "      <td>1.754868</td>\n",
              "      <td>0.545004</td>\n",
              "      <td>23.426888</td>\n",
              "      <td>996.696162</td>\n",
              "      <td>1.494589</td>\n",
              "      <td>1.109878</td>\n",
              "      <td>1.019045</td>\n",
              "      <td>3.358363</td>\n",
              "      <td>0.559113</td>\n",
              "      <td>0.997311</td>\n",
              "      <td>22.352009</td>\n",
              "      <td>61.782958</td>\n",
              "      <td>98.623634</td>\n",
              "      <td>9.275199</td>\n",
              "      <td>1.426527</td>\n",
              "    </tr>\n",
              "    <tr>\n",
              "      <th>std</th>\n",
              "      <td>42.618978</td>\n",
              "      <td>1.086663</td>\n",
              "      <td>0.947866</td>\n",
              "      <td>0.751641</td>\n",
              "      <td>1.960987</td>\n",
              "      <td>1.209464</td>\n",
              "      <td>0.333043</td>\n",
              "      <td>0.165797</td>\n",
              "      <td>0.030180</td>\n",
              "      <td>5.135456</td>\n",
              "      <td>0.567385</td>\n",
              "      <td>0.029712</td>\n",
              "      <td>7.369957</td>\n",
              "      <td>1.457677</td>\n",
              "      <td>0.173581</td>\n",
              "      <td>11.556427</td>\n",
              "      <td>0.012909</td>\n",
              "    </tr>\n",
              "    <tr>\n",
              "      <th>min</th>\n",
              "      <td>16.019110</td>\n",
              "      <td>15.107760</td>\n",
              "      <td>0.607549</td>\n",
              "      <td>-0.007640</td>\n",
              "      <td>18.197229</td>\n",
              "      <td>990.697327</td>\n",
              "      <td>0.997974</td>\n",
              "      <td>0.820029</td>\n",
              "      <td>0.845333</td>\n",
              "      <td>0.000000</td>\n",
              "      <td>-4.607517</td>\n",
              "      <td>0.822942</td>\n",
              "      <td>0.030689</td>\n",
              "      <td>49.623772</td>\n",
              "      <td>97.675377</td>\n",
              "      <td>0.000000</td>\n",
              "      <td>1.388638</td>\n",
              "    </tr>\n",
              "    <tr>\n",
              "      <th>25%</th>\n",
              "      <td>118.268898</td>\n",
              "      <td>16.704707</td>\n",
              "      <td>1.281357</td>\n",
              "      <td>0.098050</td>\n",
              "      <td>23.249670</td>\n",
              "      <td>996.235275</td>\n",
              "      <td>1.242075</td>\n",
              "      <td>1.014582</td>\n",
              "      <td>1.017692</td>\n",
              "      <td>0.000414</td>\n",
              "      <td>0.070511</td>\n",
              "      <td>0.996003</td>\n",
              "      <td>20.038310</td>\n",
              "      <td>61.755878</td>\n",
              "      <td>98.549589</td>\n",
              "      <td>2.283776</td>\n",
              "      <td>1.419087</td>\n",
              "    </tr>\n",
              "    <tr>\n",
              "      <th>50%</th>\n",
              "      <td>120.583950</td>\n",
              "      <td>17.850080</td>\n",
              "      <td>1.507924</td>\n",
              "      <td>0.495899</td>\n",
              "      <td>23.752180</td>\n",
              "      <td>996.706360</td>\n",
              "      <td>1.416394</td>\n",
              "      <td>1.037709</td>\n",
              "      <td>1.021233</td>\n",
              "      <td>0.043302</td>\n",
              "      <td>0.397561</td>\n",
              "      <td>0.999314</td>\n",
              "      <td>25.058850</td>\n",
              "      <td>61.981190</td>\n",
              "      <td>98.664036</td>\n",
              "      <td>6.556579</td>\n",
              "      <td>1.425808</td>\n",
              "    </tr>\n",
              "    <tr>\n",
              "      <th>75%</th>\n",
              "      <td>149.015793</td>\n",
              "      <td>18.249603</td>\n",
              "      <td>1.736749</td>\n",
              "      <td>0.500112</td>\n",
              "      <td>24.663151</td>\n",
              "      <td>997.657013</td>\n",
              "      <td>1.519924</td>\n",
              "      <td>1.153582</td>\n",
              "      <td>1.024938</td>\n",
              "      <td>6.983966</td>\n",
              "      <td>0.942655</td>\n",
              "      <td>1.002923</td>\n",
              "      <td>27.315350</td>\n",
              "      <td>62.153648</td>\n",
              "      <td>98.712509</td>\n",
              "      <td>8.254080</td>\n",
              "      <td>1.439326</td>\n",
              "    </tr>\n",
              "    <tr>\n",
              "      <th>max</th>\n",
              "      <td>210.018494</td>\n",
              "      <td>20.017281</td>\n",
              "      <td>7.269874</td>\n",
              "      <td>3.673232</td>\n",
              "      <td>26.674419</td>\n",
              "      <td>999.480774</td>\n",
              "      <td>3.923677</td>\n",
              "      <td>3.183747</td>\n",
              "      <td>1.328773</td>\n",
              "      <td>43.850960</td>\n",
              "      <td>2.840868</td>\n",
              "      <td>1.307652</td>\n",
              "      <td>34.459080</td>\n",
              "      <td>75.759613</td>\n",
              "      <td>99.930847</td>\n",
              "      <td>56.039059</td>\n",
              "      <td>1.448196</td>\n",
              "    </tr>\n",
              "  </tbody>\n",
              "</table>\n",
              "</div>"
            ],
            "text/plain": [
              "              AirIn         Air.T  ...  Water.level.valve  water.tank.level\n",
              "count  45420.000000  45420.000000  ...       45420.000000      45420.000000\n",
              "mean     120.244962     17.579774  ...           9.275199          1.426527\n",
              "std       42.618978      1.086663  ...          11.556427          0.012909\n",
              "min       16.019110     15.107760  ...           0.000000          1.388638\n",
              "25%      118.268898     16.704707  ...           2.283776          1.419087\n",
              "50%      120.583950     17.850080  ...           6.556579          1.425808\n",
              "75%      149.015793     18.249603  ...           8.254080          1.439326\n",
              "max      210.018494     20.017281  ...          56.039059          1.448196\n",
              "\n",
              "[8 rows x 17 columns]"
            ]
          },
          "metadata": {
            "tags": []
          },
          "execution_count": 69
        }
      ]
    },
    {
      "cell_type": "code",
      "metadata": {
        "id": "RafWDAUsjqDn"
      },
      "source": [
        "input_arr2 = input_arr2.to_numpy(dtype = np.float32)"
      ],
      "execution_count": null,
      "outputs": []
    },
    {
      "cell_type": "markdown",
      "metadata": {
        "id": "30HjlFv7XCXX"
      },
      "source": [
        "### Split train data and test data"
      ]
    },
    {
      "cell_type": "code",
      "metadata": {
        "colab": {
          "base_uri": "https://localhost:8080/"
        },
        "id": "-_lvAkcQkEZz",
        "outputId": "934126ff-f95e-4604-cbc9-56d45f7b16dd"
      },
      "source": [
        "train_input2, test_input2, train_target2, test_target2 = train_test_split(input_arr2, target_int, test_size = 0.2)\n",
        "print(train_input2.shape, test_input2.shape, train_target2.shape, test_target2.shape)"
      ],
      "execution_count": null,
      "outputs": [
        {
          "output_type": "stream",
          "text": [
            "(36336, 17) (9084, 17) (36336,) (9084,)\n"
          ],
          "name": "stdout"
        }
      ]
    },
    {
      "cell_type": "markdown",
      "metadata": {
        "id": "BvZ6rdvgXGBi"
      },
      "source": [
        "### Normalize the data"
      ]
    },
    {
      "cell_type": "code",
      "metadata": {
        "id": "KLLhLvsIkR1h"
      },
      "source": [
        "mean = train_input2.mean()\n",
        "std = train_input2.std()\n",
        "\n",
        "train_scaled2 = (train_input2 - mean) / std \n",
        "test_scaled2 = (test_input2 - mean) / std"
      ],
      "execution_count": null,
      "outputs": []
    },
    {
      "cell_type": "code",
      "metadata": {
        "id": "Hxr_DAoiYDKb"
      },
      "source": [
        "train_scaled2 = train_scaled2.reshape(-1, 17, 1)\n",
        "test_scaled2 = test_scaled2.reshape(-1, 17, 1)"
      ],
      "execution_count": null,
      "outputs": []
    },
    {
      "cell_type": "markdown",
      "metadata": {
        "id": "dfSMdBIAXym1"
      },
      "source": [
        "### Split train data and validation data"
      ]
    },
    {
      "cell_type": "code",
      "metadata": {
        "colab": {
          "base_uri": "https://localhost:8080/"
        },
        "id": "YkjoLVsBX2D3",
        "outputId": "6cee0ffb-d684-4e8a-c515-fad023765c6f"
      },
      "source": [
        "train_scaled2, val_scaled2, train_target2, val_target2 = train_test_split(train_scaled2, train_target2, test_size = 0.2)\n",
        "print(train_scaled2.shape, val_scaled2.shape, train_target2.shape, val_target2.shape)"
      ],
      "execution_count": null,
      "outputs": [
        {
          "output_type": "stream",
          "text": [
            "(29068, 17, 1) (7268, 17, 1) (29068,) (7268,)\n"
          ],
          "name": "stdout"
        }
      ]
    },
    {
      "cell_type": "markdown",
      "metadata": {
        "id": "J7v3-mWbYPZ8"
      },
      "source": [
        "### Train Model"
      ]
    },
    {
      "cell_type": "markdown",
      "metadata": {
        "id": "uzvsYXbUYR4N"
      },
      "source": [
        "#### CNN"
      ]
    },
    {
      "cell_type": "code",
      "metadata": {
        "colab": {
          "base_uri": "https://localhost:8080/",
          "height": 976
        },
        "id": "soe3CjWIYa-m",
        "outputId": "54351d9f-242f-4cb9-f1cf-223fdb3ce4dc"
      },
      "source": [
        "cnn2 = keras.Sequential()\n",
        "cnn2.add(keras.layers.Conv1D(32, kernel_size = 2, padding = 'same', activation = 'relu', input_shape = (17, 1)))\n",
        "cnn2.add(keras.layers.MaxPooling1D(2))\n",
        "cnn2.add(keras.layers.Conv1D(64, kernel_size = 2, padding = 'same', activation = 'relu'))\n",
        "cnn2.add(keras.layers.MaxPooling1D(2))\n",
        "cnn2.add(keras.layers.Flatten())\n",
        "cnn2.add(keras.layers.Dense(500, activation = 'relu'))\n",
        "cnn2.add(keras.layers.Dropout(0.4))\n",
        "cnn2.add(keras.layers.Dense(12, activation = 'softmax'))\n",
        "keras.utils.plot_model(cnn2, to_file = './pronto_cnn_alarm_architecture.png', show_shapes = True)"
      ],
      "execution_count": null,
      "outputs": [
        {
          "output_type": "execute_result",
          "data": {
            "image/png": "[encoded data removed]",
            "text/plain": [
              "<IPython.core.display.Image object>"
            ]
          },
          "metadata": {
            "tags": []
          },
          "execution_count": 75
        }
      ]
    },
    {
      "cell_type": "code",
      "metadata": {
        "colab": {
          "base_uri": "https://localhost:8080/"
        },
        "id": "TYo0shh-YkWO",
        "outputId": "15e575b4-4012-4148-c8c4-959a8f2bd303"
      },
      "source": [
        "cnn2.compile(optimizer = 'adam', loss = 'sparse_categorical_crossentropy', metrics = 'accuracy')\n",
        "checkpoint_cb = keras.callbacks.ModelCheckpoint('./best_cnn_alarm_model.h5')\n",
        "earlystopping_cb = keras.callbacks.EarlyStopping(patience = 10, restore_best_weights= True)\n",
        "cnn2_history = cnn2.fit(train_scaled2, train_target2, epochs = 100, validation_data = (val_scaled2, val_target2), callbacks = [checkpoint_cb, earlystopping_cb])"
      ],
      "execution_count": null,
      "outputs": [
        {
          "output_type": "stream",
          "text": [
            "Epoch 1/100\n",
            "909/909 [==============================] - 5s 5ms/step - loss: 1.0427 - accuracy: 0.6781 - val_loss: 1.0144 - val_accuracy: 0.6774\n",
            "Epoch 2/100\n",
            "909/909 [==============================] - 5s 5ms/step - loss: 1.0065 - accuracy: 0.6795 - val_loss: 0.9894 - val_accuracy: 0.6774\n",
            "Epoch 3/100\n",
            "909/909 [==============================] - 5s 6ms/step - loss: 0.9789 - accuracy: 0.6795 - val_loss: 0.9543 - val_accuracy: 0.6774\n",
            "Epoch 4/100\n",
            "909/909 [==============================] - 5s 6ms/step - loss: 0.9336 - accuracy: 0.6794 - val_loss: 0.9023 - val_accuracy: 0.6774\n",
            "Epoch 5/100\n",
            "909/909 [==============================] - 5s 6ms/step - loss: 0.8902 - accuracy: 0.6801 - val_loss: 0.9012 - val_accuracy: 0.6774\n",
            "Epoch 6/100\n",
            "909/909 [==============================] - 5s 5ms/step - loss: 0.8509 - accuracy: 0.6866 - val_loss: 0.8259 - val_accuracy: 0.6868\n",
            "Epoch 7/100\n",
            "909/909 [==============================] - 5s 6ms/step - loss: 0.8147 - accuracy: 0.6970 - val_loss: 0.7935 - val_accuracy: 0.6985\n",
            "Epoch 8/100\n",
            "909/909 [==============================] - 5s 6ms/step - loss: 0.7947 - accuracy: 0.7077 - val_loss: 0.8012 - val_accuracy: 0.6915\n",
            "Epoch 9/100\n",
            "909/909 [==============================] - 5s 6ms/step - loss: 0.7747 - accuracy: 0.7158 - val_loss: 0.7463 - val_accuracy: 0.7252\n",
            "Epoch 10/100\n",
            "909/909 [==============================] - 5s 6ms/step - loss: 0.7558 - accuracy: 0.7201 - val_loss: 0.7262 - val_accuracy: 0.7262\n",
            "Epoch 11/100\n",
            "909/909 [==============================] - 5s 5ms/step - loss: 0.7348 - accuracy: 0.7247 - val_loss: 0.7076 - val_accuracy: 0.7287\n",
            "Epoch 12/100\n",
            "909/909 [==============================] - 5s 6ms/step - loss: 0.7175 - accuracy: 0.7301 - val_loss: 0.6912 - val_accuracy: 0.7361\n",
            "Epoch 13/100\n",
            "909/909 [==============================] - 5s 5ms/step - loss: 0.6968 - accuracy: 0.7343 - val_loss: 0.6860 - val_accuracy: 0.7265\n",
            "Epoch 14/100\n",
            "909/909 [==============================] - 5s 6ms/step - loss: 0.6804 - accuracy: 0.7443 - val_loss: 0.6720 - val_accuracy: 0.7404\n",
            "Epoch 15/100\n",
            "909/909 [==============================] - 5s 6ms/step - loss: 0.6648 - accuracy: 0.7448 - val_loss: 0.6835 - val_accuracy: 0.7445\n",
            "Epoch 16/100\n",
            "909/909 [==============================] - 5s 6ms/step - loss: 0.6491 - accuracy: 0.7546 - val_loss: 0.6457 - val_accuracy: 0.7567\n",
            "Epoch 17/100\n",
            "909/909 [==============================] - 5s 6ms/step - loss: 0.6355 - accuracy: 0.7602 - val_loss: 0.6104 - val_accuracy: 0.7628\n",
            "Epoch 18/100\n",
            "909/909 [==============================] - 5s 6ms/step - loss: 0.6257 - accuracy: 0.7612 - val_loss: 0.6070 - val_accuracy: 0.7800\n",
            "Epoch 19/100\n",
            "909/909 [==============================] - 5s 6ms/step - loss: 0.6160 - accuracy: 0.7651 - val_loss: 0.6065 - val_accuracy: 0.7856\n",
            "Epoch 20/100\n",
            "909/909 [==============================] - 5s 6ms/step - loss: 0.6055 - accuracy: 0.7683 - val_loss: 0.5866 - val_accuracy: 0.7863\n",
            "Epoch 21/100\n",
            "909/909 [==============================] - 5s 6ms/step - loss: 0.5984 - accuracy: 0.7746 - val_loss: 0.5932 - val_accuracy: 0.7748\n",
            "Epoch 22/100\n",
            "909/909 [==============================] - 5s 6ms/step - loss: 0.5914 - accuracy: 0.7747 - val_loss: 0.5802 - val_accuracy: 0.7803\n",
            "Epoch 23/100\n",
            "909/909 [==============================] - 5s 6ms/step - loss: 0.5865 - accuracy: 0.7772 - val_loss: 0.5934 - val_accuracy: 0.7799\n",
            "Epoch 24/100\n",
            "909/909 [==============================] - 5s 5ms/step - loss: 0.5738 - accuracy: 0.7823 - val_loss: 0.5839 - val_accuracy: 0.7759\n",
            "Epoch 25/100\n",
            "909/909 [==============================] - 5s 6ms/step - loss: 0.5741 - accuracy: 0.7821 - val_loss: 0.5694 - val_accuracy: 0.7752\n",
            "Epoch 26/100\n",
            "909/909 [==============================] - 5s 6ms/step - loss: 0.5679 - accuracy: 0.7842 - val_loss: 0.5632 - val_accuracy: 0.7935\n",
            "Epoch 27/100\n",
            "909/909 [==============================] - 5s 6ms/step - loss: 0.5597 - accuracy: 0.7865 - val_loss: 0.5536 - val_accuracy: 0.7927\n",
            "Epoch 28/100\n",
            "909/909 [==============================] - 5s 6ms/step - loss: 0.5531 - accuracy: 0.7901 - val_loss: 0.5455 - val_accuracy: 0.7921\n",
            "Epoch 29/100\n",
            "909/909 [==============================] - 5s 6ms/step - loss: 0.5508 - accuracy: 0.7916 - val_loss: 0.5402 - val_accuracy: 0.7972\n",
            "Epoch 30/100\n",
            "909/909 [==============================] - 5s 6ms/step - loss: 0.5459 - accuracy: 0.7916 - val_loss: 0.5401 - val_accuracy: 0.7931\n",
            "Epoch 31/100\n",
            "909/909 [==============================] - 6s 6ms/step - loss: 0.5419 - accuracy: 0.7915 - val_loss: 0.6230 - val_accuracy: 0.7675\n",
            "Epoch 32/100\n",
            "909/909 [==============================] - 5s 6ms/step - loss: 0.5368 - accuracy: 0.7942 - val_loss: 0.5229 - val_accuracy: 0.8143\n",
            "Epoch 33/100\n",
            "909/909 [==============================] - 5s 5ms/step - loss: 0.5329 - accuracy: 0.7944 - val_loss: 0.5263 - val_accuracy: 0.8045\n",
            "Epoch 34/100\n",
            "909/909 [==============================] - 5s 6ms/step - loss: 0.5298 - accuracy: 0.7962 - val_loss: 0.5209 - val_accuracy: 0.8057\n",
            "Epoch 35/100\n",
            "909/909 [==============================] - 5s 5ms/step - loss: 0.5244 - accuracy: 0.7982 - val_loss: 0.5101 - val_accuracy: 0.8169\n",
            "Epoch 36/100\n",
            "909/909 [==============================] - 5s 6ms/step - loss: 0.5239 - accuracy: 0.7985 - val_loss: 0.5188 - val_accuracy: 0.7995\n",
            "Epoch 37/100\n",
            "909/909 [==============================] - 5s 5ms/step - loss: 0.5226 - accuracy: 0.7978 - val_loss: 0.5071 - val_accuracy: 0.8271\n",
            "Epoch 38/100\n",
            "909/909 [==============================] - 5s 6ms/step - loss: 0.5202 - accuracy: 0.8013 - val_loss: 0.5111 - val_accuracy: 0.8233\n",
            "Epoch 39/100\n",
            "909/909 [==============================] - 5s 5ms/step - loss: 0.5107 - accuracy: 0.8036 - val_loss: 0.5397 - val_accuracy: 0.7936\n",
            "Epoch 40/100\n",
            "909/909 [==============================] - 5s 5ms/step - loss: 0.5125 - accuracy: 0.8030 - val_loss: 0.4996 - val_accuracy: 0.8048\n",
            "Epoch 41/100\n",
            "909/909 [==============================] - 5s 5ms/step - loss: 0.5063 - accuracy: 0.8024 - val_loss: 0.4974 - val_accuracy: 0.8009\n",
            "Epoch 42/100\n",
            "909/909 [==============================] - 5s 6ms/step - loss: 0.5059 - accuracy: 0.8070 - val_loss: 0.5459 - val_accuracy: 0.7895\n",
            "Epoch 43/100\n",
            "909/909 [==============================] - 5s 5ms/step - loss: 0.5059 - accuracy: 0.8040 - val_loss: 0.5063 - val_accuracy: 0.8195\n",
            "Epoch 44/100\n",
            "909/909 [==============================] - 5s 5ms/step - loss: 0.4981 - accuracy: 0.8091 - val_loss: 0.5115 - val_accuracy: 0.8049\n",
            "Epoch 45/100\n",
            "909/909 [==============================] - 5s 6ms/step - loss: 0.4990 - accuracy: 0.8066 - val_loss: 0.4896 - val_accuracy: 0.8280\n",
            "Epoch 46/100\n",
            "909/909 [==============================] - 5s 6ms/step - loss: 0.4933 - accuracy: 0.8099 - val_loss: 0.5036 - val_accuracy: 0.8237\n",
            "Epoch 47/100\n",
            "909/909 [==============================] - 5s 6ms/step - loss: 0.4965 - accuracy: 0.8098 - val_loss: 0.4928 - val_accuracy: 0.8094\n",
            "Epoch 48/100\n",
            "909/909 [==============================] - 5s 6ms/step - loss: 0.4946 - accuracy: 0.8095 - val_loss: 0.4939 - val_accuracy: 0.8081\n",
            "Epoch 49/100\n",
            "909/909 [==============================] - 5s 5ms/step - loss: 0.4947 - accuracy: 0.8082 - val_loss: 0.5006 - val_accuracy: 0.8020\n",
            "Epoch 50/100\n",
            "909/909 [==============================] - 5s 6ms/step - loss: 0.4905 - accuracy: 0.8104 - val_loss: 0.4988 - val_accuracy: 0.8097\n",
            "Epoch 51/100\n",
            "909/909 [==============================] - 5s 5ms/step - loss: 0.4888 - accuracy: 0.8109 - val_loss: 0.4896 - val_accuracy: 0.7997\n",
            "Epoch 52/100\n",
            "909/909 [==============================] - 5s 5ms/step - loss: 0.4870 - accuracy: 0.8114 - val_loss: 0.4873 - val_accuracy: 0.8279\n",
            "Epoch 53/100\n",
            "909/909 [==============================] - 5s 6ms/step - loss: 0.4848 - accuracy: 0.8127 - val_loss: 0.4909 - val_accuracy: 0.8026\n",
            "Epoch 54/100\n",
            "909/909 [==============================] - 5s 6ms/step - loss: 0.4826 - accuracy: 0.8135 - val_loss: 0.4840 - val_accuracy: 0.8067\n",
            "Epoch 55/100\n",
            "909/909 [==============================] - 5s 6ms/step - loss: 0.4747 - accuracy: 0.8155 - val_loss: 0.4737 - val_accuracy: 0.8046\n",
            "Epoch 56/100\n",
            "909/909 [==============================] - 5s 5ms/step - loss: 0.4768 - accuracy: 0.8152 - val_loss: 0.4643 - val_accuracy: 0.8149\n",
            "Epoch 57/100\n",
            "909/909 [==============================] - 5s 6ms/step - loss: 0.4751 - accuracy: 0.8134 - val_loss: 0.4787 - val_accuracy: 0.8224\n",
            "Epoch 58/100\n",
            "909/909 [==============================] - 5s 6ms/step - loss: 0.4738 - accuracy: 0.8157 - val_loss: 0.4711 - val_accuracy: 0.8350\n",
            "Epoch 59/100\n",
            "909/909 [==============================] - 5s 6ms/step - loss: 0.4758 - accuracy: 0.8161 - val_loss: 0.4685 - val_accuracy: 0.8254\n",
            "Epoch 60/100\n",
            "909/909 [==============================] - 5s 6ms/step - loss: 0.4722 - accuracy: 0.8148 - val_loss: 0.4628 - val_accuracy: 0.8199\n",
            "Epoch 61/100\n",
            "909/909 [==============================] - 5s 5ms/step - loss: 0.4687 - accuracy: 0.8175 - val_loss: 0.4663 - val_accuracy: 0.8224\n",
            "Epoch 62/100\n",
            "909/909 [==============================] - 5s 6ms/step - loss: 0.4687 - accuracy: 0.8162 - val_loss: 0.4587 - val_accuracy: 0.8185\n",
            "Epoch 63/100\n",
            "909/909 [==============================] - 6s 6ms/step - loss: 0.4661 - accuracy: 0.8196 - val_loss: 0.5014 - val_accuracy: 0.8043\n",
            "Epoch 64/100\n",
            "909/909 [==============================] - 5s 6ms/step - loss: 0.4645 - accuracy: 0.8193 - val_loss: 0.4586 - val_accuracy: 0.8061\n",
            "Epoch 65/100\n",
            "909/909 [==============================] - 5s 6ms/step - loss: 0.4659 - accuracy: 0.8174 - val_loss: 0.4491 - val_accuracy: 0.8280\n",
            "Epoch 66/100\n",
            "909/909 [==============================] - 5s 6ms/step - loss: 0.4628 - accuracy: 0.8173 - val_loss: 0.4508 - val_accuracy: 0.8279\n",
            "Epoch 67/100\n",
            "909/909 [==============================] - 5s 5ms/step - loss: 0.4605 - accuracy: 0.8189 - val_loss: 0.4582 - val_accuracy: 0.8360\n",
            "Epoch 68/100\n",
            "909/909 [==============================] - 5s 5ms/step - loss: 0.4591 - accuracy: 0.8206 - val_loss: 0.4505 - val_accuracy: 0.8357\n",
            "Epoch 69/100\n",
            "909/909 [==============================] - 5s 6ms/step - loss: 0.4626 - accuracy: 0.8164 - val_loss: 0.4714 - val_accuracy: 0.8257\n",
            "Epoch 70/100\n",
            "909/909 [==============================] - 5s 5ms/step - loss: 0.4576 - accuracy: 0.8186 - val_loss: 0.4549 - val_accuracy: 0.8089\n",
            "Epoch 71/100\n",
            "909/909 [==============================] - 5s 5ms/step - loss: 0.4565 - accuracy: 0.8220 - val_loss: 0.4448 - val_accuracy: 0.8192\n",
            "Epoch 72/100\n",
            "909/909 [==============================] - 5s 5ms/step - loss: 0.4511 - accuracy: 0.8210 - val_loss: 0.4428 - val_accuracy: 0.8276\n",
            "Epoch 73/100\n",
            "909/909 [==============================] - 5s 5ms/step - loss: 0.4509 - accuracy: 0.8222 - val_loss: 0.4603 - val_accuracy: 0.8144\n",
            "Epoch 74/100\n",
            "909/909 [==============================] - 5s 5ms/step - loss: 0.4510 - accuracy: 0.8232 - val_loss: 0.4697 - val_accuracy: 0.8133\n",
            "Epoch 75/100\n",
            "909/909 [==============================] - 5s 6ms/step - loss: 0.4543 - accuracy: 0.8195 - val_loss: 0.4377 - val_accuracy: 0.8343\n",
            "Epoch 76/100\n",
            "909/909 [==============================] - 5s 5ms/step - loss: 0.4433 - accuracy: 0.8244 - val_loss: 0.4433 - val_accuracy: 0.8284\n",
            "Epoch 77/100\n",
            "909/909 [==============================] - 5s 6ms/step - loss: 0.4465 - accuracy: 0.8239 - val_loss: 0.4381 - val_accuracy: 0.8229\n",
            "Epoch 78/100\n",
            "909/909 [==============================] - 5s 6ms/step - loss: 0.4492 - accuracy: 0.8226 - val_loss: 0.4297 - val_accuracy: 0.8364\n",
            "Epoch 79/100\n",
            "909/909 [==============================] - 5s 6ms/step - loss: 0.4449 - accuracy: 0.8240 - val_loss: 0.4534 - val_accuracy: 0.8313\n",
            "Epoch 80/100\n",
            "909/909 [==============================] - 5s 5ms/step - loss: 0.4437 - accuracy: 0.8254 - val_loss: 0.4446 - val_accuracy: 0.8376\n",
            "Epoch 81/100\n",
            "909/909 [==============================] - 5s 6ms/step - loss: 0.4458 - accuracy: 0.8234 - val_loss: 0.4428 - val_accuracy: 0.8129\n",
            "Epoch 82/100\n",
            "909/909 [==============================] - 5s 6ms/step - loss: 0.4436 - accuracy: 0.8242 - val_loss: 0.4379 - val_accuracy: 0.8359\n",
            "Epoch 83/100\n",
            "909/909 [==============================] - 5s 5ms/step - loss: 0.4378 - accuracy: 0.8269 - val_loss: 0.4341 - val_accuracy: 0.8310\n",
            "Epoch 84/100\n",
            "909/909 [==============================] - 6s 6ms/step - loss: 0.4414 - accuracy: 0.8247 - val_loss: 0.4815 - val_accuracy: 0.8081\n",
            "Epoch 85/100\n",
            "909/909 [==============================] - 5s 5ms/step - loss: 0.4396 - accuracy: 0.8270 - val_loss: 0.4243 - val_accuracy: 0.8409\n",
            "Epoch 86/100\n",
            "909/909 [==============================] - 5s 6ms/step - loss: 0.4374 - accuracy: 0.8269 - val_loss: 0.4249 - val_accuracy: 0.8316\n",
            "Epoch 87/100\n",
            "909/909 [==============================] - 5s 5ms/step - loss: 0.4354 - accuracy: 0.8265 - val_loss: 0.4351 - val_accuracy: 0.8147\n",
            "Epoch 88/100\n",
            "909/909 [==============================] - 5s 5ms/step - loss: 0.4351 - accuracy: 0.8260 - val_loss: 0.4313 - val_accuracy: 0.8276\n",
            "Epoch 89/100\n",
            "909/909 [==============================] - 5s 6ms/step - loss: 0.4357 - accuracy: 0.8261 - val_loss: 0.4203 - val_accuracy: 0.8425\n",
            "Epoch 90/100\n",
            "909/909 [==============================] - 5s 6ms/step - loss: 0.4329 - accuracy: 0.8280 - val_loss: 0.4159 - val_accuracy: 0.8306\n",
            "Epoch 91/100\n",
            "909/909 [==============================] - 5s 5ms/step - loss: 0.4301 - accuracy: 0.8278 - val_loss: 0.4329 - val_accuracy: 0.8315\n",
            "Epoch 92/100\n",
            "909/909 [==============================] - 5s 6ms/step - loss: 0.4278 - accuracy: 0.8293 - val_loss: 0.4152 - val_accuracy: 0.8411\n",
            "Epoch 93/100\n",
            "909/909 [==============================] - 5s 6ms/step - loss: 0.4351 - accuracy: 0.8259 - val_loss: 0.4497 - val_accuracy: 0.8149\n",
            "Epoch 94/100\n",
            "909/909 [==============================] - 5s 5ms/step - loss: 0.4300 - accuracy: 0.8282 - val_loss: 0.4200 - val_accuracy: 0.8376\n",
            "Epoch 95/100\n",
            "909/909 [==============================] - 5s 5ms/step - loss: 0.4281 - accuracy: 0.8294 - val_loss: 0.4216 - val_accuracy: 0.8429\n",
            "Epoch 96/100\n",
            "909/909 [==============================] - 5s 6ms/step - loss: 0.4264 - accuracy: 0.8287 - val_loss: 0.4063 - val_accuracy: 0.8493\n",
            "Epoch 97/100\n",
            "909/909 [==============================] - 5s 6ms/step - loss: 0.4257 - accuracy: 0.8308 - val_loss: 0.4121 - val_accuracy: 0.8493\n",
            "Epoch 98/100\n",
            "909/909 [==============================] - 5s 6ms/step - loss: 0.4216 - accuracy: 0.8318 - val_loss: 0.4151 - val_accuracy: 0.8222\n",
            "Epoch 99/100\n",
            "909/909 [==============================] - 5s 6ms/step - loss: 0.4281 - accuracy: 0.8275 - val_loss: 0.4084 - val_accuracy: 0.8430\n",
            "Epoch 100/100\n",
            "909/909 [==============================] - 5s 6ms/step - loss: 0.4225 - accuracy: 0.8331 - val_loss: 0.4360 - val_accuracy: 0.8206\n"
          ],
          "name": "stdout"
        }
      ]
    },
    {
      "cell_type": "markdown",
      "metadata": {
        "id": "vgWOt6-vYTJt"
      },
      "source": [
        "#### ANN"
      ]
    },
    {
      "cell_type": "code",
      "metadata": {
        "colab": {
          "base_uri": "https://localhost:8080/",
          "height": 422
        },
        "id": "_FKjaiDpgK-h",
        "outputId": "c4cc9e19-3ed8-4871-a24a-0af817d03390"
      },
      "source": [
        "ann2 = keras.Sequential()\n",
        "ann2.add(keras.layers.Flatten(input_shape = (17, 1)))\n",
        "ann2.add(keras.layers.Dense(100, activation = 'relu'))\n",
        "ann2.add(keras.layers.Dense(12, activation = 'softmax'))\n",
        "keras.utils.plot_model(ann2, to_file = './pronto_ann2_alarm_architecture.png', show_shapes = True)"
      ],
      "execution_count": null,
      "outputs": [
        {
          "output_type": "execute_result",
          "data": {
            "image/png": "[encoded data removed]",
            "text/plain": [
              "<IPython.core.display.Image object>"
            ]
          },
          "metadata": {
            "tags": []
          },
          "execution_count": 77
        }
      ]
    },
    {
      "cell_type": "code",
      "metadata": {
        "colab": {
          "base_uri": "https://localhost:8080/"
        },
        "id": "53CWgeIlgUmB",
        "outputId": "48fa297a-e045-4b74-cda6-dc4ef84566c5"
      },
      "source": [
        "ann2.compile(optimizer = 'adam', loss = 'sparse_categorical_crossentropy', metrics = 'accuracy')\n",
        "checkpoint_cb = keras.callbacks.ModelCheckpoint('./best_ann_alarm_model.h5')\n",
        "earlystopping_cb = keras.callbacks.EarlyStopping(patience = 10, restore_best_weights= True)\n",
        "ann2_history = ann2.fit(train_scaled2, train_target2, epochs = 100, validation_data = (val_scaled2, val_target2), callbacks = [checkpoint_cb, earlystopping_cb])"
      ],
      "execution_count": null,
      "outputs": [
        {
          "output_type": "stream",
          "text": [
            "Epoch 1/100\n",
            "909/909 [==============================] - 2s 2ms/step - loss: 1.0639 - accuracy: 0.6698 - val_loss: 1.0200 - val_accuracy: 0.6774\n",
            "Epoch 2/100\n",
            "909/909 [==============================] - 1s 2ms/step - loss: 1.0182 - accuracy: 0.6795 - val_loss: 1.0222 - val_accuracy: 0.6774\n",
            "Epoch 3/100\n",
            "909/909 [==============================] - 1s 2ms/step - loss: 1.0135 - accuracy: 0.6795 - val_loss: 1.0117 - val_accuracy: 0.6774\n",
            "Epoch 4/100\n",
            "909/909 [==============================] - 2s 2ms/step - loss: 1.0089 - accuracy: 0.6795 - val_loss: 1.0067 - val_accuracy: 0.6774\n",
            "Epoch 5/100\n",
            "909/909 [==============================] - 1s 2ms/step - loss: 1.0021 - accuracy: 0.6795 - val_loss: 0.9996 - val_accuracy: 0.6774\n",
            "Epoch 6/100\n",
            "909/909 [==============================] - 2s 2ms/step - loss: 0.9935 - accuracy: 0.6795 - val_loss: 0.9945 - val_accuracy: 0.6774\n",
            "Epoch 7/100\n",
            "909/909 [==============================] - 2s 2ms/step - loss: 0.9880 - accuracy: 0.6795 - val_loss: 0.9867 - val_accuracy: 0.6774\n",
            "Epoch 8/100\n",
            "909/909 [==============================] - 1s 2ms/step - loss: 0.9828 - accuracy: 0.6795 - val_loss: 0.9858 - val_accuracy: 0.6774\n",
            "Epoch 9/100\n",
            "909/909 [==============================] - 2s 2ms/step - loss: 0.9789 - accuracy: 0.6795 - val_loss: 0.9775 - val_accuracy: 0.6774\n",
            "Epoch 10/100\n",
            "909/909 [==============================] - 2s 2ms/step - loss: 0.9759 - accuracy: 0.6795 - val_loss: 0.9766 - val_accuracy: 0.6774\n",
            "Epoch 11/100\n",
            "909/909 [==============================] - 2s 2ms/step - loss: 0.9730 - accuracy: 0.6795 - val_loss: 0.9725 - val_accuracy: 0.6774\n",
            "Epoch 12/100\n",
            "909/909 [==============================] - 2s 2ms/step - loss: 0.9698 - accuracy: 0.6795 - val_loss: 0.9699 - val_accuracy: 0.6774\n",
            "Epoch 13/100\n",
            "909/909 [==============================] - 1s 2ms/step - loss: 0.9677 - accuracy: 0.6795 - val_loss: 0.9663 - val_accuracy: 0.6774\n",
            "Epoch 14/100\n",
            "909/909 [==============================] - 1s 2ms/step - loss: 0.9645 - accuracy: 0.6795 - val_loss: 0.9649 - val_accuracy: 0.6774\n",
            "Epoch 15/100\n",
            "909/909 [==============================] - 1s 2ms/step - loss: 0.9624 - accuracy: 0.6795 - val_loss: 0.9644 - val_accuracy: 0.6774\n",
            "Epoch 16/100\n",
            "909/909 [==============================] - 2s 2ms/step - loss: 0.9603 - accuracy: 0.6795 - val_loss: 0.9591 - val_accuracy: 0.6774\n",
            "Epoch 17/100\n",
            "909/909 [==============================] - 1s 2ms/step - loss: 0.9564 - accuracy: 0.6795 - val_loss: 0.9554 - val_accuracy: 0.6774\n",
            "Epoch 18/100\n",
            "909/909 [==============================] - 2s 2ms/step - loss: 0.9537 - accuracy: 0.6795 - val_loss: 0.9535 - val_accuracy: 0.6774\n",
            "Epoch 19/100\n",
            "909/909 [==============================] - 2s 2ms/step - loss: 0.9506 - accuracy: 0.6795 - val_loss: 0.9483 - val_accuracy: 0.6774\n",
            "Epoch 20/100\n",
            "909/909 [==============================] - 2s 2ms/step - loss: 0.9475 - accuracy: 0.6795 - val_loss: 0.9430 - val_accuracy: 0.6774\n",
            "Epoch 21/100\n",
            "909/909 [==============================] - 2s 2ms/step - loss: 0.9427 - accuracy: 0.6795 - val_loss: 0.9418 - val_accuracy: 0.6774\n",
            "Epoch 22/100\n",
            "909/909 [==============================] - 2s 2ms/step - loss: 0.9380 - accuracy: 0.6795 - val_loss: 0.9399 - val_accuracy: 0.6774\n",
            "Epoch 23/100\n",
            "909/909 [==============================] - 2s 2ms/step - loss: 0.9336 - accuracy: 0.6795 - val_loss: 0.9293 - val_accuracy: 0.6774\n",
            "Epoch 24/100\n",
            "909/909 [==============================] - 1s 2ms/step - loss: 0.9263 - accuracy: 0.6795 - val_loss: 0.9278 - val_accuracy: 0.6774\n",
            "Epoch 25/100\n",
            "909/909 [==============================] - 2s 2ms/step - loss: 0.9210 - accuracy: 0.6795 - val_loss: 0.9284 - val_accuracy: 0.6774\n",
            "Epoch 26/100\n",
            "909/909 [==============================] - 1s 2ms/step - loss: 0.9135 - accuracy: 0.6795 - val_loss: 0.9103 - val_accuracy: 0.6774\n",
            "Epoch 27/100\n",
            "909/909 [==============================] - 1s 2ms/step - loss: 0.9063 - accuracy: 0.6795 - val_loss: 0.9068 - val_accuracy: 0.6774\n",
            "Epoch 28/100\n",
            "909/909 [==============================] - 1s 2ms/step - loss: 0.8999 - accuracy: 0.6795 - val_loss: 0.8987 - val_accuracy: 0.6774\n",
            "Epoch 29/100\n",
            "909/909 [==============================] - 2s 2ms/step - loss: 0.8924 - accuracy: 0.6796 - val_loss: 0.8882 - val_accuracy: 0.6774\n",
            "Epoch 30/100\n",
            "909/909 [==============================] - 2s 2ms/step - loss: 0.8862 - accuracy: 0.6795 - val_loss: 0.8799 - val_accuracy: 0.6774\n",
            "Epoch 31/100\n",
            "909/909 [==============================] - 2s 2ms/step - loss: 0.8796 - accuracy: 0.6795 - val_loss: 0.8712 - val_accuracy: 0.6774\n",
            "Epoch 32/100\n",
            "909/909 [==============================] - 2s 2ms/step - loss: 0.8736 - accuracy: 0.6796 - val_loss: 0.8751 - val_accuracy: 0.6774\n",
            "Epoch 33/100\n",
            "909/909 [==============================] - 2s 2ms/step - loss: 0.8686 - accuracy: 0.6799 - val_loss: 0.8588 - val_accuracy: 0.6774\n",
            "Epoch 34/100\n",
            "909/909 [==============================] - 2s 2ms/step - loss: 0.8623 - accuracy: 0.6805 - val_loss: 0.8540 - val_accuracy: 0.6774\n",
            "Epoch 35/100\n",
            "909/909 [==============================] - 1s 2ms/step - loss: 0.8568 - accuracy: 0.6813 - val_loss: 0.8470 - val_accuracy: 0.6774\n",
            "Epoch 36/100\n",
            "909/909 [==============================] - 1s 2ms/step - loss: 0.8510 - accuracy: 0.6816 - val_loss: 0.8481 - val_accuracy: 0.6774\n",
            "Epoch 37/100\n",
            "909/909 [==============================] - 1s 2ms/step - loss: 0.8477 - accuracy: 0.6837 - val_loss: 0.8560 - val_accuracy: 0.6775\n",
            "Epoch 38/100\n",
            "909/909 [==============================] - 2s 2ms/step - loss: 0.8438 - accuracy: 0.6850 - val_loss: 0.8364 - val_accuracy: 0.6774\n",
            "Epoch 39/100\n",
            "909/909 [==============================] - 2s 2ms/step - loss: 0.8394 - accuracy: 0.6854 - val_loss: 0.8353 - val_accuracy: 0.6774\n",
            "Epoch 40/100\n",
            "909/909 [==============================] - 2s 2ms/step - loss: 0.8357 - accuracy: 0.6876 - val_loss: 0.8471 - val_accuracy: 0.6790\n",
            "Epoch 41/100\n",
            "909/909 [==============================] - 1s 2ms/step - loss: 0.8324 - accuracy: 0.6886 - val_loss: 0.8263 - val_accuracy: 0.7129\n",
            "Epoch 42/100\n",
            "909/909 [==============================] - 1s 2ms/step - loss: 0.8274 - accuracy: 0.6907 - val_loss: 0.8329 - val_accuracy: 0.7065\n",
            "Epoch 43/100\n",
            "909/909 [==============================] - 1s 2ms/step - loss: 0.8246 - accuracy: 0.6924 - val_loss: 0.8283 - val_accuracy: 0.6776\n",
            "Epoch 44/100\n",
            "909/909 [==============================] - 2s 2ms/step - loss: 0.8217 - accuracy: 0.6942 - val_loss: 0.8167 - val_accuracy: 0.7046\n",
            "Epoch 45/100\n",
            "909/909 [==============================] - 2s 2ms/step - loss: 0.8183 - accuracy: 0.6960 - val_loss: 0.8144 - val_accuracy: 0.6976\n",
            "Epoch 46/100\n",
            "909/909 [==============================] - 2s 2ms/step - loss: 0.8161 - accuracy: 0.6971 - val_loss: 0.8184 - val_accuracy: 0.6830\n",
            "Epoch 47/100\n",
            "909/909 [==============================] - 2s 2ms/step - loss: 0.8136 - accuracy: 0.6988 - val_loss: 0.8096 - val_accuracy: 0.7091\n",
            "Epoch 48/100\n",
            "909/909 [==============================] - 1s 2ms/step - loss: 0.8107 - accuracy: 0.7013 - val_loss: 0.8120 - val_accuracy: 0.7206\n",
            "Epoch 49/100\n",
            "909/909 [==============================] - 2s 2ms/step - loss: 0.8059 - accuracy: 0.7049 - val_loss: 0.8115 - val_accuracy: 0.6918\n",
            "Epoch 50/100\n",
            "909/909 [==============================] - 2s 2ms/step - loss: 0.8054 - accuracy: 0.7030 - val_loss: 0.8030 - val_accuracy: 0.7086\n",
            "Epoch 51/100\n",
            "909/909 [==============================] - 2s 2ms/step - loss: 0.8032 - accuracy: 0.7053 - val_loss: 0.7979 - val_accuracy: 0.7086\n",
            "Epoch 52/100\n",
            "909/909 [==============================] - 1s 2ms/step - loss: 0.8017 - accuracy: 0.7067 - val_loss: 0.7923 - val_accuracy: 0.7171\n",
            "Epoch 53/100\n",
            "909/909 [==============================] - 1s 2ms/step - loss: 0.7982 - accuracy: 0.7083 - val_loss: 0.7962 - val_accuracy: 0.7168\n",
            "Epoch 54/100\n",
            "909/909 [==============================] - 1s 2ms/step - loss: 0.7962 - accuracy: 0.7102 - val_loss: 0.7899 - val_accuracy: 0.7184\n",
            "Epoch 55/100\n",
            "909/909 [==============================] - 2s 2ms/step - loss: 0.7975 - accuracy: 0.7080 - val_loss: 0.7852 - val_accuracy: 0.7167\n",
            "Epoch 56/100\n",
            "909/909 [==============================] - 1s 2ms/step - loss: 0.7934 - accuracy: 0.7111 - val_loss: 0.7916 - val_accuracy: 0.6879\n",
            "Epoch 57/100\n",
            "909/909 [==============================] - 2s 2ms/step - loss: 0.7927 - accuracy: 0.7115 - val_loss: 0.7979 - val_accuracy: 0.6864\n",
            "Epoch 58/100\n",
            "909/909 [==============================] - 1s 2ms/step - loss: 0.7902 - accuracy: 0.7117 - val_loss: 0.8295 - val_accuracy: 0.6930\n",
            "Epoch 59/100\n",
            "909/909 [==============================] - 1s 2ms/step - loss: 0.7894 - accuracy: 0.7121 - val_loss: 0.7835 - val_accuracy: 0.7131\n",
            "Epoch 60/100\n",
            "909/909 [==============================] - 2s 2ms/step - loss: 0.7861 - accuracy: 0.7124 - val_loss: 0.7758 - val_accuracy: 0.7254\n",
            "Epoch 61/100\n",
            "909/909 [==============================] - 1s 2ms/step - loss: 0.7868 - accuracy: 0.7129 - val_loss: 0.7804 - val_accuracy: 0.6976\n",
            "Epoch 62/100\n",
            "909/909 [==============================] - 2s 2ms/step - loss: 0.7858 - accuracy: 0.7116 - val_loss: 0.7939 - val_accuracy: 0.7153\n",
            "Epoch 63/100\n",
            "909/909 [==============================] - 2s 2ms/step - loss: 0.7823 - accuracy: 0.7140 - val_loss: 0.7703 - val_accuracy: 0.7252\n",
            "Epoch 64/100\n",
            "909/909 [==============================] - 2s 2ms/step - loss: 0.7824 - accuracy: 0.7136 - val_loss: 0.7790 - val_accuracy: 0.7376\n",
            "Epoch 65/100\n",
            "909/909 [==============================] - 2s 2ms/step - loss: 0.7789 - accuracy: 0.7147 - val_loss: 0.8131 - val_accuracy: 0.6845\n",
            "Epoch 66/100\n",
            "909/909 [==============================] - 2s 2ms/step - loss: 0.7806 - accuracy: 0.7166 - val_loss: 0.7759 - val_accuracy: 0.7199\n",
            "Epoch 67/100\n",
            "909/909 [==============================] - 1s 2ms/step - loss: 0.7804 - accuracy: 0.7150 - val_loss: 0.7778 - val_accuracy: 0.6954\n",
            "Epoch 68/100\n",
            "909/909 [==============================] - 2s 2ms/step - loss: 0.7755 - accuracy: 0.7180 - val_loss: 0.7949 - val_accuracy: 0.6952\n",
            "Epoch 69/100\n",
            "909/909 [==============================] - 2s 2ms/step - loss: 0.7747 - accuracy: 0.7176 - val_loss: 0.7637 - val_accuracy: 0.7289\n",
            "Epoch 70/100\n",
            "909/909 [==============================] - 2s 2ms/step - loss: 0.7740 - accuracy: 0.7182 - val_loss: 0.8108 - val_accuracy: 0.6947\n",
            "Epoch 71/100\n",
            "909/909 [==============================] - 2s 2ms/step - loss: 0.7727 - accuracy: 0.7181 - val_loss: 0.7601 - val_accuracy: 0.7277\n",
            "Epoch 72/100\n",
            "909/909 [==============================] - 2s 2ms/step - loss: 0.7733 - accuracy: 0.7166 - val_loss: 0.7696 - val_accuracy: 0.6985\n",
            "Epoch 73/100\n",
            "909/909 [==============================] - 2s 2ms/step - loss: 0.7695 - accuracy: 0.7196 - val_loss: 0.7678 - val_accuracy: 0.7327\n",
            "Epoch 74/100\n",
            "909/909 [==============================] - 1s 2ms/step - loss: 0.7704 - accuracy: 0.7197 - val_loss: 0.7600 - val_accuracy: 0.7338\n",
            "Epoch 75/100\n",
            "909/909 [==============================] - 2s 2ms/step - loss: 0.7689 - accuracy: 0.7202 - val_loss: 0.7594 - val_accuracy: 0.7229\n",
            "Epoch 76/100\n",
            "909/909 [==============================] - 2s 2ms/step - loss: 0.7670 - accuracy: 0.7199 - val_loss: 0.7925 - val_accuracy: 0.7127\n",
            "Epoch 77/100\n",
            "909/909 [==============================] - 2s 2ms/step - loss: 0.7666 - accuracy: 0.7207 - val_loss: 0.7652 - val_accuracy: 0.7203\n",
            "Epoch 78/100\n",
            "909/909 [==============================] - 1s 2ms/step - loss: 0.7684 - accuracy: 0.7197 - val_loss: 0.7641 - val_accuracy: 0.7170\n",
            "Epoch 79/100\n",
            "909/909 [==============================] - 2s 2ms/step - loss: 0.7639 - accuracy: 0.7230 - val_loss: 0.7598 - val_accuracy: 0.7312\n",
            "Epoch 80/100\n",
            "909/909 [==============================] - 2s 2ms/step - loss: 0.7645 - accuracy: 0.7217 - val_loss: 0.7559 - val_accuracy: 0.7221\n",
            "Epoch 81/100\n",
            "909/909 [==============================] - 2s 2ms/step - loss: 0.7634 - accuracy: 0.7227 - val_loss: 0.7688 - val_accuracy: 0.7029\n",
            "Epoch 82/100\n",
            "909/909 [==============================] - 1s 2ms/step - loss: 0.7629 - accuracy: 0.7228 - val_loss: 0.7656 - val_accuracy: 0.7367\n",
            "Epoch 83/100\n",
            "909/909 [==============================] - 2s 2ms/step - loss: 0.7617 - accuracy: 0.7229 - val_loss: 0.7602 - val_accuracy: 0.7375\n",
            "Epoch 84/100\n",
            "909/909 [==============================] - 2s 2ms/step - loss: 0.7625 - accuracy: 0.7239 - val_loss: 0.7687 - val_accuracy: 0.7270\n",
            "Epoch 85/100\n",
            "909/909 [==============================] - 1s 2ms/step - loss: 0.7584 - accuracy: 0.7248 - val_loss: 0.7596 - val_accuracy: 0.7196\n",
            "Epoch 86/100\n",
            "909/909 [==============================] - 2s 2ms/step - loss: 0.7578 - accuracy: 0.7247 - val_loss: 0.7590 - val_accuracy: 0.7323\n",
            "Epoch 87/100\n",
            "909/909 [==============================] - 2s 2ms/step - loss: 0.7560 - accuracy: 0.7261 - val_loss: 0.7798 - val_accuracy: 0.7233\n",
            "Epoch 88/100\n",
            "909/909 [==============================] - 2s 2ms/step - loss: 0.7563 - accuracy: 0.7265 - val_loss: 0.7457 - val_accuracy: 0.7317\n",
            "Epoch 89/100\n",
            "909/909 [==============================] - 2s 2ms/step - loss: 0.7561 - accuracy: 0.7256 - val_loss: 0.7562 - val_accuracy: 0.7369\n",
            "Epoch 90/100\n",
            "909/909 [==============================] - 2s 2ms/step - loss: 0.7552 - accuracy: 0.7255 - val_loss: 0.7553 - val_accuracy: 0.7272\n",
            "Epoch 91/100\n",
            "909/909 [==============================] - 1s 2ms/step - loss: 0.7573 - accuracy: 0.7250 - val_loss: 0.7579 - val_accuracy: 0.7482\n",
            "Epoch 92/100\n",
            "909/909 [==============================] - 2s 2ms/step - loss: 0.7562 - accuracy: 0.7250 - val_loss: 0.7654 - val_accuracy: 0.7477\n",
            "Epoch 93/100\n",
            "909/909 [==============================] - 2s 2ms/step - loss: 0.7521 - accuracy: 0.7277 - val_loss: 0.7500 - val_accuracy: 0.7283\n",
            "Epoch 94/100\n",
            "909/909 [==============================] - 2s 2ms/step - loss: 0.7496 - accuracy: 0.7289 - val_loss: 0.7395 - val_accuracy: 0.7300\n",
            "Epoch 95/100\n",
            "909/909 [==============================] - 2s 2ms/step - loss: 0.7527 - accuracy: 0.7271 - val_loss: 0.7426 - val_accuracy: 0.7210\n",
            "Epoch 96/100\n",
            "909/909 [==============================] - 2s 2ms/step - loss: 0.7511 - accuracy: 0.7271 - val_loss: 0.7416 - val_accuracy: 0.7289\n",
            "Epoch 97/100\n",
            "909/909 [==============================] - 2s 2ms/step - loss: 0.7495 - accuracy: 0.7291 - val_loss: 0.7432 - val_accuracy: 0.7267\n",
            "Epoch 98/100\n",
            "909/909 [==============================] - 2s 2ms/step - loss: 0.7497 - accuracy: 0.7294 - val_loss: 0.7392 - val_accuracy: 0.7367\n",
            "Epoch 99/100\n",
            "909/909 [==============================] - 2s 2ms/step - loss: 0.7476 - accuracy: 0.7295 - val_loss: 0.7389 - val_accuracy: 0.7411\n",
            "Epoch 100/100\n",
            "909/909 [==============================] - 2s 2ms/step - loss: 0.7473 - accuracy: 0.7299 - val_loss: 0.7377 - val_accuracy: 0.7376\n"
          ],
          "name": "stdout"
        }
      ]
    },
    {
      "cell_type": "markdown",
      "metadata": {
        "id": "HEkHtdUViIsq"
      },
      "source": [
        "### Reshape the data for Machine Learning"
      ]
    },
    {
      "cell_type": "code",
      "metadata": {
        "colab": {
          "base_uri": "https://localhost:8080/"
        },
        "id": "8jETfwKWiOMs",
        "outputId": "cd8f96a8-b22e-4d1e-f580-9216a61371c1"
      },
      "source": [
        "train_scaled22 = train_scaled2.reshape(-1, 17)\n",
        "val_scaled22 = val_scaled2.reshape(-1, 17)\n",
        "print(train_scaled22.shape, val_scaled22.shape)"
      ],
      "execution_count": null,
      "outputs": [
        {
          "output_type": "stream",
          "text": [
            "(29068, 17) (7268, 17)\n"
          ],
          "name": "stdout"
        }
      ]
    },
    {
      "cell_type": "markdown",
      "metadata": {
        "id": "uRlURoBjYUUy"
      },
      "source": [
        "#### Random Forest"
      ]
    },
    {
      "cell_type": "code",
      "metadata": {
        "colab": {
          "base_uri": "https://localhost:8080/"
        },
        "id": "LMEoiehWicVK",
        "outputId": "aebabcd9-d700-40ef-c691-119af042b09f"
      },
      "source": [
        "rf2 = RandomForestClassifier(n_jobs=-1, oob_score=True)\n",
        "print(rf2)"
      ],
      "execution_count": null,
      "outputs": [
        {
          "output_type": "stream",
          "text": [
            "RandomForestClassifier(bootstrap=True, ccp_alpha=0.0, class_weight=None,\n",
            "                       criterion='gini', max_depth=None, max_features='auto',\n",
            "                       max_leaf_nodes=None, max_samples=None,\n",
            "                       min_impurity_decrease=0.0, min_impurity_split=None,\n",
            "                       min_samples_leaf=1, min_samples_split=2,\n",
            "                       min_weight_fraction_leaf=0.0, n_estimators=100,\n",
            "                       n_jobs=-1, oob_score=True, random_state=None, verbose=0,\n",
            "                       warm_start=False)\n"
          ],
          "name": "stdout"
        }
      ]
    },
    {
      "cell_type": "code",
      "metadata": {
        "colab": {
          "base_uri": "https://localhost:8080/"
        },
        "id": "JqpjJx44ihOr",
        "outputId": "b9e8338c-27ce-44dc-88fe-6c93e9207531"
      },
      "source": [
        "rf2.fit(train_scaled22, train_target2)"
      ],
      "execution_count": null,
      "outputs": [
        {
          "output_type": "execute_result",
          "data": {
            "text/plain": [
              "RandomForestClassifier(bootstrap=True, ccp_alpha=0.0, class_weight=None,\n",
              "                       criterion='gini', max_depth=None, max_features='auto',\n",
              "                       max_leaf_nodes=None, max_samples=None,\n",
              "                       min_impurity_decrease=0.0, min_impurity_split=None,\n",
              "                       min_samples_leaf=1, min_samples_split=2,\n",
              "                       min_weight_fraction_leaf=0.0, n_estimators=100,\n",
              "                       n_jobs=-1, oob_score=True, random_state=None, verbose=0,\n",
              "                       warm_start=False)"
            ]
          },
          "metadata": {
            "tags": []
          },
          "execution_count": 81
        }
      ]
    },
    {
      "cell_type": "code",
      "metadata": {
        "colab": {
          "base_uri": "https://localhost:8080/"
        },
        "id": "T0p7iU9tjV1M",
        "outputId": "c390c0ca-cdd1-4f62-b984-aed2feb1d47c"
      },
      "source": [
        "rf2_train = rf2.score(train_scaled22, train_target2)\n",
        "rf2_val = rf2.score(val_scaled22, val_target2) \n",
        "print(rf2_train, rf2_val)"
      ],
      "execution_count": null,
      "outputs": [
        {
          "output_type": "stream",
          "text": [
            "1.0 0.9969730324711062\n"
          ],
          "name": "stdout"
        }
      ]
    },
    {
      "cell_type": "markdown",
      "metadata": {
        "id": "wcYEc1-FYV0c"
      },
      "source": [
        "#### Support Vector machine"
      ]
    },
    {
      "cell_type": "code",
      "metadata": {
        "colab": {
          "base_uri": "https://localhost:8080/"
        },
        "id": "03xiEZrnjmig",
        "outputId": "4d31b0b2-b83a-4ad7-93ed-c35c553d0534"
      },
      "source": [
        "svm2 = svm.LinearSVC(C = 1.0, max_iter = 10000)\n",
        "svm2.fit(train_scaled22, train_target2)"
      ],
      "execution_count": null,
      "outputs": [
        {
          "output_type": "execute_result",
          "data": {
            "text/plain": [
              "LinearSVC(C=1.0, class_weight=None, dual=True, fit_intercept=True,\n",
              "          intercept_scaling=1, loss='squared_hinge', max_iter=10000,\n",
              "          multi_class='ovr', penalty='l2', random_state=None, tol=0.0001,\n",
              "          verbose=0)"
            ]
          },
          "metadata": {
            "tags": []
          },
          "execution_count": 83
        }
      ]
    },
    {
      "cell_type": "code",
      "metadata": {
        "colab": {
          "base_uri": "https://localhost:8080/"
        },
        "id": "c0vknUsojo4y",
        "outputId": "d8639619-7044-45f9-8f25-533e111fbfce"
      },
      "source": [
        "svm2_train = svm2.score(train_scaled22, train_target2)\n",
        "svm2_val = svm2.score(val_scaled22, val_target2)\n",
        "print(svm2_train ,svm2_val)"
      ],
      "execution_count": null,
      "outputs": [
        {
          "output_type": "stream",
          "text": [
            "0.679475712123297 0.6773527793065492\n"
          ],
          "name": "stdout"
        }
      ]
    },
    {
      "cell_type": "code",
      "metadata": {
        "colab": {
          "base_uri": "https://localhost:8080/"
        },
        "id": "QzCLsZA9jzzt",
        "outputId": "ecbab178-03c7-49c7-df11-4c15a23c9ad6"
      },
      "source": [
        "svm22 = svm.SVC(kernel = 'rbf', gamma = 0.7, C = 1.0)\n",
        "svm22.fit(train_scaled22, train_target2)"
      ],
      "execution_count": null,
      "outputs": [
        {
          "output_type": "execute_result",
          "data": {
            "text/plain": [
              "SVC(C=1.0, break_ties=False, cache_size=200, class_weight=None, coef0=0.0,\n",
              "    decision_function_shape='ovr', degree=3, gamma=0.7, kernel='rbf',\n",
              "    max_iter=-1, probability=False, random_state=None, shrinking=True,\n",
              "    tol=0.001, verbose=False)"
            ]
          },
          "metadata": {
            "tags": []
          },
          "execution_count": 85
        }
      ]
    },
    {
      "cell_type": "code",
      "metadata": {
        "colab": {
          "base_uri": "https://localhost:8080/"
        },
        "id": "S5RZXVv6j1tG",
        "outputId": "41499c7c-67e9-4194-d898-7e5cc067786f"
      },
      "source": [
        "svm22_train = svm22.score(train_scaled22, train_target2)\n",
        "svm22_val = svm22.score(val_scaled22, val_target2)\n",
        "print(svm22_train, svm22_val)"
      ],
      "execution_count": null,
      "outputs": [
        {
          "output_type": "stream",
          "text": [
            "0.679475712123297 0.6773527793065492\n"
          ],
          "name": "stdout"
        }
      ]
    },
    {
      "cell_type": "code",
      "metadata": {
        "colab": {
          "base_uri": "https://localhost:8080/"
        },
        "id": "p_txdghWj31k",
        "outputId": "87be9a04-e396-469c-f524-82b352396783"
      },
      "source": [
        "svm23 = svm.SVC(kernel = 'poly', degree = 3, gamma = 'auto', C = 1.0)\n",
        "svm23.fit(train_scaled22, train_target2)"
      ],
      "execution_count": null,
      "outputs": [
        {
          "output_type": "execute_result",
          "data": {
            "text/plain": [
              "SVC(C=1.0, break_ties=False, cache_size=200, class_weight=None, coef0=0.0,\n",
              "    decision_function_shape='ovr', degree=3, gamma='auto', kernel='poly',\n",
              "    max_iter=-1, probability=False, random_state=None, shrinking=True,\n",
              "    tol=0.001, verbose=False)"
            ]
          },
          "metadata": {
            "tags": []
          },
          "execution_count": 87
        }
      ]
    },
    {
      "cell_type": "code",
      "metadata": {
        "colab": {
          "base_uri": "https://localhost:8080/"
        },
        "id": "oNCnKaqCj6HG",
        "outputId": "95837937-7d6e-4088-d950-a4eea31936ed"
      },
      "source": [
        "svm23_train = svm23.score(train_scaled22, train_target2)\n",
        "svm23_val = svm23.score(val_scaled22, val_target2)\n",
        "print(svm23_train, svm23_val)"
      ],
      "execution_count": null,
      "outputs": [
        {
          "output_type": "stream",
          "text": [
            "0.679475712123297 0.6773527793065492\n"
          ],
          "name": "stdout"
        }
      ]
    },
    {
      "cell_type": "markdown",
      "metadata": {
        "id": "yTMhCcCPYYNk"
      },
      "source": [
        "#### Logistic Regression"
      ]
    },
    {
      "cell_type": "code",
      "metadata": {
        "colab": {
          "base_uri": "https://localhost:8080/"
        },
        "id": "N_-aRQZgj8lR",
        "outputId": "9fd040ff-4353-4cc7-9b22-323144478f0e"
      },
      "source": [
        "lr2 = LogisticRegression(max_iter = 2000)\n",
        "splitter = StratifiedKFold(n_splits= 5)\n",
        "lr2_score = cross_validate(lr2, train_scaled22, train_target2, cv = splitter, return_train_score = True, return_estimator= True)"
      ],
      "execution_count": null,
      "outputs": [
        {
          "output_type": "stream",
          "text": [
            "/usr/local/lib/python3.7/dist-packages/sklearn/model_selection/_split.py:667: UserWarning: The least populated class in y has only 2 members, which is less than n_splits=5.\n",
            "  % (min_groups, self.n_splits)), UserWarning)\n"
          ],
          "name": "stderr"
        }
      ]
    },
    {
      "cell_type": "code",
      "metadata": {
        "colab": {
          "base_uri": "https://localhost:8080/"
        },
        "id": "kzN8lCAQkk_J",
        "outputId": "6c99a1d0-ab54-4ab0-d858-b6e2c8bfab7a"
      },
      "source": [
        "print(np.mean(lr2_score['train_score']), np.mean(lr2_score['test_score']))"
      ],
      "execution_count": null,
      "outputs": [
        {
          "output_type": "stream",
          "text": [
            "0.6794757122769187 0.6794757145813468\n"
          ],
          "name": "stdout"
        }
      ]
    },
    {
      "cell_type": "code",
      "metadata": {
        "id": "KbI4GiqmhW_J"
      },
      "source": [
        "lr21 = LogisticRegression(max_iter = 2000)\n",
        "lr21.fit(train_scaled22,train_target2)\n",
        "lr21_train = lr21.score(train_scaled22, train_target2)\n",
        "lr21_val = lr21.score(val_scaled22, val_target2)"
      ],
      "execution_count": null,
      "outputs": []
    },
    {
      "cell_type": "code",
      "metadata": {
        "colab": {
          "base_uri": "https://localhost:8080/"
        },
        "id": "E9DJjbgOhtAf",
        "outputId": "af9e5314-aa45-4227-9fe9-0c89170fa50c"
      },
      "source": [
        "print(lr21_train, lr21_val)"
      ],
      "execution_count": null,
      "outputs": [
        {
          "output_type": "stream",
          "text": [
            "0.679475712123297 0.6773527793065492\n"
          ],
          "name": "stdout"
        }
      ]
    },
    {
      "cell_type": "markdown",
      "metadata": {
        "id": "qoCH2QIznkQY"
      },
      "source": [
        "## Test the models"
      ]
    },
    {
      "cell_type": "code",
      "metadata": {
        "colab": {
          "base_uri": "https://localhost:8080/"
        },
        "id": "HZEswrdPn9oq",
        "outputId": "457fd340-c94f-46e6-db0f-10ec693e9f05"
      },
      "source": [
        "cnn1_score = cnn1.evaluate(test_scaled1, test_target1)\n",
        "ann1_score = ann1.evaluate(test_scaled1, test_target1)\n",
        "test_scaled11 = test_scaled1.reshape(-1, 28)\n",
        "rf1_score = rf1.score(test_scaled11, test_target1)\n",
        "svm1_score = svm1.score(test_scaled11, test_target1)\n",
        "svm12_score = svm12.score(test_scaled11, test_target1)\n",
        "svm13_score = svm13.score(test_scaled11, test_target1)\n",
        "lr11_score = lr11.score(test_scaled11, test_target1)\n"
      ],
      "execution_count": null,
      "outputs": [
        {
          "output_type": "stream",
          "text": [
            "284/284 [==============================] - 0s 2ms/step - loss: 0.1501 - accuracy: 0.9414\n",
            "284/284 [==============================] - 0s 1ms/step - loss: 0.3508 - accuracy: 0.8961\n"
          ],
          "name": "stdout"
        }
      ]
    },
    {
      "cell_type": "code",
      "metadata": {
        "id": "rcZlot3XpDey",
        "colab": {
          "base_uri": "https://localhost:8080/"
        },
        "outputId": "a6b0474f-d0fb-4f2a-808e-57430b20544d"
      },
      "source": [
        "cnn2_score = cnn2.evaluate(test_scaled2, test_target2)\n",
        "ann2_score = ann2.evaluate(test_scaled2, test_target2)\n",
        "test_scaled22 = test_scaled2.reshape(-1, 17)\n",
        "rf2_score = rf2.score(test_scaled22, test_target2)\n",
        "svm2_score = svm2.score(test_scaled22, test_target2)\n",
        "svm22_score = svm22.score(test_scaled22, test_target2)\n",
        "svm23_score = svm23.score(test_scaled22, test_target2)\n",
        "lr21_score = lr21.score(test_scaled22, test_target2)"
      ],
      "execution_count": null,
      "outputs": [
        {
          "output_type": "stream",
          "text": [
            "284/284 [==============================] - 1s 2ms/step - loss: 0.4310 - accuracy: 0.8187\n",
            "284/284 [==============================] - 0s 1ms/step - loss: 0.7390 - accuracy: 0.7372\n"
          ],
          "name": "stdout"
        }
      ]
    },
    {
      "cell_type": "markdown",
      "metadata": {
        "id": "DeOSBNp0neUl"
      },
      "source": [
        "## Visualize the result"
      ]
    },
    {
      "cell_type": "code",
      "metadata": {
        "colab": {
          "base_uri": "https://localhost:8080/",
          "height": 334
        },
        "id": "4GprVrOnVaZ7",
        "outputId": "cc432b97-e64f-4d7e-db81-8e59ec4b4c4b"
      },
      "source": [
        "color_map = ('indianred', 'darkorange', 'forestgreen', 'darkslateblue')\n",
        "plt.figure(figsize = (15, 5))\n",
        "plt.plot(cnn1_history.history['accuracy'], color = color_map[0], label = 'train_cnn')\n",
        "plt.plot(ann1_history.history['accuracy'], color = color_map[1], label = 'train_ann')\n",
        "plt.plot(cnn1_history.history['val_accuracy'], color = color_map[0], label = 'val_cnn', linestyle = '-.')\n",
        "plt.plot(ann1_history.history['val_accuracy'], color = color_map[1], label = 'val_ann', linestyle = '-.')\n",
        "plt.xlabel('epoch')\n",
        "plt.ylabel('accuracy')\n",
        "plt.legend()\n",
        "plt.savefig('./PRONTO_failure_result.png')\n",
        "plt.show()"
      ],
      "execution_count": null,
      "outputs": [
        {
          "output_type": "display_data",
          "data": {
            "image/png": "[encoded data removed]",
            "text/plain": [
              "<Figure size 1080x360 with 1 Axes>"
            ]
          },
          "metadata": {
            "tags": [],
            "needs_background": "light"
          }
        }
      ]
    },
    {
      "cell_type": "code",
      "metadata": {
        "id": "0K2cJYfGbmw-"
      },
      "source": [
        "infile = open('./PRONTO_result.tsv', 'w')\n",
        "infile.write('\\tCNN \\tANN \\t Random Forest \\t SVM(linear) \\tSVM(rbf)\\t SVM(poly)\\t Logistic Regression\\n')\n",
        "infile.write('failure\\n')\n",
        "infile.write('train\\t{:.3f}\\t{:.3f}\\t{:.3f}\\t{:.3f}\\t{:.3f}\\t{:.3f}\\t{:.3f}\\n'.format(statistics.mean(cnn1_history.history['accuracy']), statistics.mean(ann1_history.history['accuracy']), rf1_train, svm1_train, svm12_train, svm13_train, lr11_train))\n",
        "infile.write('val\\t{:.3f}\\t{:.3f}\\t{:.3f}\\t{:.3f}\\t{:.3f}\\t{:.3f}\\t{:.3f}\\n'.format(statistics.mean(cnn1_history.history['val_accuracy']), statistics.mean(ann1_history.history['val_accuracy']), rf1_val, svm1_val, svm12_val, svm13_val, lr11_val))\n",
        "infile.write('test\\t{:.3f}\\t{:.3f}\\t{:.3f}\\t{:.3f}\\t{:.3f}\\t{:.3f}\\t{:.3f}\\n'.format(cnn1_score[1], ann1_score[1], rf1_score, svm1_score, svm12_score, svm13_score, lr11_score))\n",
        "infile.write('alarm\\n')\n",
        "infile.write('train\\t{:.3f}\\t{:.3f}\\t{:.3f}\\t{:.3f}\\t{:.3f}\\t{:.3f}\\t{:.3f}\\n'.format(statistics.mean(cnn2_history.history['accuracy']), statistics.mean(ann2_history.history['accuracy']), rf2_train, svm2_train, svm22_train, svm23_train, lr21_train))\n",
        "infile.write('val\\t{:.3f}\\t{:.3f}\\t{:.3f}\\t{:.3f}\\t{:.3f}\\t{:.3f}\\t{:.3f}\\n'.format(statistics.mean(cnn2_history.history['val_accuracy']), statistics.mean(ann2_history.history['val_accuracy']), rf2_val, svm2_val, svm22_val, svm23_val, lr21_val))\n",
        "infile.write('test\\t{:.3f}\\t{:.3f}\\t{:.3f}\\t{:.3f}\\t{:.3f}\\t{:.3f}\\t{:.3f}\\n'.format(cnn2_score[1], ann2_score[1], rf2_score, svm2_score, svm22_score, svm23_score, lr21_score))\n",
        "infile.close()"
      ],
      "execution_count": null,
      "outputs": []
    },
    {
      "cell_type": "code",
      "metadata": {
        "id": "cOlSx3LWkUEN"
      },
      "source": [
        ""
      ],
      "execution_count": null,
      "outputs": []
    }
  ]
}